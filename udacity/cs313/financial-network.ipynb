{
 "cells": [
  {
   "cell_type": "markdown",
   "id": "ecb8fde2-bc8b-4f6f-8ae4-fc2f8a72be56",
   "metadata": {},
   "source": [
    "# Investiments Network"
   ]
  },
  {
   "cell_type": "markdown",
   "id": "26021b66-2c37-4eea-b0e9-b828a5efbd93",
   "metadata": {},
   "source": [
    "![image](images/financial-network-1.png)"
   ]
  },
  {
   "cell_type": "code",
   "execution_count": 1,
   "id": "eec7d834-169f-4cb1-bcf1-ccf1bec3988d",
   "metadata": {},
   "outputs": [],
   "source": [
    "from collections import defaultdict"
   ]
  },
  {
   "cell_type": "code",
   "execution_count": 9,
   "id": "2ad90e6d-2890-4800-9b1a-f810aec43de2",
   "metadata": {},
   "outputs": [],
   "source": [
    "a, b, c, d, e, f, g = \"abcdefg\"\n",
    "all_nodes = {a, b, c, d, e, f, g}\n",
    "\n",
    "network = {\n",
    "    a: {b, c},\n",
    "    b: {a, b, c, d},\n",
    "    c: {a, b, d, e},\n",
    "    d: {b, c, e, f, g},\n",
    "    e: {c, d, f},\n",
    "    f: {d, e},\n",
    "    g: {d},\n",
    "}"
   ]
  },
  {
   "cell_type": "code",
   "execution_count": 11,
   "id": "76655c2a-73a5-4c4a-b298-66e3fe273f5b",
   "metadata": {},
   "outputs": [
    {
     "data": {
      "text/plain": [
       "defaultdict(list, {2: ['a', 'f'], 4: ['b', 'c'], 5: ['d'], 3: ['e'], 1: ['g']})"
      ]
     },
     "execution_count": 11,
     "metadata": {},
     "output_type": "execute_result"
    }
   ],
   "source": [
    "ranks = defaultdict(list)\n",
    "\n",
    "for k, v in network.items():\n",
    "    ranks[len(v)].append(k)\n",
    "\n",
    "ranks"
   ]
  },
  {
   "cell_type": "code",
   "execution_count": null,
   "id": "28e6408e-43fc-4146-a210-2bff68838c5d",
   "metadata": {},
   "outputs": [],
   "source": [
    "covered = set()\n",
    "selected_nodes = []\n",
    "\n",
    "done = False\n",
    "\n",
    "for rank in sorted(ranks):\n",
    "    if done:\n",
    "        break\n",
    "    for node in ranks[rank]:\n",
    "        covered |= set(network[node])\n",
    "        selected_nodes.append(node)\n",
    "        if covered == all_nodes:\n",
    "            done = True\n",
    "            break\n",
    "\n",
    "selected_nodes"
   ]
  },
  {
   "cell_type": "markdown",
   "id": "58e994d0-27a9-4ccb-b410-e4b264e6a406",
   "metadata": {},
   "source": [
    "## Independet Set"
   ]
  },
  {
   "cell_type": "code",
   "execution_count": 21,
   "id": "d863a391-5dab-484a-9ceb-f0f796282a42",
   "metadata": {},
   "outputs": [],
   "source": [
    "a, b, c, d, e, f, g = \"abcdefg\"\n",
    "all_nodes = {a, b, c, d, e, f, g}\n",
    "\n",
    "network = {\n",
    "    a: {d, e, f},\n",
    "    b: set(),\n",
    "    c: {d},\n",
    "    d: {a, c, f},\n",
    "    e: {a},\n",
    "    f: {a, d},\n",
    "}"
   ]
  },
  {
   "cell_type": "code",
   "execution_count": 26,
   "id": "1bd0f376-134c-426c-b2b5-70b3af73efae",
   "metadata": {},
   "outputs": [
    {
     "data": {
      "text/plain": [
       "{'b'}"
      ]
     },
     "execution_count": 26,
     "metadata": {},
     "output_type": "execute_result"
    }
   ],
   "source": [
    "selected_nodes = []\n",
    "\n",
    "def get_all_non_connected(selected, graph):\n",
    "    # print(selected.center(80, \"=\"))\n",
    "    initial_set = graph[selected] | {selected}\n",
    "    result = set(initial_set)\n",
    "    \n",
    "    for node in initial_set:\n",
    "        nodes = graph[node] | {node}\n",
    "        result |= nodes\n",
    "        # print(f\"node: {node}\", initial_set, nodes, result)\n",
    "\n",
    "    return result\n",
    "\n",
    "\n",
    "for node in sorted(network, reverse=False, key=lambda v: len(network[v])):\n",
    "    selected_nodes.append(get_all_non_connected(node, network))\n",
    "\n",
    "max(selected_nodes)"
   ]
  }
 ],
 "metadata": {
  "kernelspec": {
   "display_name": "Python 3 (ipykernel)",
   "language": "python",
   "name": "python3"
  },
  "language_info": {
   "codemirror_mode": {
    "name": "ipython",
    "version": 3
   },
   "file_extension": ".py",
   "mimetype": "text/x-python",
   "name": "python",
   "nbconvert_exporter": "python",
   "pygments_lexer": "ipython3",
   "version": "3.11.6"
  }
 },
 "nbformat": 4,
 "nbformat_minor": 5
}
