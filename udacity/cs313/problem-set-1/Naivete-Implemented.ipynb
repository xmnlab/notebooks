{
 "cells": [
  {
   "cell_type": "code",
   "execution_count": 16,
   "id": "c011451b-9d68-483f-906a-40941dc63f5f",
   "metadata": {},
   "outputs": [],
   "source": [
    "# Write two functions, the first, validity_check which takes a potential\n",
    "# cover and the adjacency matrix of a graph as its inputs and returns True\n",
    "# if the potential cover is a cover of the graph and False otherwise.\n",
    "# The second, vertex_cover_naive, takes the adjacency matrix of a graph\n",
    "# as its input, checks all potential covers, and returns the size of a\n",
    "# minimum vertex cover. You should assume there are no loops in the graph.\n",
    "\n",
    "from itertools import *"
   ]
  },
  {
   "cell_type": "code",
   "execution_count": 1,
   "id": "85321cfc-b7e0-4738-be01-2b51e63c9e25",
   "metadata": {},
   "outputs": [],
   "source": [
    "GRAPH_TEST = [\n",
    "    [0, 1, 1, 1, 1],\n",
    "    [1, 0, 0, 0, 1],\n",
    "    [1, 0, 0, 1, 1],\n",
    "    [1, 0, 1, 0, 1],\n",
    "    [1, 1, 1, 1, 0]\n",
    "]"
   ]
  },
  {
   "cell_type": "code",
   "execution_count": 28,
   "id": "03c6cb1e-2139-4bd7-83b8-34e5caa656c6",
   "metadata": {},
   "outputs": [],
   "source": [
    "def validity_check(cover, graph):\n",
    "    n = len(cover)\n",
    "    \n",
    "    cover_graph = [[]] * n\n",
    "    for i in range(n):\n",
    "        cover_graph[i] = list(graph[i])\n",
    "    # assert cover_graph == graph\n",
    "    \n",
    "    for i in range(n):\n",
    "        for j in range(n-1):\n",
    "            if cover[i] == 0 and cover[j] == 0:\n",
    "                continue\n",
    "            cover_graph[i][j] = 0\n",
    "            cover_graph[j][i] = 0\n",
    "    return sum(sum(cover_graph, [])) == 0\n",
    "\n",
    "def vertex_cover_naive(input_graph):\n",
    "    n = len(input_graph)\n",
    "    minimum_vertex_cover = n\n",
    "    # loops through all strings of 0s and 1s of length n\n",
    "    for assignment in product([0,1], repeat=n):\n",
    "        # Based on the assignment (a list of 0s and 1s)\n",
    "        # - Check the assignment is valid\n",
    "        if not validity_check(assignment, input_graph):\n",
    "            continue\n",
    "        # - Calculate the size of assignment\n",
    "        new_min = sum(assignment)\n",
    "        # - Update the minimum_vertex_cover variable if appropriate\n",
    "        minimum_vertex_cover = min(minimum_vertex_cover, new_min)\n",
    "\n",
    "    # End of your code\n",
    "    return minimum_vertex_cover\n",
    "\n",
    "def test():\n",
    "    graph = [\n",
    "        [0, 1, 1, 1, 1],\n",
    "        [1, 0, 0, 0, 1],\n",
    "        [1, 0, 0, 1, 1],\n",
    "        [1, 0, 1, 0, 1],\n",
    "        [1, 1, 1, 1, 0]\n",
    "    ]\n",
    "\n",
    "    result = vertex_cover_naive(graph)\n",
    "    assert result==3, f\"vertex_cover_naive(graph)={result}, but it should result 3\"\n",
    "\n",
    "    graph = [[0, 1, 0], [1, 0, 1], [0, 1, 0]]\n",
    "    result = vertex_cover_naive(graph)\n",
    "    assert result==1, f\"vertex_cover_naive(graph)={result}, but it should result 1\"\n",
    "\n",
    "# If you've not seen testing like this before, all you need to do is\n",
    "# to call test(). If the tests pass, you'll get no output. If they don't\n",
    "# you'll get an assertion error. Don't forget to remove the call to the\n",
    "# test before submitting your code.\n",
    "\n",
    "test()"
   ]
  }
 ],
 "metadata": {
  "kernelspec": {
   "display_name": "Python 3 (ipykernel)",
   "language": "python",
   "name": "python3"
  },
  "language_info": {
   "codemirror_mode": {
    "name": "ipython",
    "version": 3
   },
   "file_extension": ".py",
   "mimetype": "text/x-python",
   "name": "python",
   "nbconvert_exporter": "python",
   "pygments_lexer": "ipython3",
   "version": "3.11.6"
  }
 },
 "nbformat": 4,
 "nbformat_minor": 5
}
