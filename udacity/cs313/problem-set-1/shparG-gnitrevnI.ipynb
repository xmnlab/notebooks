{
 "cells": [
  {
   "cell_type": "markdown",
   "id": "124f2618-19bb-4505-9bea-2d83c8715063",
   "metadata": {},
   "source": [
    "# shparG gnitrevnI"
   ]
  },
  {
   "cell_type": "code",
   "execution_count": 1,
   "id": "833e026a-4214-48f9-aaef-543076979d7e",
   "metadata": {},
   "outputs": [],
   "source": [
    "# Write a function inverse_graph which takes as its input the\n",
    "# adjacency matrix of a graph and returns the adjacency matrix\n",
    "# of the inverse graph.\n",
    "def inverse_graph(graph):\n",
    "    m = len(graph)\n",
    "    # it is a square matrix\n",
    "    n = m\n",
    "    \n",
    "    new_graph = [[0]] * m\n",
    "    for i in range(m):\n",
    "        new_graph[i] = [0] * n\n",
    "\n",
    "    for m_i in range(m):\n",
    "        for n_i in range(n):\n",
    "            if m_i == n_i:\n",
    "                new_graph[m_i][n_i] = 0\n",
    "                continue\n",
    "            \n",
    "            new_graph[m_i][n_i] = 1 - graph[m_i][n_i]\n",
    "\n",
    "    return new_graph\n",
    "        \n",
    "\n",
    "def test():\n",
    "    g1 = [[0, 1, 1, 0],\n",
    "          [1, 0, 0, 1],\n",
    "          [1, 0, 0, 1],\n",
    "          [0, 1, 1, 0]]\n",
    "    assert inverse_graph(g1) == [[0, 0, 0, 1],\n",
    "                                 [0, 0, 1, 0],\n",
    "                                 [0, 1, 0, 0],\n",
    "                                 [1, 0, 0, 0]]\n",
    "    g2 = [[0, 1, 1, 1],\n",
    "          [1, 0, 1, 1],\n",
    "          [1, 1, 0, 1],\n",
    "          [1, 1, 1, 0]]\n",
    "    assert inverse_graph(g2) == [[0, 0, 0, 0],\n",
    "                                 [0, 0, 0, 0],\n",
    "                                 [0, 0, 0, 0],\n",
    "                                 [0, 0, 0, 0]]\n",
    "\n",
    "# If you've not seen testing like this before, all you need to do is\n",
    "# to call test(). If the tests pass, you'll get no output. If they don't\n",
    "# you'll get an assertion error. Don't forget to remove the call to the\n",
    "# test before submitting your code.\n",
    "\n",
    "test()\n"
   ]
  }
 ],
 "metadata": {
  "kernelspec": {
   "display_name": "Python 3 (ipykernel)",
   "language": "python",
   "name": "python3"
  },
  "language_info": {
   "codemirror_mode": {
    "name": "ipython",
    "version": 3
   },
   "file_extension": ".py",
   "mimetype": "text/x-python",
   "name": "python",
   "nbconvert_exporter": "python",
   "pygments_lexer": "ipython3",
   "version": "3.11.6"
  }
 },
 "nbformat": 4,
 "nbformat_minor": 5
}
