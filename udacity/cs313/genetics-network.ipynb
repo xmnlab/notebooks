{
 "cells": [
  {
   "cell_type": "markdown",
   "id": "d65fdf29-6271-4339-97df-6d8a38c23312",
   "metadata": {},
   "source": [
    "# Genetics Network"
   ]
  },
  {
   "cell_type": "markdown",
   "id": "49a9f2d7-5f0e-497f-a736-4062ffe1607f",
   "metadata": {},
   "source": [
    "![image](images/genetic-network-1.png)"
   ]
  },
  {
   "cell_type": "code",
   "execution_count": 1,
   "id": "337164c3-c722-45b6-8d57-1bc8e7f57e0f",
   "metadata": {},
   "outputs": [],
   "source": [
    "from collections import defaultdict"
   ]
  },
  {
   "cell_type": "code",
   "execution_count": 11,
   "id": "45f2454e-e4e4-429b-bf57-de13422f364e",
   "metadata": {},
   "outputs": [],
   "source": [
    "a, b, c, d, e, f, g, h, i = \"abcdefghi\"\n",
    "all_nodes = {a, b, c, d, e, f, g, h, i}\n",
    "\n",
    "network = {\n",
    "    a: {b, c},\n",
    "    b: {a, c, d, f, g},\n",
    "    c: {a, b, d, f, h},\n",
    "    d: {b, c, e, f},\n",
    "    e: {d, f},\n",
    "    f: {b, c, d, g, i},\n",
    "    g: {b, f, h, i},\n",
    "    h: {c, g, i},\n",
    "    i: {f, g, h},\n",
    "}"
   ]
  },
  {
   "cell_type": "code",
   "execution_count": 12,
   "id": "723ccf59-cd23-4f32-b9a2-2265f30f50d0",
   "metadata": {},
   "outputs": [
    {
     "data": {
      "text/plain": [
       "['b', 'c', 'f', 'd']"
      ]
     },
     "execution_count": 12,
     "metadata": {},
     "output_type": "execute_result"
    }
   ],
   "source": [
    "ranks = defaultdict(list)\n",
    "\n",
    "for k, v in network.items():\n",
    "    ranks[len(v)].append(k)\n",
    "\n",
    "covered = set()\n",
    "selected_nodes = []\n",
    "\n",
    "done = False\n",
    "\n",
    "for rank in sorted(ranks, reverse=True):\n",
    "    if done:\n",
    "        break\n",
    "    for node in ranks[rank]:\n",
    "        covered |= set(network[node])\n",
    "        selected_nodes.append(node)\n",
    "        if covered == all_nodes:\n",
    "            done = True\n",
    "            break\n",
    "\n",
    "selected_nodes"
   ]
  },
  {
   "cell_type": "markdown",
   "id": "5f7e28bf-988a-4987-94de-724f9f93b859",
   "metadata": {},
   "source": [
    "## Clique algorithm"
   ]
  },
  {
   "cell_type": "markdown",
   "id": "0bf68a2e-7161-4419-9870-9db67ab436b9",
   "metadata": {},
   "source": [
    "![image](images/genetic-network-2.png)"
   ]
  },
  {
   "cell_type": "code",
   "execution_count": 33,
   "id": "8fa80f39-090e-47c9-8d75-ff84e5046715",
   "metadata": {},
   "outputs": [],
   "source": [
    "a, b, c, d, e, f = \"abcdef\"\n",
    "all_nodes = {a, b, c, d, e, f}\n",
    "\n",
    "network = {\n",
    "    a: {b, c},\n",
    "    b: {a, c, d, e, f},\n",
    "    c: {a, b, e, f},\n",
    "    d: {b, e},\n",
    "    e: {b, c, d, f},\n",
    "    f: {b, c, e},\n",
    "}"
   ]
  },
  {
   "cell_type": "code",
   "execution_count": 38,
   "id": "1dabc4f4-e242-473c-bf45-fd3a64cdf76c",
   "metadata": {},
   "outputs": [
    {
     "data": {
      "text/plain": [
       "[{'b'},\n",
       " {'b', 'c'},\n",
       " {'b', 'e'},\n",
       " {'b', 'c', 'e', 'f'},\n",
       " {'a', 'b', 'c'},\n",
       " {'b', 'd', 'e'}]"
      ]
     },
     "execution_count": 38,
     "metadata": {},
     "output_type": "execute_result"
    }
   ],
   "source": [
    "selected_nodes = []\n",
    "\n",
    "def get_all_connected(selected, graph):\n",
    "    # print(selected.center(80, \"=\"))\n",
    "    initial_set = graph[selected] | {selected}\n",
    "    result = set(initial_set)\n",
    "    \n",
    "    for node in initial_set:\n",
    "        nodes = graph[node] | {node}\n",
    "        result &= nodes\n",
    "        # print(f\"node: {node}\", initial_set, nodes, result)\n",
    "\n",
    "    return result\n",
    "\n",
    "\n",
    "for node in sorted(network, reverse=True, key=lambda v: len(network[v])):\n",
    "    selected_nodes.append(get_all_connected(node, network))\n",
    "\n",
    "selected_nodes"
   ]
  }
 ],
 "metadata": {
  "kernelspec": {
   "display_name": "Python 3 (ipykernel)",
   "language": "python",
   "name": "python3"
  },
  "language_info": {
   "codemirror_mode": {
    "name": "ipython",
    "version": 3
   },
   "file_extension": ".py",
   "mimetype": "text/x-python",
   "name": "python",
   "nbconvert_exporter": "python",
   "pygments_lexer": "ipython3",
   "version": "3.11.6"
  }
 },
 "nbformat": 4,
 "nbformat_minor": 5
}
