{
 "cells": [
  {
   "cell_type": "markdown",
   "id": "a98638c1-dffb-447f-8dbc-15406e5abf3d",
   "metadata": {},
   "source": [
    "# Network Monitoring\n",
    "\n",
    "## Problem\n",
    "\n",
    "Find the minimum devices used to cover all the lines/edges.\n",
    "\n",
    "Ref: https://learn.udacity.com/courses/cs313/lessons/0e00ddbe-380c-4749-9178-3b001b298617/concepts/b878a2a3-2101-4b76-85e0-4dd08e4bd09c/instructions\n"
   ]
  },
  {
   "cell_type": "markdown",
   "id": "a3abe963-e069-4179-8e1f-a90e5d74afd6",
   "metadata": {},
   "source": [
    "![image](images/network-monitoring-1.png)"
   ]
  },
  {
   "cell_type": "code",
   "execution_count": 7,
   "id": "860d2b04-e78d-491e-9d32-b77628fef60a",
   "metadata": {},
   "outputs": [],
   "source": [
    "from collections import defaultdict"
   ]
  },
  {
   "cell_type": "code",
   "execution_count": 15,
   "id": "b5366911-c0d9-43e2-86f9-839365f6c4ed",
   "metadata": {},
   "outputs": [
    {
     "data": {
      "text/plain": [
       "['c', 'e', 'g', 'h']"
      ]
     },
     "execution_count": 15,
     "metadata": {},
     "output_type": "execute_result"
    }
   ],
   "source": [
    "a, b, c, d, e, f, g, h, i = \"abcdefghi\"\n",
    "all_nodes = {a, b, c, d, e, f, g, h, i}\n",
    "\n",
    "network = {\n",
    "    a: {c},\n",
    "    b: {c},\n",
    "    c: {a, b, d, e},\n",
    "    d: {c, g},\n",
    "    e: {c, f, h},\n",
    "    f: {e},\n",
    "    g: {d, h, i},\n",
    "    h: {e, g, i},\n",
    "    i: {g, h},\n",
    "}\n",
    "\n",
    "ranks = defaultdict(list)\n",
    "\n",
    "for k, v in network.items():\n",
    "    ranks[len(v)].append(k)\n",
    "\n",
    "covered = set()\n",
    "selected_nodes = []\n",
    "\n",
    "done = False\n",
    "\n",
    "for rank in sorted(ranks, reverse=True):\n",
    "    if done:\n",
    "        break\n",
    "    for node in ranks[rank]:\n",
    "        covered |= set(network[node])\n",
    "        selected_nodes.append(node)\n",
    "        if covered == all_nodes:\n",
    "            done = True\n",
    "            break\n",
    "\n",
    "selected_nodes"
   ]
  },
  {
   "cell_type": "code",
   "execution_count": 17,
   "id": "9fc08eee-3b10-4e9b-a354-adc72c1290e0",
   "metadata": {},
   "outputs": [
    {
     "name": "stdout",
     "output_type": "stream",
     "text": [
      "['00000', '00001', '00010', '00011', '00100', '00101', '00110', '00111', '01000', '01001', '01010', '01011', '01100', '01101', '01110', '01111', '10000', '10001', '10010', '10011', '10100', '10101', '10110', '10111', '11000', '11001', '11010', '11011', '11100', '11101', '11110', '11111'] 32\n"
     ]
    }
   ],
   "source": [
    "from itertools import product\n",
    "\n",
    "def generate_combinations_itertools(num_nodes: int) -> list[str]:\n",
    "    \"\"\"\n",
    "    Generate all possible combinations of binary states for a given number of nodes\n",
    "    using itertools.product.\n",
    "\n",
    "    Parameters:\n",
    "        num_nodes (int): The number of nodes, each of which can be 0 or 1.\n",
    "\n",
    "    Returns:\n",
    "        list[str]: A list of strings, where each string represents a binary combination.\n",
    "    \"\"\"\n",
    "    # Generate all combinations using product; repeat=number of nodes.\n",
    "    combinations = list(product([0, 1], repeat=num_nodes))\n",
    "    # Convert tuple combinations to binary string format.\n",
    "    binary_combinations = [''.join(map(str, combo)) for combo in combinations]\n",
    "    return binary_combinations\n",
    "\n",
    "# Example usage:\n",
    "combinations = generate_combinations_itertools(5)\n",
    "print(combinations, len(combinations))"
   ]
  }
 ],
 "metadata": {
  "kernelspec": {
   "display_name": "Python 3 (ipykernel)",
   "language": "python",
   "name": "python3"
  },
  "language_info": {
   "codemirror_mode": {
    "name": "ipython",
    "version": 3
   },
   "file_extension": ".py",
   "mimetype": "text/x-python",
   "name": "python",
   "nbconvert_exporter": "python",
   "pygments_lexer": "ipython3",
   "version": "3.11.6"
  }
 },
 "nbformat": 4,
 "nbformat_minor": 5
}
