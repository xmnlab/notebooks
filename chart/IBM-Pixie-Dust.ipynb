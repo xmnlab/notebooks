{
 "cells": [
  {
   "cell_type": "markdown",
   "metadata": {},
   "source": [
    "# IBM Pixie Dust"
   ]
  },
  {
   "cell_type": "code",
   "execution_count": 1,
   "metadata": {},
   "outputs": [
    {
     "name": "stdout",
     "output_type": "stream",
     "text": [
      "Pixiedust database opened successfully\n"
     ]
    },
    {
     "data": {
      "text/html": [
       "\n",
       "        <div style=\"margin:10px\">\n",
       "            <a href=\"https://github.com/ibm-watson-data-lab/pixiedust\" target=\"_new\">\n",
       "                <img src=\"https://github.com/ibm-watson-data-lab/pixiedust/raw/master/docs/_static/pd_icon32.png\" style=\"float:left;margin-right:10px\"/>\n",
       "            </a>\n",
       "            <span>Pixiedust version 1.0.9</span>\n",
       "        </div>\n",
       "        "
      ],
      "text/plain": [
       "<IPython.core.display.HTML object>"
      ]
     },
     "metadata": {},
     "output_type": "display_data"
    }
   ],
   "source": [
    "import pixiedust\n",
    "import pandas as pd"
   ]
  },
  {
   "cell_type": "code",
   "execution_count": 2,
   "metadata": {},
   "outputs": [
    {
     "name": "stdout",
     "output_type": "stream",
     "text": [
      "Succesfully enabled Spark Job Progress Monitor\n"
     ]
    }
   ],
   "source": [
    "pixiedust.enableJobMonitor();"
   ]
  },
  {
   "cell_type": "code",
   "execution_count": 3,
   "metadata": {},
   "outputs": [
    {
     "name": "stdout",
     "output_type": "stream",
     "text": [
      "Error Cannot run scala code: SCALA_HOME environment variable not set\n",
      "2017-08-10 13:40:32,978 - pixiedust.utils.storage - INFO - No change in version: 1.0.9 -> 1.0.9.\n"
     ]
    }
   ],
   "source": [
    "% pixiedustLog -l debug"
   ]
  },
  {
   "cell_type": "code",
   "execution_count": 4,
   "metadata": {},
   "outputs": [],
   "source": [
    "df = pd.read_csv('./data/kaggle-titanic.csv')"
   ]
  },
  {
   "cell_type": "code",
   "execution_count": 5,
   "metadata": {
    "pixiedust": {
     "displayParams": {
      "aggregation": "SUM",
      "chartsize": "73",
      "charttype": "stacked",
      "clusterby": "Sex",
      "handlerId": "barChart",
      "keyFields": "Pclass",
      "mpld3": "false",
      "rendererId": "matplotlib",
      "rowCount": "500",
      "title": "Histograma",
      "valueFields": "Survived"
     }
    }
   },
   "outputs": [
    {
     "data": {
      "text/html": [
       "<style type=\"text/css\">.pd_warning{display:none;}</style><div class=\"pd_warning\"><em>Hey, there's something awesome here! To see it, open this notebook outside GitHub, in a viewer like Jupyter</em></div>\n",
       "        <div class=\"pd_save is-viewer-good\" style=\"padding-right:10px;text-align: center;line-height:initial !important;font-size: xx-large;font-weight: 500;color: coral;\">\n",
       "            Histograma\n",
       "        </div>\n",
       "    \n",
       "        <div id=\"chartFiguree6cde4c2\" class=\"pd_save\" style=\"overflow-x:auto\">\n",
       "            \n",
       "                    \n",
       "                            <center><img style=\"max-width:initial !important\" src=\"data:image/png;base64,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\" class=\"pd_save\"></center>\n",
       "                        \n",
       "                    \n",
       "                \n",
       "        </div>\n",
       "    "
      ],
      "text/plain": [
       "<IPython.core.display.HTML object>"
      ]
     },
     "metadata": {},
     "output_type": "display_data"
    }
   ],
   "source": [
    "display(df)"
   ]
  }
 ],
 "metadata": {
  "kernelspec": {
   "display_name": "Python 3",
   "language": "python",
   "name": "python3"
  },
  "language_info": {
   "codemirror_mode": {
    "name": "ipython",
    "version": 3
   },
   "file_extension": ".py",
   "mimetype": "text/x-python",
   "name": "python",
   "nbconvert_exporter": "python",
   "pygments_lexer": "ipython3",
   "version": "3.6.1"
  },
  "latex_envs": {
   "LaTeX_envs_menu_present": true,
   "autocomplete": true,
   "bibliofile": "biblio.bib",
   "cite_by": "apalike",
   "current_citInitial": 1,
   "eqLabelWithNumbers": true,
   "eqNumInitial": 1,
   "hotkeys": {
    "equation": "Ctrl-E",
    "itemize": "Ctrl-I"
   },
   "labels_anchors": false,
   "latex_user_defs": false,
   "report_style_numbering": false,
   "user_envs_cfg": false
  },
  "toc": {
   "colors": {
    "hover_highlight": "#DAA520",
    "navigate_num": "#000000",
    "navigate_text": "#333333",
    "running_highlight": "#FF0000",
    "selected_highlight": "#FFD700",
    "sidebar_border": "#EEEEEE",
    "wrapper_background": "#FFFFFF"
   },
   "moveMenuLeft": true,
   "nav_menu": {
    "height": "30px",
    "width": "252px"
   },
   "navigate_menu": true,
   "number_sections": true,
   "sideBar": true,
   "threshold": 4,
   "toc_cell": false,
   "toc_section_display": "block",
   "toc_window_display": false,
   "widenNotebook": false
  }
 },
 "nbformat": 4,
 "nbformat_minor": 2
}
