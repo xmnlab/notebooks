{
 "cells": [
  {
   "cell_type": "markdown",
   "metadata": {},
   "source": [
    "# Simplex"
   ]
  },
  {
   "cell_type": "markdown",
   "metadata": {},
   "source": [
    "## Definição do problema\n",
    "\n",
    "Aplicação do método simplex em Python para a resolução do problema proposto.\n",
    "\n",
    "$\\\\$\n",
    "\n",
    "<center>\n",
    "**Conteineres Movimentados**\n",
    "</center>\n",
    "\n",
    "|        |Porto X|Porto Y|Porto Z|Soma   |\n",
    "|:-------|-------|-------|-------|------:|\n",
    "|Fonte A |       |       |       |105    |\n",
    "|Fonte B |       |       |       |170    |\n",
    "|Fonte C |       |       |       |130    |\n",
    "|**Soma**|155    |120    |130    |405    |\n",
    "\n",
    "$\\\\$\n",
    "<center>\n",
    "**Custos transportes**\n",
    "</center>\n",
    "\n",
    "|   |   X|   Y|   Z|\n",
    "|:--|----|----|----|\n",
    "| A | 7  | 12 | 14 |\n",
    "| B | 12 | 10 | 13 |\n",
    "| C | 7  | 9  | 11 |"
   ]
  },
  {
   "cell_type": "markdown",
   "metadata": {},
   "source": [
    "**Função objetivo**\n",
    "Máx L = 155X + 120Y + 130Z\n",
    "\n",
    "**Variáveis de restrição**"
   ]
  },
  {
   "cell_type": "code",
   "execution_count": 2,
   "metadata": {
    "collapsed": true
   },
   "outputs": [],
   "source": [
    "import pandas as pd\n",
    "import numpy as np"
   ]
  },
  {
   "cell_type": "code",
   "execution_count": null,
   "metadata": {
    "collapsed": true
   },
   "outputs": [],
   "source": []
  }
 ],
 "metadata": {
  "kernelspec": {
   "display_name": "Python 3",
   "language": "python",
   "name": "python3"
  },
  "language_info": {
   "codemirror_mode": {
    "name": "ipython",
    "version": 3
   },
   "file_extension": ".py",
   "mimetype": "text/x-python",
   "name": "python",
   "nbconvert_exporter": "python",
   "pygments_lexer": "ipython3",
   "version": "3.5.1"
  }
 },
 "nbformat": 4,
 "nbformat_minor": 0
}
