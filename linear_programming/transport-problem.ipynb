{
 "cells": [
  {
   "cell_type": "markdown",
   "metadata": {},
   "source": [
    "# O Problema do Transporte"
   ]
  },
  {
   "cell_type": "markdown",
   "metadata": {},
   "source": [
    "## Definição do problema\n",
    "\n",
    "O objetivo é minimizar o custo para transportar as mercadorias das fontes de origem para os diversos destinos (portos).\n",
    "\n",
    "$\\\\$\n",
    "\n",
    "<center>\n",
    "**Conteineres Movimentados**\n",
    "</center>\n",
    "\n",
    "|        |Porto X|Porto Y|Porto Z|Soma   |\n",
    "|:-------|-------|-------|-------|------:|\n",
    "|Fonte A |       |       |       |105    |\n",
    "|Fonte B |       |       |       |170    |\n",
    "|Fonte C |       |       |       |130    |\n",
    "|**Soma**|155    |120    |130    |405    |\n",
    "\n",
    "$\\\\$\n",
    "<center>\n",
    "**Custos transportes**\n",
    "</center>\n",
    "\n",
    "|   |   X|   Y|   Z|\n",
    "|:--|----|----|----|\n",
    "| A | 7  | 12 | 14 |\n",
    "| B | 12 | 10 | 13 |\n",
    "| C | 7  | 9  | 11 |"
   ]
  },
  {
   "cell_type": "markdown",
   "metadata": {},
   "source": [
    "### Função objetivo\n",
    "\n",
    "Z = (\n",
    "    7*x[0, 0] + 12*x[0, 1] + 14*x[0, 2] + \n",
    "    12*x[1, 0] + 10*x[1, 1] + 13*x[1, 2] + \n",
    "    7*x[2, 0] + 9*x[2, 1] + 11*x[2, 2]\n",
    ")\n",
    "\n",
    "### Variáveis de restrição\n",
    "\n",
    "**capacidade:**\n",
    "\n",
    "$\n",
    "x[0, 0] + x[0, 1] + x[0, 2] = 105\\\\\n",
    "x[1, 0] + x[1, 1] + x[1, 2] = 170\\\\\n",
    "x[2, 0] + x[2, 1] + x[2, 2] = 130\\\\\n",
    "$\n",
    "\n",
    "\n",
    "\n",
    "**absorção:**\n",
    "\n",
    "$\n",
    "x[0, 0] + x[1, 0] + x[2, 0] = 155\\\\\n",
    "x[0, 1] + x[1, 1] + x[2, 1] = 120\\\\\n",
    "x[0, 2] + x[1, 2] + x[2, 2] = 130\\\\\n",
    "$"
   ]
  },
  {
   "cell_type": "code",
   "execution_count": 79,
   "metadata": {
    "collapsed": true
   },
   "outputs": [],
   "source": [
    "import pandas as pd\n",
    "import numpy as np\n",
    "import io"
   ]
  },
  {
   "cell_type": "code",
   "execution_count": 82,
   "metadata": {
    "collapsed": false
   },
   "outputs": [],
   "source": [
    "def Z(x):\n",
    "    return (\n",
    "        7*x[0, 0] + 12*x[0, 1] + 14*x[0, 2] + \n",
    "        12*x[1, 0] + 10*x[1, 1] + 13*x[1, 2] + \n",
    "        7*x[2, 0] + 9*x[2, 1] + 11*x[2, 2]\n",
    "    )"
   ]
  },
  {
   "cell_type": "code",
   "execution_count": 95,
   "metadata": {
    "collapsed": false
   },
   "outputs": [
    {
     "name": "stdout",
     "output_type": "stream",
     "text": [
      "COSTS\n"
     ]
    },
    {
     "data": {
      "text/html": [
       "<div>\n",
       "<table border=\"1\" class=\"dataframe\">\n",
       "  <thead>\n",
       "    <tr style=\"text-align: right;\">\n",
       "      <th></th>\n",
       "      <th>0</th>\n",
       "      <th>1</th>\n",
       "      <th>2</th>\n",
       "    </tr>\n",
       "  </thead>\n",
       "  <tbody>\n",
       "    <tr>\n",
       "      <th>0</th>\n",
       "      <td>7</td>\n",
       "      <td>12</td>\n",
       "      <td>14</td>\n",
       "    </tr>\n",
       "    <tr>\n",
       "      <th>1</th>\n",
       "      <td>12</td>\n",
       "      <td>10</td>\n",
       "      <td>13</td>\n",
       "    </tr>\n",
       "    <tr>\n",
       "      <th>2</th>\n",
       "      <td>7</td>\n",
       "      <td>9</td>\n",
       "      <td>11</td>\n",
       "    </tr>\n",
       "  </tbody>\n",
       "</table>\n",
       "</div>"
      ],
      "text/plain": [
       "    0   1   2\n",
       "0   7  12  14\n",
       "1  12  10  13\n",
       "2   7   9  11"
      ]
     },
     "execution_count": 95,
     "metadata": {},
     "output_type": "execute_result"
    }
   ],
   "source": [
    "# cost matrix\n",
    "values_text = '''\n",
    "0,1,2\n",
    "0,7,12,14\n",
    "1,12,10,13\n",
    "2,7,9,11\n",
    "'''\n",
    "df_cost = pd.read_csv(io.StringIO(values_text))\n",
    "\n",
    "print('COSTS')\n",
    "df_cost"
   ]
  },
  {
   "cell_type": "code",
   "execution_count": null,
   "metadata": {
    "collapsed": true
   },
   "outputs": [],
   "source": [
    "# restriction\n",
    "capacity = [105, 170, 130]\n",
    "absortion = [155, 120, 130]"
   ]
  },
  {
   "cell_type": "markdown",
   "metadata": {},
   "source": [
    "## Northwest Corner"
   ]
  },
  {
   "cell_type": "code",
   "execution_count": 97,
   "metadata": {
    "collapsed": false
   },
   "outputs": [
    {
     "name": "stdout",
     "output_type": "stream",
     "text": [
      "#ID   CAPACITY        ABSORTION      \n",
      "#1    [105, 170, 130] [155, 120, 130]\n",
      "#2    [0, 170, 130]   [50, 120, 130] \n",
      "#3    [0, 120, 130]   [0, 120, 130]  \n",
      "#4    [0, 0, 130]     [0, 0, 130]    \n",
      "#5    [0, 0, 130]     [0, 0, 130]    \n",
      "#6    [0, 0, 130]     [0, 0, 130]    \n",
      "#7    [0, 0, 0]       [0, 0, 0]      \n"
     ]
    },
    {
     "data": {
      "text/html": [
       "<div>\n",
       "<table border=\"1\" class=\"dataframe\">\n",
       "  <thead>\n",
       "    <tr style=\"text-align: right;\">\n",
       "      <th></th>\n",
       "      <th>0</th>\n",
       "      <th>1</th>\n",
       "      <th>2</th>\n",
       "    </tr>\n",
       "  </thead>\n",
       "  <tbody>\n",
       "    <tr>\n",
       "      <th>0</th>\n",
       "      <td>105</td>\n",
       "      <td>0</td>\n",
       "      <td>0</td>\n",
       "    </tr>\n",
       "    <tr>\n",
       "      <th>1</th>\n",
       "      <td>50</td>\n",
       "      <td>120</td>\n",
       "      <td>0</td>\n",
       "    </tr>\n",
       "    <tr>\n",
       "      <th>2</th>\n",
       "      <td>0</td>\n",
       "      <td>0</td>\n",
       "      <td>130</td>\n",
       "    </tr>\n",
       "  </tbody>\n",
       "</table>\n",
       "</div>"
      ],
      "text/plain": [
       "     0    1    2\n",
       "0  105    0    0\n",
       "1   50  120    0\n",
       "2    0    0  130"
      ]
     },
     "execution_count": 97,
     "metadata": {},
     "output_type": "execute_result"
    }
   ],
   "source": [
    "# initial basic solution with northwest corner\n",
    "values_text = '''\n",
    "0,1,2\n",
    "0,0,0,0\n",
    "1,0,0,0\n",
    "2,0,0,0\n",
    "'''\n",
    "df_initial = pd.read_csv(io.StringIO(values_text))\n",
    "df_initial\n",
    "\n",
    "_capacity = list(capacity)\n",
    "_absortion = list(absortion)\n",
    "\n",
    "\n",
    "# iter by row\n",
    "print(\n",
    "    '#ID'.ljust(5, ' '), \n",
    "    'CAPACITY'.ljust(15, ' '), \n",
    "    'ABSORTION'.ljust(15, ' ')\n",
    ")\n",
    "\n",
    "ii = 1\n",
    "\n",
    "print(\n",
    "    ('#%s' % ii).ljust(5, ' '), \n",
    "    str(capacity).ljust(15, ' '), \n",
    "    str(absortion).ljust(15, ' ')\n",
    ")\n",
    "\n",
    "i = 0\n",
    "while i < df_initial.shape[0]:\n",
    "    # iter by column\n",
    "    j = 0\n",
    "    while j < df_initial.shape[1]:\n",
    "        ii += 1\n",
    "        r = _capacity[i] - _absortion[j]\n",
    "        \n",
    "        if r > 0:\n",
    "            df_initial.iloc[i, j] = _absortion[j]\n",
    "            _absortion[j] = 0\n",
    "            _capacity[i] = r\n",
    "        elif r < 0:\n",
    "            df_initial.iloc[i+0, j] = _capacity[i]\n",
    "            _capacity[i] = 0\n",
    "            _absortion[j] = abs(r)\n",
    "        else:\n",
    "            df_initial.iloc[i+0, j] = _capacity[i]\n",
    "            _capacity[i] = 0\n",
    "            _absortion[j] = 0\n",
    "            \n",
    "        print(\n",
    "            ('#%s' % ii).ljust(5, ' '), \n",
    "            str(_capacity).ljust(15, ' '), \n",
    "            str(_absortion).ljust(15, ' ')\n",
    "        )\n",
    "        \n",
    "        if _capacity[i] == 0:\n",
    "            break\n",
    "        j += 1\n",
    "    i += 1\n",
    "\n",
    "df_initial"
   ]
  },
  {
   "cell_type": "code",
   "execution_count": 118,
   "metadata": {
    "collapsed": false
   },
   "outputs": [
    {
     "name": "stdout",
     "output_type": "stream",
     "text": [
      "Z = 3965\n"
     ]
    }
   ],
   "source": [
    "df = df_initial.copy()\n",
    "# calculate the cost\n",
    "z = Z(df.as_matrix())\n",
    "\n",
    "# check the result\n",
    "assert z == 105*7+ 50*12 + 120*10 + 130*11\n",
    "print('Z =', z)"
   ]
  },
  {
   "cell_type": "code",
   "execution_count": 130,
   "metadata": {
    "collapsed": true
   },
   "outputs": [],
   "source": [
    "def calc_n_used_cells(df: pd.DataFrame) -> int:\n",
    "    \"\"\"\n",
    "    \"\"\"\n",
    "    cells = df.values.reshape(1, n*m)\n",
    "    return cells[cells>0].shape[0]\n",
    "    \n",
    "\n",
    "def fix_table(df: pd.DataFrame) -> pd.DataFrame:\n",
    "    \"\"\"\n",
    "    \"\"\"\n",
    "    n, m = df.shape\n",
    "    n_used_cells = calc_n_used_cells(df)\n",
    "    r = n_used_cells - (n+m-1)\n",
    "\n",
    "    if r < 0:\n",
    "        for i in range(n):\n",
    "            for j in range(m):\n",
    "                if df.iloc[i, j] == 0:\n",
    "                    df.iloc[i, j] = -np.float('inf')\n",
    "                    r += 1\n",
    "                    if r >= 0:\n",
    "                        break\n",
    "            if r >= 0:\n",
    "                break        \n",
    "    return df"
   ]
  },
  {
   "cell_type": "code",
   "execution_count": 131,
   "metadata": {
    "collapsed": false
   },
   "outputs": [
    {
     "name": "stdout",
     "output_type": "stream",
     "text": [
      "\n",
      "initial table\n",
      "     0    1    2\n",
      "0  105    0    0\n",
      "1   50  120    0\n",
      "2    0    0  130\n",
      "\n",
      "table fixed\n",
      "     0           1    2\n",
      "0  105        -inf    0\n",
      "1   50  120.000000    0\n",
      "2    0    0.000000  130\n"
     ]
    }
   ],
   "source": [
    "# check\n",
    "print('\\ninitial table')\n",
    "df = df_initial.copy()\n",
    "print(df)\n",
    "\n",
    "df = fix_table(df)\n",
    "print('\\ntable fixed')\n",
    "print(df)"
   ]
  },
  {
   "cell_type": "markdown",
   "metadata": {},
   "source": [
    "## Calculation of multipliers"
   ]
  },
  {
   "cell_type": "code",
   "execution_count": null,
   "metadata": {
    "collapsed": true
   },
   "outputs": [],
   "source": []
  }
 ],
 "metadata": {
  "kernelspec": {
   "display_name": "Python 3",
   "language": "python",
   "name": "python3"
  },
  "language_info": {
   "codemirror_mode": {
    "name": "ipython",
    "version": 3
   },
   "file_extension": ".py",
   "mimetype": "text/x-python",
   "name": "python",
   "nbconvert_exporter": "python",
   "pygments_lexer": "ipython3",
   "version": "3.5.1"
  }
 },
 "nbformat": 4,
 "nbformat_minor": 0
}
