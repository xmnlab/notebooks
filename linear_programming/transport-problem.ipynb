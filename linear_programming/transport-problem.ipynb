{
 "cells": [
  {
   "cell_type": "markdown",
   "metadata": {},
   "source": [
    "# O Problema do Transporte\n",
    "\n",
    "*https://creativecommons.org/licenses/by/4.0/*"
   ]
  },
  {
   "cell_type": "markdown",
   "metadata": {},
   "source": [
    "## Definição do problema\n",
    "\n",
    "O objetivo é minimizar o custo para transportar as mercadorias das fontes de origem para os diversos destinos (portos).\n",
    "\n",
    "$\\\\$\n",
    "\n",
    "<center>\n",
    "**Conteineres Movimentados**\n",
    "</center>\n",
    "\n",
    "|        |Porto X|Porto Y|Porto Z|Soma   |\n",
    "|:-------|-------|-------|-------|------:|\n",
    "|Fonte A |       |       |       |105    |\n",
    "|Fonte B |       |       |       |170    |\n",
    "|Fonte C |       |       |       |130    |\n",
    "|**Soma**|155    |120    |130    |405    |\n",
    "\n",
    "$\\\\$\n",
    "<center>\n",
    "**Custos transportes**\n",
    "</center>\n",
    "\n",
    "|   |   X|   Y|   Z|\n",
    "|:--|----|----|----|\n",
    "| A | 7  | 12 | 14 |\n",
    "| B | 12 | 10 | 13 |\n",
    "| C | 7  | 9  | 11 |"
   ]
  },
  {
   "cell_type": "markdown",
   "metadata": {},
   "source": [
    "### Função objetivo\n",
    "\n",
    "Z = (\n",
    "    7*x[0, 0] + 12*x[0, 1] + 14*x[0, 2] + \n",
    "    12*x[1, 0] + 10*x[1, 1] + 13*x[1, 2] + \n",
    "    7*x[2, 0] + 9*x[2, 1] + 11*x[2, 2]\n",
    ")\n",
    "\n",
    "### Variáveis de restrição\n",
    "\n",
    "**capacidade:**\n",
    "\n",
    "$\n",
    "x[0, 0] + x[0, 1] + x[0, 2] = 105\\\\\n",
    "x[1, 0] + x[1, 1] + x[1, 2] = 170\\\\\n",
    "x[2, 0] + x[2, 1] + x[2, 2] = 130\\\\\n",
    "$\n",
    "\n",
    "\n",
    "\n",
    "**absorção:**\n",
    "\n",
    "$\n",
    "x[0, 0] + x[1, 0] + x[2, 0] = 155\\\\\n",
    "x[0, 1] + x[1, 1] + x[2, 1] = 120\\\\\n",
    "x[0, 2] + x[1, 2] + x[2, 2] = 130\\\\\n",
    "$"
   ]
  },
  {
   "cell_type": "code",
   "execution_count": 1,
   "metadata": {
    "collapsed": false
   },
   "outputs": [],
   "source": [
    "from collections import OrderedDict\n",
    "import pandas as pd\n",
    "import numpy as np\n",
    "import io"
   ]
  },
  {
   "cell_type": "code",
   "execution_count": 2,
   "metadata": {
    "collapsed": false
   },
   "outputs": [],
   "source": [
    "def Z(x):\n",
    "    _x = x.copy().fillna(0).as_matrix()\n",
    "    return (\n",
    "        7*_x[0, 0] + 12*_x[0, 1] + 14*_x[0, 2] + \n",
    "        12*_x[1, 0] + 10*_x[1, 1] + 13*_x[1, 2] + \n",
    "        7*_x[2, 0] + 9*_x[2, 1] + 11*_x[2, 2]\n",
    "    )"
   ]
  },
  {
   "cell_type": "code",
   "execution_count": 3,
   "metadata": {
    "collapsed": false
   },
   "outputs": [
    {
     "name": "stdout",
     "output_type": "stream",
     "text": [
      "COSTS\n"
     ]
    },
    {
     "data": {
      "text/html": [
       "<div>\n",
       "<table border=\"1\" class=\"dataframe\">\n",
       "  <thead>\n",
       "    <tr style=\"text-align: right;\">\n",
       "      <th></th>\n",
       "      <th>0</th>\n",
       "      <th>1</th>\n",
       "      <th>2</th>\n",
       "    </tr>\n",
       "  </thead>\n",
       "  <tbody>\n",
       "    <tr>\n",
       "      <th>0</th>\n",
       "      <td>7</td>\n",
       "      <td>12</td>\n",
       "      <td>14</td>\n",
       "    </tr>\n",
       "    <tr>\n",
       "      <th>1</th>\n",
       "      <td>12</td>\n",
       "      <td>10</td>\n",
       "      <td>13</td>\n",
       "    </tr>\n",
       "    <tr>\n",
       "      <th>2</th>\n",
       "      <td>7</td>\n",
       "      <td>9</td>\n",
       "      <td>11</td>\n",
       "    </tr>\n",
       "  </tbody>\n",
       "</table>\n",
       "</div>"
      ],
      "text/plain": [
       "    0   1   2\n",
       "0   7  12  14\n",
       "1  12  10  13\n",
       "2   7   9  11"
      ]
     },
     "execution_count": 3,
     "metadata": {},
     "output_type": "execute_result"
    }
   ],
   "source": [
    "# cost matrix\n",
    "values_text = '''\n",
    "0,1,2\n",
    "0,7,12,14\n",
    "1,12,10,13\n",
    "2,7,9,11\n",
    "'''\n",
    "df_cost = pd.read_csv(io.StringIO(values_text))\n",
    "\n",
    "print('COSTS')\n",
    "df_cost"
   ]
  },
  {
   "cell_type": "code",
   "execution_count": 4,
   "metadata": {
    "collapsed": true
   },
   "outputs": [],
   "source": [
    "# restriction\n",
    "capacity = [105, 170, 130]\n",
    "absortion = [155, 120, 130]"
   ]
  },
  {
   "cell_type": "markdown",
   "metadata": {},
   "source": [
    "## Northwest Corner"
   ]
  },
  {
   "cell_type": "code",
   "execution_count": 5,
   "metadata": {
    "collapsed": false
   },
   "outputs": [
    {
     "name": "stdout",
     "output_type": "stream",
     "text": [
      "#ID   CAPACITY        ABSORTION      \n",
      "#1    [105, 170, 130] [155, 120, 130]\n",
      "#2    [0, 170, 130]   [50, 120, 130] \n",
      "#3    [0, 120, 130]   [0, 120, 130]  \n",
      "#4    [0, 0, 130]     [0, 0, 130]    \n",
      "#5    [0, 0, 130]     [0, 0, 130]    \n",
      "#6    [0, 0, 130]     [0, 0, 130]    \n",
      "#7    [0, 0, 0]       [0, 0, 0]      \n"
     ]
    },
    {
     "data": {
      "text/html": [
       "<div>\n",
       "<table border=\"1\" class=\"dataframe\">\n",
       "  <thead>\n",
       "    <tr style=\"text-align: right;\">\n",
       "      <th></th>\n",
       "      <th>0</th>\n",
       "      <th>1</th>\n",
       "      <th>2</th>\n",
       "    </tr>\n",
       "  </thead>\n",
       "  <tbody>\n",
       "    <tr>\n",
       "      <th>0</th>\n",
       "      <td>105</td>\n",
       "      <td>NaN</td>\n",
       "      <td>NaN</td>\n",
       "    </tr>\n",
       "    <tr>\n",
       "      <th>1</th>\n",
       "      <td>50</td>\n",
       "      <td>120</td>\n",
       "      <td>NaN</td>\n",
       "    </tr>\n",
       "    <tr>\n",
       "      <th>2</th>\n",
       "      <td>NaN</td>\n",
       "      <td>NaN</td>\n",
       "      <td>130</td>\n",
       "    </tr>\n",
       "  </tbody>\n",
       "</table>\n",
       "</div>"
      ],
      "text/plain": [
       "     0    1    2\n",
       "0  105  NaN  NaN\n",
       "1   50  120  NaN\n",
       "2  NaN  NaN  130"
      ]
     },
     "execution_count": 5,
     "metadata": {},
     "output_type": "execute_result"
    }
   ],
   "source": [
    "# initial basic solution with northwest corner\n",
    "values_text = '''\n",
    "0,1,2\n",
    "0,,,\n",
    "1,,,\n",
    "2,,,\n",
    "'''\n",
    "df_initial = pd.read_csv(io.StringIO(values_text))\n",
    "df_initial\n",
    "\n",
    "_capacity = list(capacity)\n",
    "_absortion = list(absortion)\n",
    "\n",
    "\n",
    "# iter by row\n",
    "print(\n",
    "    '#ID'.ljust(5, ' '), \n",
    "    'CAPACITY'.ljust(15, ' '), \n",
    "    'ABSORTION'.ljust(15, ' ')\n",
    ")\n",
    "\n",
    "ii = 1\n",
    "\n",
    "print(\n",
    "    ('#%s' % ii).ljust(5, ' '), \n",
    "    str(capacity).ljust(15, ' '), \n",
    "    str(absortion).ljust(15, ' ')\n",
    ")\n",
    "\n",
    "i = 0\n",
    "while i < df_initial.shape[0]:\n",
    "    # iter by column\n",
    "    j = 0\n",
    "    while j < df_initial.shape[1]:\n",
    "        ii += 1\n",
    "        r = _capacity[i] - _absortion[j]\n",
    "        \n",
    "        if r > 0:\n",
    "            df_initial.iloc[i, j] = _absortion[j]\n",
    "            _absortion[j] = 0\n",
    "            _capacity[i] = r\n",
    "        elif r < 0:\n",
    "            df_initial.iloc[i+0, j] = _capacity[i]\n",
    "            _capacity[i] = 0\n",
    "            _absortion[j] = abs(r)\n",
    "        else:\n",
    "            df_initial.iloc[i+0, j] = _capacity[i]\n",
    "            _capacity[i] = 0\n",
    "            _absortion[j] = 0\n",
    "            \n",
    "        print(\n",
    "            ('#%s' % ii).ljust(5, ' '), \n",
    "            str(_capacity).ljust(15, ' '), \n",
    "            str(_absortion).ljust(15, ' ')\n",
    "        )\n",
    "        \n",
    "        if _capacity[i] == 0:\n",
    "            break\n",
    "        j += 1\n",
    "    i += 1\n",
    "\n",
    "df_initial = df_initial.replace(0, np.nan)\n",
    "df_initial"
   ]
  },
  {
   "cell_type": "code",
   "execution_count": 6,
   "metadata": {
    "collapsed": false
   },
   "outputs": [
    {
     "data": {
      "text/plain": [
       "3965.0"
      ]
     },
     "execution_count": 6,
     "metadata": {},
     "output_type": "execute_result"
    }
   ],
   "source": [
    "df = df_initial.copy()\n",
    "# calculate the cost\n",
    "z = Z(df)\n",
    "z"
   ]
  },
  {
   "cell_type": "code",
   "execution_count": 7,
   "metadata": {
    "collapsed": false
   },
   "outputs": [
    {
     "name": "stdout",
     "output_type": "stream",
     "text": [
      "Z = 3965.0\n"
     ]
    }
   ],
   "source": [
    "# check the result\n",
    "assert z == 105*7+ 50*12 + 120*10 + 130*11\n",
    "print('Z =', z)"
   ]
  },
  {
   "cell_type": "code",
   "execution_count": 8,
   "metadata": {
    "collapsed": true
   },
   "outputs": [],
   "source": [
    "def calc_n_used_cells(df: pd.DataFrame) -> int:\n",
    "    \"\"\"\n",
    "    \"\"\"\n",
    "    n, m = df.shape\n",
    "    cells = df.values.reshape(1, n*m)\n",
    "    return cells[cells>0].shape[0]\n",
    "    \n",
    "\n",
    "def fix_table(df: pd.DataFrame) -> pd.DataFrame:\n",
    "    \"\"\"\n",
    "    \"\"\"\n",
    "    n, m = df.shape\n",
    "    n_used_cells = calc_n_used_cells(df)\n",
    "    r = n_used_cells - (n+m-1)\n",
    "    _used = []\n",
    "    \n",
    "    if n <=2:\n",
    "        return df\n",
    "\n",
    "    if r < 0:        \n",
    "        for i in range(n):\n",
    "            _line = df.iloc[i, :]\n",
    "            _l_cell_filled = _line[_line.notnull()].shape[0]\n",
    "            \n",
    "            if not _l_cell_filled == 1:\n",
    "                continue\n",
    "            \n",
    "            for j in range(m):\n",
    "                # just basic variable\n",
    "                if np.isnan(df.iloc[i, j]):\n",
    "                    continue\n",
    "                    \n",
    "                _col = df.iloc[:, j]\n",
    "                _c_cell_filled = _col[_col.notnull()].shape[0]\n",
    "                \n",
    "                if _c_cell_filled == 1:\n",
    "                    for ii in range(n):\n",
    "                        _id_ii = '%s,%s' % (ii, j)\n",
    "                        \n",
    "                        if _id_ii in _used:\n",
    "                            continue\n",
    "                            \n",
    "                        if np.isnan(df.iloc[ii, j]):\n",
    "                            df.iloc[ii, j] = 10**-10\n",
    "                            _used.append(_id_ii)\n",
    "                            r += 1\n",
    "                            if r >= 0:\n",
    "                                break\n",
    "                if r >= 0:\n",
    "                    break        \n",
    "    return df"
   ]
  },
  {
   "cell_type": "code",
   "execution_count": 9,
   "metadata": {
    "collapsed": false
   },
   "outputs": [
    {
     "name": "stdout",
     "output_type": "stream",
     "text": [
      "\n",
      "initial table\n",
      "     0    1    2\n",
      "0  105  NaN  NaN\n",
      "1   50  120  NaN\n",
      "2  NaN  NaN  130\n",
      "\n",
      "table fixed\n",
      "     0    1             2\n",
      "0  105  NaN  1.000000e-10\n",
      "1   50  120           NaN\n",
      "2  NaN  NaN  1.300000e+02\n"
     ]
    }
   ],
   "source": [
    "# check\n",
    "print('\\ninitial table')\n",
    "df = df_initial.copy()\n",
    "print(df)\n",
    "\n",
    "df = fix_table(df)\n",
    "# df.iloc[1, 2] = 10**-10\n",
    "print('\\ntable fixed')\n",
    "print(df)\n",
    "\n",
    "n, m = df.shape"
   ]
  },
  {
   "cell_type": "markdown",
   "metadata": {},
   "source": [
    "## Calculation of multipliers"
   ]
  },
  {
   "cell_type": "markdown",
   "metadata": {},
   "source": [
    "### basic variables\n",
    "\n",
    "$u_i + v_j = c_{ij}$\n",
    "\n",
    "where\n",
    "\n",
    "$u_0 = 0$"
   ]
  },
  {
   "cell_type": "code",
   "execution_count": 10,
   "metadata": {
    "collapsed": true
   },
   "outputs": [],
   "source": [
    "basic_variables = OrderedDict()\n",
    "no_basic_variables = OrderedDict()\n",
    "multipliers = OrderedDict()"
   ]
  },
  {
   "cell_type": "code",
   "execution_count": 11,
   "metadata": {
    "collapsed": false
   },
   "outputs": [
    {
     "data": {
      "text/plain": [
       "OrderedDict([('c_0,0', 7),\n",
       "             ('c_0,2', 14),\n",
       "             ('c_1,0', 12),\n",
       "             ('c_1,1', 10),\n",
       "             ('c_2,2', 11)])"
      ]
     },
     "execution_count": 11,
     "metadata": {},
     "output_type": "execute_result"
    }
   ],
   "source": [
    "# c_ij\n",
    "for i in range(n):\n",
    "    for j in range(m):\n",
    "        _id = 'c_%s,%s' % (i, j)\n",
    "        \n",
    "        if not np.isnan(df.iloc[i, j]):\n",
    "            basic_variables[_id] = df_cost.iloc[i, j]\n",
    "basic_variables"
   ]
  },
  {
   "cell_type": "code",
   "execution_count": 12,
   "metadata": {
    "collapsed": false
   },
   "outputs": [
    {
     "data": {
      "text/plain": [
       "OrderedDict([('u_0', 0),\n",
       "             ('v_0', 7),\n",
       "             ('v_2', 14),\n",
       "             ('u_1', 5),\n",
       "             ('v_1', 5),\n",
       "             ('u_2', -3)])"
      ]
     },
     "execution_count": 12,
     "metadata": {},
     "output_type": "execute_result"
    }
   ],
   "source": [
    "# u_i, v_j\n",
    "for i in range(n):\n",
    "    for j in range(m):\n",
    "        _id_u = 'u_%s' % i\n",
    "        _id_v = 'v_%s' % j\n",
    "        _id_c = 'c_%s,%s' % (i, j)\n",
    "        \n",
    "        if not _id_c in basic_variables:\n",
    "            continue\n",
    "        \n",
    "        if i == 0 and j == 0:\n",
    "            multipliers[_id_u] = 0\n",
    "        \n",
    "        if ((\n",
    "            not _id_u in multipliers and \n",
    "            not _id_v in multipliers\n",
    "        ) or (\n",
    "            _id_u in multipliers and \n",
    "             _id_v in multipliers\n",
    "        )):\n",
    "            continue\n",
    "            \n",
    "        if not _id_u in multipliers:\n",
    "            multipliers[_id_u] = (\n",
    "                basic_variables[_id_c] - multipliers[_id_v]\n",
    "            )\n",
    "        else:\n",
    "            multipliers[_id_v] = (\n",
    "                basic_variables[_id_c] - multipliers[_id_u]\n",
    "            )\n",
    "multipliers"
   ]
  },
  {
   "cell_type": "markdown",
   "metadata": {},
   "source": [
    "### No basic variable\n",
    "\n",
    "$P_{ij} = c_{ij} - u_i - v_j$"
   ]
  },
  {
   "cell_type": "code",
   "execution_count": 13,
   "metadata": {
    "collapsed": false
   },
   "outputs": [
    {
     "data": {
      "text/plain": [
       "(False, OrderedDict([('p_0,1', 7), ('p_1,2', -6), ('p_2,0', 3), ('p_2,1', 7)]))"
      ]
     },
     "execution_count": 13,
     "metadata": {},
     "output_type": "execute_result"
    }
   ],
   "source": [
    "optimo = True\n",
    "# P_{ij}\n",
    "for i in range(n):\n",
    "    for j in range(m):\n",
    "        _id_u = 'u_%s' % i\n",
    "        _id_v = 'v_%s' % j\n",
    "        _id_c = 'c_%s,%s' % (i, j)  # cost\n",
    "        _id_p = 'p_%s,%s' % (i, j)  # quantity\n",
    "\n",
    "        if _id_c in basic_variables:\n",
    "            continue\n",
    "            \n",
    "        no_basic_variables[_id_p] = (\n",
    "            df_cost.iloc[i, j] - \n",
    "            multipliers[_id_u] - \n",
    "            multipliers[_id_v]\n",
    "        )\n",
    "        \n",
    "        optimo = (\n",
    "            optimo and no_basic_variables[_id_p] >= 0\n",
    "        )\n",
    "\n",
    "optimo, no_basic_variables"
   ]
  },
  {
   "cell_type": "code",
   "execution_count": 14,
   "metadata": {
    "collapsed": false
   },
   "outputs": [
    {
     "data": {
      "text/plain": [
       "'p_1,2'"
      ]
     },
     "execution_count": 14,
     "metadata": {},
     "output_type": "execute_result"
    }
   ],
   "source": [
    "φ_id = None\n",
    "for k, v in no_basic_variables.items():\n",
    "    if φ_id is None:\n",
    "        φ_id = k\n",
    "        continue\n",
    "        \n",
    "    if v < no_basic_variables[φ_id]:\n",
    "        φ_id = k\n",
    "φ_id"
   ]
  },
  {
   "cell_type": "code",
   "execution_count": null,
   "metadata": {
    "collapsed": false
   },
   "outputs": [],
   "source": []
  }
 ],
 "metadata": {
  "kernelspec": {
   "display_name": "Python 3",
   "language": "python",
   "name": "python3"
  },
  "language_info": {
   "codemirror_mode": {
    "name": "ipython",
    "version": 3
   },
   "file_extension": ".py",
   "mimetype": "text/x-python",
   "name": "python",
   "nbconvert_exporter": "python",
   "pygments_lexer": "ipython3",
   "version": "3.5.1"
  }
 },
 "nbformat": 4,
 "nbformat_minor": 0
}
