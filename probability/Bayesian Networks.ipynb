{
 "cells": [
  {
   "cell_type": "markdown",
   "metadata": {},
   "source": [
    "# Bayesian Networks Essays"
   ]
  },
  {
   "cell_type": "markdown",
   "metadata": {},
   "source": [
    "## Probability Calculus\n",
    "\n",
    "Some useful rules derived from [Kolgomorov Axioms](https://en.wikipedia.org/wiki/Probability_axioms) for random variables:\n",
    "\n",
    "Marginal Probability (Bi∩Bj=∅,∑iBi=Ω):\n",
    "    P(A)=∑iP(A,Bi)\n",
    "\n",
    "Conditional Probability:\n",
    "    P(A,B)=P(B|A)P(A)=P(A|B)P(B)\n",
    "\n",
    "\n",
    "Chain Rule: \n",
    "    P(A1,A2…An)=P(A1)P(A2|A1)…P(An|A1,A2…An−1)\n",
    "\n",
    "Bayes’s rule:\n",
    "    P(A|B,C)=P(B|A,C)P(A|C)P(B|C)\n",
    "\n",
    "\n",
    "Total Probability:\n",
    "    P(A|C)=∑iP(A|C,Bi)P(Bi|C)"
   ]
  },
  {
   "cell_type": "code",
   "execution_count": 1,
   "metadata": {
    "collapsed": false
   },
   "outputs": [],
   "source": [
    "import numpy as np\n",
    "import re"
   ]
  },
  {
   "cell_type": "code",
   "execution_count": 2,
   "metadata": {
    "collapsed": true
   },
   "outputs": [],
   "source": [
    "P_VALUES = {}\n",
    "P__VALUES = {}"
   ]
  },
  {
   "cell_type": "code",
   "execution_count": 3,
   "metadata": {
    "collapsed": true
   },
   "outputs": [],
   "source": [
    "def P(p: str, v: float=None, VALUES: dict=P_VALUES):\n",
    "    \"\"\"\n",
    "    \n",
    "    \"\"\"\n",
    "    if not v is None:\n",
    "        VALUES[p] = v\n",
    "    return VALUES[p]\n",
    "    \n",
    "    \n",
    "def P_(p: str, v: float=None, VALUES: dict=P__VALUES):\n",
    "    \"\"\"\n",
    "    Temp values non normalize (cheat)\n",
    "    \"\"\"\n",
    "    if not v is None:\n",
    "        VALUES[p] = v\n",
    "    return VALUES[p]\n",
    "\n",
    "\n",
    "def Pr(p: str, VALUES: dict=P_VALUES):\n",
    "    \"\"\"\n",
    "    \n",
    "    \"\"\"\n",
    "    _p = p\n",
    "    _p = _p.replace('(', \"('\")\n",
    "    _p = _p.replace(')', \"', VALUES=VALUES)\")\n",
    "    _p = _p.replace('[', \"(\")\n",
    "    _p = _p.replace(']', \")\")\n",
    "    return eval(_p)\n",
    "    "
   ]
  },
  {
   "cell_type": "markdown",
   "metadata": {},
   "source": [
    "## Cancer test"
   ]
  },
  {
   "cell_type": "markdown",
   "metadata": {},
   "source": [
    "### Definition"
   ]
  },
  {
   "cell_type": "markdown",
   "metadata": {},
   "source": [
    "$\n",
    "P(C) = 0.01\\\\\n",
    "P(\\neg C) = 0.99\\\\\n",
    "P(+|C) = 0.9\\\\\n",
    "P(-|C) = 0.1\\\\\n",
    "P(+|\\neg C) = 0.2\\\\\n",
    "P(-|\\neg C) = 0.8\n",
    "$"
   ]
  },
  {
   "cell_type": "code",
   "execution_count": 4,
   "metadata": {
    "collapsed": false
   },
   "outputs": [
    {
     "data": {
      "text/plain": [
       "0.8"
      ]
     },
     "execution_count": 4,
     "metadata": {},
     "output_type": "execute_result"
    }
   ],
   "source": [
    "P('C', 0.01)\n",
    "P('!C', 0.99)\n",
    "P('+|C', 0.9)\n",
    "P('-|C', 0.1)\n",
    "P('+|!C', 0.2)\n",
    "P('-|!C', 0.8)"
   ]
  },
  {
   "cell_type": "markdown",
   "metadata": {},
   "source": [
    "### Two Cancer Test 1"
   ]
  },
  {
   "cell_type": "markdown",
   "metadata": {},
   "source": [
    "$\n",
    "P(C|T_1=+, T_2=+) = P(C|++) = P(C|++) = P(C)*P(+|C)*P(+|C)\\\\\n",
    "P(\\neg C|T_1=+, T_2=+) = P(\\neg C|++) = P(\\neg C|++) = P(\\neg C)*P(+|\\neg C)*P(+|\\neg C)\\\\\n",
    "$"
   ]
  },
  {
   "cell_type": "code",
   "execution_count": 5,
   "metadata": {
    "collapsed": false
   },
   "outputs": [
    {
     "data": {
      "text/plain": [
       "0.169811320754717"
      ]
     },
     "execution_count": 5,
     "metadata": {},
     "output_type": "execute_result"
    }
   ],
   "source": [
    "P_('C|++', Pr('P(C)*P(+|C)*P(+|C)'))\n",
    "P_('!C|++', Pr('P(!C)*P(+|!C)*P(+|!C)'))\n",
    "P('C|++', Pr('P(C|++)/[P(C|++)+P(!C|++)]', P__VALUES))"
   ]
  },
  {
   "cell_type": "code",
   "execution_count": 6,
   "metadata": {
    "collapsed": false
   },
   "outputs": [],
   "source": [
    "np.testing.assert_approx_equal(P('C|++'), 0.1698, 4)"
   ]
  },
  {
   "cell_type": "markdown",
   "metadata": {},
   "source": [
    "### Two Cancer Test 2"
   ]
  },
  {
   "cell_type": "markdown",
   "metadata": {},
   "source": [
    "$\n",
    "P(C|+-) = ?\n",
    "$"
   ]
  },
  {
   "cell_type": "code",
   "execution_count": 7,
   "metadata": {
    "collapsed": false
   },
   "outputs": [
    {
     "data": {
      "text/plain": [
       "0.005649717514124294"
      ]
     },
     "execution_count": 7,
     "metadata": {},
     "output_type": "execute_result"
    }
   ],
   "source": [
    "P_('C|+-', Pr('P(C)*P(+|C)*P(-|C)'))\n",
    "P_('!C|+-', Pr('P(!C)*P(+|!C)*P(-|!C)'))\n",
    "P('C|+-', Pr('P(C|+-)/[P(C|+-)+P(!C|+-)]', P__VALUES))"
   ]
  },
  {
   "cell_type": "code",
   "execution_count": 8,
   "metadata": {
    "collapsed": false
   },
   "outputs": [],
   "source": [
    "np.testing.assert_approx_equal(P('C|+-'), 0.0056, 2)"
   ]
  },
  {
   "cell_type": "markdown",
   "metadata": {},
   "source": [
    "## References"
   ]
  },
  {
   "cell_type": "markdown",
   "metadata": {},
   "source": [
    "Bayesian Networks - João Neto - December 2013\n",
    "http://www.di.fc.ul.pt/~jpn/r/bayesnets/bayesnets.html\n"
   ]
  }
 ],
 "metadata": {
  "kernelspec": {
   "display_name": "Python 3",
   "language": "python",
   "name": "python3"
  },
  "language_info": {
   "codemirror_mode": {
    "name": "ipython",
    "version": 3
   },
   "file_extension": ".py",
   "mimetype": "text/x-python",
   "name": "python",
   "nbconvert_exporter": "python",
   "pygments_lexer": "ipython3",
   "version": "3.5.1"
  }
 },
 "nbformat": 4,
 "nbformat_minor": 0
}
