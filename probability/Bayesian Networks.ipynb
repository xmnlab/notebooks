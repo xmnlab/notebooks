{
 "cells": [
  {
   "cell_type": "markdown",
   "metadata": {},
   "source": [
    "# Bayesian Networks Essays"
   ]
  },
  {
   "cell_type": "markdown",
   "metadata": {},
   "source": [
    "## Probability Calculus\n",
    "\n",
    "Some useful rules derived from [Kolgomorov Axioms](https://en.wikipedia.org/wiki/Probability_axioms) for random variables:\n",
    "\n",
    "\n",
    "Conditional Probability:\n",
    "    P(A,B)=P(B|A)P(A)=P(A|B)P(B)\n",
    "\n",
    "\n",
    "Chain Rule: \n",
    "    P(A1,A2…An)=P(A1)P(A2|A1)…P(An|A1,A2…An−1)\n",
    "    "
   ]
  },
  {
   "cell_type": "code",
   "execution_count": 35,
   "metadata": {
    "collapsed": false
   },
   "outputs": [],
   "source": [
    "%load_ext pep8_magic\n",
    "\n",
    "import numpy as np\n",
    "import re"
   ]
  },
  {
   "cell_type": "code",
   "execution_count": 144,
   "metadata": {
    "collapsed": true
   },
   "outputs": [],
   "source": [
    "class BayesianNetework():\n",
    "    \"\"\"\n",
    "    \n",
    "    \"\"\"\n",
    "    prior_list = set([])\n",
    "    values = {}\n",
    "    verbose = False\n",
    "    \n",
    "    def __init__(self, verbose: bool=False):\n",
    "        self.verbose = verbose\n",
    "    \n",
    "    def display(self, of: str):\n",
    "        if self.verbose:\n",
    "            print('P(%s)=%s' % (of, self.values[of]))\n",
    "    \n",
    "    def P(self, of: str):\n",
    "        \"\"\"\n",
    "        \n",
    "        \"\"\"\n",
    "        self.display(of)\n",
    "        return self.values[of]\n",
    "    \n",
    "    def prior(\n",
    "        self, of: str=None, value: float=None\n",
    "    ):\n",
    "        \"\"\"\n",
    "        P(C): the prior probability (what we know before the evidence)\n",
    "        \"\"\"\n",
    "        if not value is None:\n",
    "            self.values[of] = value\n",
    "            self.prior_list |= {of}\n",
    "            \n",
    "        return self.P(of)\n",
    "    \n",
    "    def likelihood(\n",
    "        self, of: str=None, given: str=None, value: float=None\n",
    "    ):\n",
    "        \"\"\"\n",
    "        P(+|C): the likelihood of the data given the hypothesis\n",
    "        \"\"\"\n",
    "        term = '%s|%s' % (of, given)\n",
    "        \n",
    "        if not value is None:\n",
    "            self.values[term] = value\n",
    "            \n",
    "        return self.P(term)\n",
    " \n",
    "    def p_joint(self, A: str, B: str):\n",
    "        \"\"\"\n",
    "        \n",
    "        \"\"\"\n",
    "        term = '%s,%s' % (A, B)\n",
    "        self.values[term] = self.P(A) * self.P(B)\n",
    "        \n",
    "        self.display(term)\n",
    "        return self.values[term]\n",
    "    \n",
    "    def p_total(self):\n",
    "        \"\"\"\n",
    "        Total Probability\n",
    "        \n",
    "        P(A|C) = ∑i P(A|C,Bi) * P(Bi|C)\n",
    "        \"\"\"\n",
    "        pass\n",
    "    \n",
    "    def p_marginal(self, of: str):\n",
    "        \"\"\"\n",
    "        Bi∩Bj=∅,∑iBi=Ω:\n",
    "        \n",
    "        P(A) = ∑iP(A,Bi)\n",
    "        \n",
    "        \"\"\"\n",
    "        verbose = self.verbose\n",
    "        self.verbose = False\n",
    "        result = sum([self.p_joint('%s|%s' % (of, b), b) for b in self.prior_list])\n",
    "        \n",
    "        self.verbose = verbose\n",
    "        return result\n",
    "    \n",
    "    def bayes_rules(self, of: [str], given: [str]):\n",
    "        \"\"\"\n",
    "        \n",
    "        P(A|B,C) = (P(B|A,C)*P(A|C))/P(B|C)\n",
    "        \n",
    "        Example:\n",
    "        \n",
    "        P(C|+) = (P(+|C)*P(C))/P(+)\n",
    "        \n",
    "        \"\"\"\n",
    "        verbose = self.verbose\n",
    "        self.verbose = False\n",
    "        \n",
    "        P = self.P\n",
    "        \n",
    "        _of = '.'.join(of)\n",
    "        _given = ','.join(given)\n",
    "        \n",
    "        _likelihood = '%s|%s' % (_given, _of)\n",
    "        _prior = _of\n",
    "        _evidence = _given\n",
    "        \n",
    "        result = (P(_likelihood) * P(_prior))/P(_evidence)\n",
    "        self.verbose = verbose\n",
    "        \n",
    "        return result\n",
    "    \n",
    "    def evidence(self, of: str):\n",
    "        \"\"\"\n",
    "        P(+): the evidence (the marginal probability of the test is positive)\n",
    "        \n",
    "        \"\"\"\n",
    "        self.values[of] = self.p_marginal(of)\n",
    "        return self.P(of)\n",
    "    \n",
    "    def proportional_posterior(self, of: [str], given: [str]):\n",
    "        \"\"\"\n",
    "        Posterior probability ∝ Likelihood × Prior probability\n",
    "        \n",
    "        \"\"\"\n",
    "        verbose = self.verbose\n",
    "        self.verbose = False\n",
    "        \n",
    "        P = self.P\n",
    "        p = {}\n",
    "        \n",
    "        _of = '.'.join(of)\n",
    "        \n",
    "        for i, _prior in enumerate(self.prior_list):\n",
    "            _p_likelihood = []\n",
    "            for _given in given:\n",
    "                _likelihood = '%s|%s' % (_given, _prior)\n",
    "                _p_likelihood.append(P(_likelihood))\n",
    "                \n",
    "            p[_prior] = np.prod(np.array(_p_likelihood)) * P(_prior)\n",
    "        \n",
    "        self.verbose = verbose\n",
    "        \n",
    "        # sum(p) == proportional constant\n",
    "        return p[_of]/sum(p.values())\n",
    "        \n",
    "    \n",
    "    def posterior(self, of: [str], given: [str]):\n",
    "        \"\"\"\n",
    "        P(C|+): the posterior probability, the new belief after the evidence\n",
    "        is processed, using Bayes’ rule.\n",
    "        \n",
    "        The posterior probability can be written in the memorable form as\n",
    "\n",
    "        Posterior probability ∝ Likelihood × Prior probability\n",
    "        \n",
    "        \"\"\"\n",
    "        \n",
    "        if isinstance(of, str):\n",
    "            of = [of]\n",
    "            \n",
    "        if isinstance(given, str):\n",
    "            given = [given]\n",
    "        \n",
    "        _of = '.'.join(of)\n",
    "        _given = ','.join(given)\n",
    "        \n",
    "        term = '%s|%s' % (_of, _given)\n",
    "        \n",
    "        if _given in self.values:\n",
    "            self.values[term] = self.bayes_rules(of=of, given=given)\n",
    "        else:\n",
    "            self.values[term] = self.proportional_posterior(\n",
    "                of=of, given=given\n",
    "            )\n",
    "            \n",
    "        self.display(term)\n",
    "        \n",
    "        return self.values[term]\n",
    "    "
   ]
  },
  {
   "cell_type": "markdown",
   "metadata": {},
   "source": [
    "## Cancer test"
   ]
  },
  {
   "cell_type": "markdown",
   "metadata": {},
   "source": [
    "### Definition"
   ]
  },
  {
   "cell_type": "markdown",
   "metadata": {},
   "source": [
    "$\n",
    "P(C) = 0.01\\\\\n",
    "P(\\neg C) = 0.99\\\\\n",
    "P(+|C) = 0.9\\\\\n",
    "P(-|C) = 0.1\\\\\n",
    "P(+|\\neg C) = 0.2\\\\\n",
    "P(-|\\neg C) = 0.8\n",
    "$"
   ]
  },
  {
   "cell_type": "code",
   "execution_count": 151,
   "metadata": {
    "collapsed": false
   },
   "outputs": [
    {
     "name": "stdout",
     "output_type": "stream",
     "text": [
      "\n",
      "Prior Probability\n",
      "P(C)=0.01\n",
      "P(C)=0.01\n",
      "P(!C)=0.99\n",
      "\n",
      "likelihood of the data given the hypothesis\n",
      "P(+|C)=0.9\n",
      "P(-|C)=0.1\n",
      "P(+|!C)=0.2\n",
      "P(-|!C)=0.8\n",
      "\n",
      "Evidence\n",
      "P(+)=0.20700000000000002\n",
      "P(-)=0.793\n",
      "\n",
      "The posterior probability\n",
      "P(C|+)=0.043478260869565216\n",
      "P(C|-)=0.0012610340479192938\n"
     ]
    },
    {
     "data": {
      "text/plain": [
       "0.0012610340479192938"
      ]
     },
     "execution_count": 151,
     "metadata": {},
     "output_type": "execute_result"
    }
   ],
   "source": [
    "bnet = BayesianNetework(verbose=True)\n",
    "\n",
    "# Prior Probability\n",
    "print('\\nPrior Probability')\n",
    "P = bnet.prior\n",
    "P('C', 0.01)\n",
    "P('!C', 1-P('C'))\n",
    "\n",
    "# likelihood of the data given the hypothesis\n",
    "print('\\nlikelihood of the data given the hypothesis')\n",
    "P = bnet.likelihood\n",
    "P(of='+', given='C', value=0.9)\n",
    "P(of='-', given='C', value=0.1)\n",
    "P(of='+', given='!C', value=0.2)\n",
    "P(of='-', given='!C', value=0.8)\n",
    "\n",
    "print('\\nEvidence')\n",
    "P = bnet.evidence\n",
    "P('+')\n",
    "P('-')\n",
    "\n",
    "print('\\nThe posterior probability')\n",
    "P = bnet.posterior\n",
    "P(of='C', given='+')\n",
    "P(of='C', given='-')"
   ]
  },
  {
   "cell_type": "markdown",
   "metadata": {},
   "source": [
    "### Two Cancer Test"
   ]
  },
  {
   "cell_type": "code",
   "execution_count": 152,
   "metadata": {
    "collapsed": false
   },
   "outputs": [
    {
     "name": "stdout",
     "output_type": "stream",
     "text": [
      "\n",
      "The posterior probability\n",
      "P(C|+,+)=0.169811320755\n",
      "P(!C|+,+)=0.830188679245\n",
      "P(C|+,-)=0.00564971751412\n"
     ]
    },
    {
     "data": {
      "text/plain": [
       "0.005649717514124292"
      ]
     },
     "execution_count": 152,
     "metadata": {},
     "output_type": "execute_result"
    }
   ],
   "source": [
    "print('\\nThe posterior probability')\n",
    "P = bnet.posterior\n",
    "P(of='C', given=['+', '+'])\n",
    "P(of='!C', given=['+', '+'])\n",
    "P(of='C', given=['+', '-'])\n",
    "# P(of=['C', '+'], given=['+'])"
   ]
  },
  {
   "cell_type": "markdown",
   "metadata": {},
   "source": [
    "## References"
   ]
  },
  {
   "cell_type": "markdown",
   "metadata": {},
   "source": [
    "Bayesian Networks - João Neto - December 2013\n",
    "http://www.di.fc.ul.pt/~jpn/r/bayesnets/bayesnets.html\n"
   ]
  }
 ],
 "metadata": {
  "kernelspec": {
   "display_name": "Python 3",
   "language": "python",
   "name": "python3"
  },
  "language_info": {
   "codemirror_mode": {
    "name": "ipython",
    "version": 3
   },
   "file_extension": ".py",
   "mimetype": "text/x-python",
   "name": "python",
   "nbconvert_exporter": "python",
   "pygments_lexer": "ipython3",
   "version": "3.5.1"
  }
 },
 "nbformat": 4,
 "nbformat_minor": 0
}
