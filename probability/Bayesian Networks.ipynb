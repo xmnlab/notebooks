{
 "cells": [
  {
   "cell_type": "markdown",
   "metadata": {
    "toc": "true"
   },
   "source": [
    "# Table of Contents\n",
    " <p><div class=\"lev1\"><a href=\"#Bayesian-Networks-Essays\"><span class=\"toc-item-num\">1&nbsp;&nbsp;</span>Bayesian Networks Essays</a></div><div class=\"lev2\"><a href=\"#Cancer-test\"><span class=\"toc-item-num\">1.1&nbsp;&nbsp;</span>Cancer test</a></div><div class=\"lev3\"><a href=\"#Definition\"><span class=\"toc-item-num\">1.1.1&nbsp;&nbsp;</span>Definition</a></div><div class=\"lev3\"><a href=\"#Two-Cancer-Test\"><span class=\"toc-item-num\">1.1.2&nbsp;&nbsp;</span>Two Cancer Test</a></div><div class=\"lev3\"><a href=\"#Conditional-Independent\"><span class=\"toc-item-num\">1.1.3&nbsp;&nbsp;</span>Conditional Independent</a></div><div class=\"lev2\"><a href=\"#Happinnes-Hipothesys\"><span class=\"toc-item-num\">1.2&nbsp;&nbsp;</span>Happinnes Hipothesys</a></div><div class=\"lev2\"><a href=\"#References\"><span class=\"toc-item-num\">1.3&nbsp;&nbsp;</span>References</a></div>"
   ]
  },
  {
   "cell_type": "markdown",
   "metadata": {},
   "source": [
    "# Bayesian Networks Essays"
   ]
  },
  {
   "cell_type": "code",
   "execution_count": 1,
   "metadata": {
    "collapsed": true
   },
   "outputs": [],
   "source": [
    "from IPython.display import HTML, display\n",
    "from nxpd import draw\n",
    "from functools import wraps\n",
    "from itertools import permutations\n",
    "\n",
    "import networkx as nx\n",
    "import matplotlib.pyplot as plt\n",
    "import numpy as np\n",
    "import re\n",
    "\n",
    "%matplotlib inline"
   ]
  },
  {
   "cell_type": "code",
   "execution_count": 2,
   "metadata": {
    "collapsed": true
   },
   "outputs": [],
   "source": [
    "Σ = sum"
   ]
  },
  {
   "cell_type": "code",
   "execution_count": 3,
   "metadata": {
    "collapsed": true
   },
   "outputs": [],
   "source": [
    "def auto_display(f):\n",
    "    @wraps(f)\n",
    "    def _f(self, *args, **kwargs):\n",
    "        verbose = self.verbose\n",
    "        self.verbose = False\n",
    "\n",
    "        term = f(self, *args, **kwargs)\n",
    "        \n",
    "        self.verbose = verbose\n",
    "        self.display(term)\n",
    "        \n",
    "        return self.values[term]\n",
    "    return _f"
   ]
  },
  {
   "cell_type": "code",
   "execution_count": 4,
   "metadata": {
    "collapsed": false
   },
   "outputs": [],
   "source": [
    "def draw_graph(\n",
    "    graph, labels=None\n",
    "):\n",
    "    # create networkx graph\n",
    "    G = nx.DiGraph()\n",
    "    G.graph['dpi'] = 120\n",
    "\n",
    "    G.add_nodes_from(set([\n",
    "        graph[k1][k2] \n",
    "        for k1 in range(len(graph)) \n",
    "        for k2 in range(len(graph[k1]))\n",
    "    ]))\n",
    "    G.add_edges_from(graph)\n",
    "    return draw(G, show='ipynb')"
   ]
  },
  {
   "cell_type": "code",
   "execution_count": 5,
   "metadata": {
    "collapsed": true
   },
   "outputs": [],
   "source": [
    "def EX(ex, P):\n",
    "    return eval(ex)"
   ]
  },
  {
   "cell_type": "code",
   "execution_count": 6,
   "metadata": {
    "collapsed": false
   },
   "outputs": [],
   "source": [
    "class BayesianNetework():\n",
    "    \"\"\"\n",
    "    Some useful rules derived from [Kolgomorov Axioms]\n",
    "    (https://en.wikipedia.org/wiki/Probability_axioms) \n",
    "    for random variables:\n",
    "    \n",
    "    \"\"\"\n",
    "    prior_list = set([])\n",
    "    values = {}\n",
    "    verbose = False\n",
    "    display_formula = False\n",
    "    \n",
    "    def __init__(self, verbose: bool=False, display_formula: bool=False):\n",
    "        self.verbose = verbose\n",
    "        self.display_formula = display_formula\n",
    "        self.values = {}\n",
    "        self.prior_list = set([])\n",
    "    \n",
    "    def display(self, of: str):\n",
    "        if self.verbose:\n",
    "            print('P(%s)=%s' % (of, self.values[of]))\n",
    "    \n",
    "    def check(self, of: str):\n",
    "        \"\"\"\n",
    "        \n",
    "        \"\"\"\n",
    "        return of in self.values\n",
    "    \n",
    "    @auto_display\n",
    "    def P(self, of: str):\n",
    "        \"\"\"\n",
    "        \n",
    "        \"\"\"\n",
    "        return of\n",
    "    \n",
    "    def prior(\n",
    "        self, of: str=None, value: float=None\n",
    "    ):\n",
    "        \"\"\"\n",
    "        P(C): the prior probability (what we know before the evidence)\n",
    "        \"\"\"\n",
    "        if not value is None:\n",
    "            self.values[of] = value\n",
    "            self.prior_list |= {of}\n",
    "            \n",
    "        return self.P(of)\n",
    "    \n",
    "    def likelihood(\n",
    "        self, of: [str]=None, given: [str]=None, value: float=None\n",
    "    ):\n",
    "        \"\"\"\n",
    "        P(+|C): the likelihood of the data given the hypothesis\n",
    "        \"\"\"\n",
    "        \n",
    "        if isinstance(of, str):\n",
    "            of = [of]\n",
    "            \n",
    "        if isinstance(given, str):\n",
    "            given = [given]\n",
    "        \n",
    "        _of = '.'.join(of)\n",
    "        for g in permutations(given, len(given)):\n",
    "            _given = ','.join(g)\n",
    "            term = '%s|%s' % (_of, _given)\n",
    "            self.values[term] = value\n",
    "            \n",
    "        return self.P(term)\n",
    "\n",
    "    def chain_rule():\n",
    "        \"\"\"\n",
    "        Chain Rule: \n",
    "        P(A1,A2…An)=P(A1)P(A2|A1)…P(An|A1,A2…An−1)\n",
    "        \"\"\"\n",
    "        pass\n",
    "    \n",
    "    @auto_display\n",
    "    def p_joint(self, A: str, B: str):\n",
    "        \"\"\"\n",
    "        \n",
    "        \"\"\"\n",
    "        term = '%s,%s' % (A, B)\n",
    "        self.values[term] = self.P(A) * self.P(B)\n",
    "        \n",
    "        return term\n",
    "    \n",
    "    @auto_display\n",
    "    def p_total(self, of: [str], given: [str]):\n",
    "        \"\"\"\n",
    "        Total Probability\n",
    "        \n",
    "        P(A|C) = ∑i P(A|C,Bi) * P(Bi|C)\n",
    "        \"\"\"\n",
    "        # P(+1|+2)=P(+1|+2,C)P(C|+2)+P(+1|+2,¬C)P(¬C|+2)=…=0.2304\n",
    "        P = self.P\n",
    "        \n",
    "        term = '%s|%s' % (of, given)\n",
    "        exprs = []\n",
    "        \n",
    "        for prior in self.prior_list:\n",
    "            if given.replace('!', '') in prior.replace('!', ''):\n",
    "                continue\n",
    "            if not self.check('%s|%s,%s' % (of, given, prior)):\n",
    "                continue\n",
    "                \n",
    "            exprs.append(\n",
    "                \"P('%s|%s,%s') * P('%s|%s')\" % (\n",
    "                    of, given, prior, prior, given\n",
    "                )\n",
    "            )\n",
    "        \n",
    "        if self.display_formula:\n",
    "            print('\\nΣ', exprs)\n",
    "            \n",
    "        self.values[term] = Σ(map(lambda ex: EX(ex, P), exprs))\n",
    "        \n",
    "        return term\n",
    "    \n",
    "    @auto_display\n",
    "    def p_marginal(self, of: str):\n",
    "        \"\"\"\n",
    "        Bi∩Bj=∅,∑iBi=Ω:\n",
    "        \n",
    "        P(A) = ∑iP(A,Bi)\n",
    "        \n",
    "        \"\"\"\n",
    "        P = self.p_joint\n",
    "        self.values[of] = sum([\n",
    "            P('%s|%s' % (of, b), b) \n",
    "            for b in self.prior_list\n",
    "        ])\n",
    "        return of\n",
    "    \n",
    "    @auto_display\n",
    "    def bayes_rules(self, of: [str], given: [str]):\n",
    "        \"\"\"\n",
    "        \n",
    "        P(A|B,C) = (P(B|A,C)*P(A|C))/P(B|C)\n",
    "        \n",
    "        Example:\n",
    "        \n",
    "        P(C|+) = (P(+|C)*P(C))/P(+)\n",
    "        \n",
    "        \"\"\"\n",
    "        P = self.P\n",
    "        \n",
    "        _of = '.'.join(of)\n",
    "        _given = ','.join(given)\n",
    "        \n",
    "        _likelihood = '%s|%s' % (_given, _of)\n",
    "        _prior = _of\n",
    "        _evidence = _given\n",
    "        \n",
    "        term = ('%s|%s' % (_of, _given))\n",
    "        \n",
    "        self.values[term] = (\n",
    "            P(_likelihood) * P(_prior)\n",
    "        )/P(_evidence)\n",
    "        \n",
    "        return term\n",
    "    \n",
    "    @auto_display\n",
    "    def conditional(self, of: str, given: str):\n",
    "        \"\"\"\n",
    "        Conditional Probability:\n",
    "        P(A,B)=P(B|A)P(A)=P(A|B)P(B)\n",
    "        \n",
    "        \"\"\"\n",
    "        P = self.P\n",
    "        \n",
    "        term = '%s|%s' % (of, given)\n",
    "        self.values[term] = None\n",
    "        \n",
    "        return term\n",
    "    \n",
    "    @auto_display\n",
    "    def conditional_independent(self, p1: str, p2: str):\n",
    "        \"\"\"\n",
    "        \n",
    "        \"\"\"\n",
    "        self.values[p1] = self.P(p2)\n",
    "        return p1\n",
    "    \n",
    "    @auto_display\n",
    "    def evidence(self, of: str):\n",
    "        \"\"\"\n",
    "        P(+): e.g. the evidence \n",
    "        the marginal probability of the test is positive\n",
    "        \n",
    "        \"\"\"\n",
    "        self.values[of] = self.p_marginal(of)\n",
    "        return of\n",
    "    \n",
    "    @auto_display\n",
    "    def proportional_posterior(self, of: [str], given: [str]):\n",
    "        \"\"\"\n",
    "        Posterior probability ∝ Likelihood × Prior probability\n",
    "        \n",
    "        \"\"\"\n",
    "        P = self.P\n",
    "        p = {}\n",
    "        \n",
    "        _of = '.'.join(of)\n",
    "        _given = ','.join(given)\n",
    "        \n",
    "        term = '%s|%s' % (_of, _given)\n",
    "        \n",
    "        for i, _prior in enumerate(self.prior_list):\n",
    "            _p_likelihood = []\n",
    "            for _given in given:\n",
    "                _likelihood = '%s|%s' % (_given, _prior)\n",
    "                _p_likelihood.append(P(_likelihood))\n",
    "                \n",
    "            p[_prior] = np.prod(np.array(_p_likelihood)) * P(_prior)\n",
    "        \n",
    "        self.values[term] = p[_of]/sum(p.values())\n",
    "        return term\n",
    "        \n",
    "    @auto_display\n",
    "    def posterior(self, of: [str], given: [str]):\n",
    "        \"\"\"\n",
    "        P(C|+): the posterior probability, the new belief after the evidence\n",
    "        is processed, using Bayes’ rule.\n",
    "        \n",
    "        The posterior probability can be written in the memorable form as\n",
    "\n",
    "        Posterior probability ∝ Likelihood × Prior probability\n",
    "        \n",
    "        \"\"\"\n",
    "        \n",
    "        if isinstance(of, str):\n",
    "            of = [of]\n",
    "            \n",
    "        if isinstance(given, str):\n",
    "            given = [given]\n",
    "        \n",
    "        _of = '.'.join(of)\n",
    "        _given = ','.join(given)\n",
    "        \n",
    "        term = '%s|%s' % (_of, _given)\n",
    "        \n",
    "        if _given in self.values:\n",
    "            self.values[term] = self.bayes_rules(of=of, given=given)\n",
    "        else:\n",
    "            self.values[term] = self.proportional_posterior(\n",
    "                of=of, given=given\n",
    "            )\n",
    "        \n",
    "        return term\n",
    "    "
   ]
  },
  {
   "cell_type": "markdown",
   "metadata": {},
   "source": [
    "## Cancer test"
   ]
  },
  {
   "cell_type": "code",
   "execution_count": 7,
   "metadata": {
    "collapsed": false
   },
   "outputs": [
    {
     "data": {
      "image/png": "[encoded data removed]",
      "text/plain": [
       "<IPython.core.display.Image object>"
      ]
     },
     "execution_count": 7,
     "metadata": {},
     "output_type": "execute_result"
    }
   ],
   "source": [
    "# Graphs\n",
    "graph = [('C', '+1')]\n",
    "draw_graph(graph)"
   ]
  },
  {
   "cell_type": "markdown",
   "metadata": {},
   "source": [
    "### Definition"
   ]
  },
  {
   "cell_type": "markdown",
   "metadata": {},
   "source": [
    "$\n",
    "P(C) = 0.01\\\\\n",
    "P(\\neg C) = 0.99\\\\\n",
    "P(+|C) = 0.9\\\\\n",
    "P(-|C) = 0.1\\\\\n",
    "P(+|\\neg C) = 0.2\\\\\n",
    "P(-|\\neg C) = 0.8\n",
    "$"
   ]
  },
  {
   "cell_type": "code",
   "execution_count": 8,
   "metadata": {
    "collapsed": false
   },
   "outputs": [
    {
     "name": "stdout",
     "output_type": "stream",
     "text": [
      "\n",
      "Prior Probability\n",
      "P(C)=0.01\n",
      "P(C)=0.01\n",
      "P(!C)=0.99\n",
      "\n",
      "likelihood of the data given the hypothesis\n",
      "P(+|C)=0.9\n",
      "P(-|C)=0.1\n",
      "P(+|!C)=0.2\n",
      "P(-|!C)=0.8\n",
      "\n",
      "Evidence\n",
      "P(+)=0.20700000000000002\n",
      "P(-)=0.793\n",
      "\n",
      "The posterior probability\n",
      "P(C|+)=0.043478260869565216\n",
      "P(C|-)=0.0012610340479192938\n",
      "P(!C|+)=0.9565217391304347\n",
      "P(!C|-)=0.9987389659520807\n"
     ]
    },
    {
     "data": {
      "text/plain": [
       "0.9987389659520807"
      ]
     },
     "execution_count": 8,
     "metadata": {},
     "output_type": "execute_result"
    }
   ],
   "source": [
    "bnet = BayesianNetework(verbose=True)\n",
    "\n",
    "# Prior Probability\n",
    "print('\\nPrior Probability')\n",
    "P = bnet.prior\n",
    "P('C', 0.01)\n",
    "P('!C', 1-P('C'))\n",
    "\n",
    "# likelihood of the data given the hypothesis\n",
    "print('\\nlikelihood of the data given the hypothesis')\n",
    "P = bnet.likelihood\n",
    "P(of='+', given='C', value=0.9)\n",
    "P(of='-', given='C', value=0.1)\n",
    "P(of='+', given='!C', value=0.2)\n",
    "P(of='-', given='!C', value=0.8)\n",
    "\n",
    "print('\\nEvidence')\n",
    "P = bnet.evidence\n",
    "P('+')\n",
    "P('-')\n",
    "\n",
    "print('\\nThe posterior probability')\n",
    "P = bnet.posterior\n",
    "P(of='C', given='+')\n",
    "P(of='C', given='-')\n",
    "P(of='!C', given='+')\n",
    "P(of='!C', given='-')"
   ]
  },
  {
   "cell_type": "markdown",
   "metadata": {},
   "source": [
    "### Two Cancer Test"
   ]
  },
  {
   "cell_type": "code",
   "execution_count": 9,
   "metadata": {
    "collapsed": false
   },
   "outputs": [
    {
     "data": {
      "image/png": "[encoded data removed]",
      "text/plain": [
       "<IPython.core.display.Image object>"
      ]
     },
     "execution_count": 9,
     "metadata": {},
     "output_type": "execute_result"
    }
   ],
   "source": [
    "# Graphs\n",
    "\n",
    "graph = [('C', '+1'), ('C', '+2')]\n",
    "draw_graph(graph)"
   ]
  },
  {
   "cell_type": "code",
   "execution_count": 10,
   "metadata": {
    "collapsed": false
   },
   "outputs": [
    {
     "name": "stdout",
     "output_type": "stream",
     "text": [
      "\n",
      "The posterior probability\n",
      "P(C|+,+)=0.169811320755\n",
      "P(!C|+,+)=0.830188679245\n",
      "P(C|+,-)=0.00564971751412\n"
     ]
    },
    {
     "data": {
      "text/plain": [
       "0.005649717514124292"
      ]
     },
     "execution_count": 10,
     "metadata": {},
     "output_type": "execute_result"
    }
   ],
   "source": [
    "print('\\nThe posterior probability')\n",
    "P = bnet.posterior\n",
    "P(of='C', given=['+', '+'])\n",
    "P(of='!C', given=['+', '+'])\n",
    "P(of='C', given=['+', '-'])\n",
    "# P(of=['C', '+'], given=['+'])"
   ]
  },
  {
   "cell_type": "markdown",
   "metadata": {},
   "source": [
    "### Conditional Independent"
   ]
  },
  {
   "cell_type": "code",
   "execution_count": 11,
   "metadata": {
    "collapsed": false
   },
   "outputs": [
    {
     "name": "stdout",
     "output_type": "stream",
     "text": [
      "P(+|+,C)=0.9\n",
      "P(+|+,!C)=0.2\n",
      "P(+|+)=0.23043478260869565\n"
     ]
    },
    {
     "data": {
      "text/plain": [
       "0.23043478260869565"
      ]
     },
     "execution_count": 11,
     "metadata": {},
     "output_type": "execute_result"
    }
   ],
   "source": [
    "P = bnet.conditional_independent\n",
    "P('+|+,C', '+|C')\n",
    "P('+|+,!C', '+|!C')\n",
    "\n",
    "P = bnet.p_total\n",
    "P(of='+', given='+')"
   ]
  },
  {
   "cell_type": "markdown",
   "metadata": {},
   "source": [
    "## Happinnes Hipothesys"
   ]
  },
  {
   "cell_type": "code",
   "execution_count": 12,
   "metadata": {
    "collapsed": false
   },
   "outputs": [
    {
     "data": {
      "image/png": "[encoded data removed]",
      "text/plain": [
       "<IPython.core.display.Image object>"
      ]
     },
     "execution_count": 12,
     "metadata": {},
     "output_type": "execute_result"
    }
   ],
   "source": [
    "# Graphs\n",
    "\n",
    "graph = [('S', 'H'), ('R', 'H')]\n",
    "draw_graph(graph)"
   ]
  },
  {
   "cell_type": "code",
   "execution_count": 13,
   "metadata": {
    "collapsed": false
   },
   "outputs": [
    {
     "data": {
      "text/html": [
       "<h3>PRIOR PROBABILITY</h3>"
      ],
      "text/plain": [
       "<IPython.core.display.HTML object>"
      ]
     },
     "metadata": {},
     "output_type": "display_data"
    },
    {
     "name": "stdout",
     "output_type": "stream",
     "text": [
      "P(S)=0.7\n",
      "P(!S)=0.3\n",
      "P(R)=0.01\n",
      "P(!R)=0.99\n"
     ]
    },
    {
     "data": {
      "text/plain": [
       "0.99"
      ]
     },
     "execution_count": 13,
     "metadata": {},
     "output_type": "execute_result"
    }
   ],
   "source": [
    "bnet = BayesianNetework(verbose=True, display_formula=True)\n",
    "\n",
    "display(HTML('<h3>PRIOR PROBABILITY</h3>'))\n",
    "P = bnet.prior\n",
    "\n",
    "P('S', 0.7)\n",
    "P('!S', 0.3)\n",
    "P('R', 0.01)\n",
    "P('!R', 0.99)"
   ]
  },
  {
   "cell_type": "code",
   "execution_count": 14,
   "metadata": {
    "collapsed": false
   },
   "outputs": [
    {
     "data": {
      "text/html": [
       "<h3>JOINT PROBABILITY</h3>"
      ],
      "text/plain": [
       "<IPython.core.display.HTML object>"
      ]
     },
     "metadata": {},
     "output_type": "display_data"
    },
    {
     "name": "stdout",
     "output_type": "stream",
     "text": [
      "P(S,R)=0.006999999999999999\n",
      "P(S,!R)=0.693\n",
      "P(!S,R)=0.003\n",
      "P(!S,!R)=0.297\n"
     ]
    },
    {
     "data": {
      "text/plain": [
       "0.297"
      ]
     },
     "execution_count": 14,
     "metadata": {},
     "output_type": "execute_result"
    }
   ],
   "source": [
    "display(HTML('<h3>JOINT PROBABILITY</h3>'))\n",
    "P = bnet.p_joint\n",
    "\n",
    "P('S', 'R')\n",
    "P('S', '!R')\n",
    "P('!S', 'R')\n",
    "P('!S', '!R')"
   ]
  },
  {
   "cell_type": "code",
   "execution_count": 15,
   "metadata": {
    "collapsed": false
   },
   "outputs": [
    {
     "data": {
      "text/html": [
       "<h3>LIKELIHOOD PROBABILITY</h3>"
      ],
      "text/plain": [
       "<IPython.core.display.HTML object>"
      ]
     },
     "metadata": {},
     "output_type": "display_data"
    },
    {
     "name": "stdout",
     "output_type": "stream",
     "text": [
      "P(H|R,S)=1\n",
      "P(H|R,!S)=0.9\n",
      "P(H|!R,S)=0.7\n",
      "P(H|!R,!S)=0.1\n"
     ]
    },
    {
     "data": {
      "text/plain": [
       "0.1"
      ]
     },
     "execution_count": 15,
     "metadata": {},
     "output_type": "execute_result"
    }
   ],
   "source": [
    "display(HTML('<h3>LIKELIHOOD PROBABILITY</h3>'))\n",
    "P = bnet.likelihood\n",
    "\n",
    "P(of='H', given=['S', 'R'], value=1)\n",
    "P(of='H', given=['!S', 'R'], value=0.9)\n",
    "P(of='H', given=['S', '!R'], value=0.7)\n",
    "P(of='H', given=['!S', '!R'], value=0.1)"
   ]
  },
  {
   "cell_type": "code",
   "execution_count": 16,
   "metadata": {
    "collapsed": false
   },
   "outputs": [
    {
     "data": {
      "text/html": [
       "<h3>CONDITIONAL INDEPENDENCE</h3>"
      ],
      "text/plain": [
       "<IPython.core.display.HTML object>"
      ]
     },
     "metadata": {},
     "output_type": "display_data"
    },
    {
     "name": "stdout",
     "output_type": "stream",
     "text": [
      "P(R|S)=0.01\n",
      "P(R|!S)=0.01\n",
      "P(!R|S)=0.99\n",
      "P(!R|!S)=0.99\n",
      "P(S|R)=0.7\n",
      "P(S|!R)=0.7\n",
      "P(!S|R)=0.3\n",
      "P(!S|!R)=0.3\n"
     ]
    },
    {
     "data": {
      "text/plain": [
       "0.3"
      ]
     },
     "execution_count": 16,
     "metadata": {},
     "output_type": "execute_result"
    }
   ],
   "source": [
    "display(HTML('<h3>CONDITIONAL INDEPENDENCE</h3>'))\n",
    "P = bnet.conditional_independent\n",
    "\n",
    "P('R|S', 'R')\n",
    "P('R|!S', 'R')\n",
    "P('!R|S', '!R')\n",
    "P('!R|!S', '!R')\n",
    "P('S|R', 'S')\n",
    "P('S|!R', 'S')\n",
    "P('!S|R', '!S')\n",
    "P('!S|!R', '!S')"
   ]
  },
  {
   "cell_type": "code",
   "execution_count": 20,
   "metadata": {
    "collapsed": false
   },
   "outputs": [
    {
     "data": {
      "text/html": [
       "<h3>EVIDENCE</h3>"
      ],
      "text/plain": [
       "<IPython.core.display.HTML object>"
      ]
     },
     "metadata": {},
     "output_type": "display_data"
    },
    {
     "name": "stdout",
     "output_type": "stream",
     "text": [
      "\n",
      "Σ [\"P('H|S,R') * P('R|S')\", \"P('H|S,!R') * P('!R|S')\"]\n",
      "\n",
      "Σ [\"P('H|R,!S') * P('!S|R')\", \"P('H|R,S') * P('S|R')\"]\n",
      "\n",
      "Σ [\"P('H|!S,R') * P('R|!S')\", \"P('H|!S,!R') * P('!R|!S')\"]\n",
      "\n",
      "Σ [\"P('H|!R,!S') * P('!S|!R')\", \"P('H|!R,S') * P('S|!R')\"]\n"
     ]
    }
   ],
   "source": [
    "display(HTML('<h3>EVIDENCE</h3>'))\n",
    "\n",
    "P = bnet.p_total\n",
    "P(of='H', given='S')\n",
    "P(of='H', given='R')\n",
    "P(of='H', given='!S')\n",
    "P(of='H', given='!R')\n",
    "#P(of='R', given=['H', 'S'])\n",
    "\n",
    "P = bnet.evidence\n",
    "#P('H')"
   ]
  },
  {
   "cell_type": "code",
   "execution_count": 21,
   "metadata": {
    "collapsed": false
   },
   "outputs": [],
   "source": [
    "\"\"\"\n",
    "display(HTML('<h3>POSTERIOR PROBABILITY</h3>'))\n",
    "\n",
    "P = bnet.posterior\n",
    "P(of='R', given=['H', 'S'])\n",
    "\"\"\"\n",
    "None"
   ]
  },
  {
   "cell_type": "markdown",
   "metadata": {},
   "source": [
    "## References"
   ]
  },
  {
   "cell_type": "markdown",
   "metadata": {},
   "source": [
    "Bayesian Networks - João Neto - December 2013\n",
    "http://www.di.fc.ul.pt/~jpn/r/bayesnets/bayesnets.html\n",
    "\n",
    "Creating Network Graphs with Python\n",
    "https://www.udacity.com/wiki/creating-network-graphs-with-python\n"
   ]
  }
 ],
 "metadata": {
  "kernelspec": {
   "display_name": "Python 3",
   "language": "python",
   "name": "python3"
  },
  "language_info": {
   "codemirror_mode": {
    "name": "ipython",
    "version": 3
   },
   "file_extension": ".py",
   "mimetype": "text/x-python",
   "name": "python",
   "nbconvert_exporter": "python",
   "pygments_lexer": "ipython3",
   "version": "3.5.1"
  },
  "latex_envs": {
   "bibliofile": "biblio.bib",
   "cite_by": "apalike",
   "current_citInitial": 1,
   "eqLabelWithNumbers": true,
   "eqNumInitial": 0
  },
  "nav_menu": {},
  "toc": {
   "navigate_menu": true,
   "number_sections": true,
   "sideBar": true,
   "threshold": 6,
   "toc_cell": true,
   "toc_section_display": "block",
   "toc_window_display": true
  }
 },
 "nbformat": 4,
 "nbformat_minor": 0
}
