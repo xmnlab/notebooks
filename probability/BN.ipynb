{
 "cells": [
  {
   "cell_type": "markdown",
   "metadata": {
    "toc": "true"
   },
   "source": [
    "# Table of Contents\n",
    " <p>"
   ]
  },
  {
   "cell_type": "code",
   "execution_count": 35,
   "metadata": {
    "collapsed": true
   },
   "outputs": [],
   "source": [
    "from IPython.display import display, HTML\n",
    "from nxpd import draw\n",
    "\n",
    "import networkx as nx"
   ]
  },
  {
   "cell_type": "code",
   "execution_count": 67,
   "metadata": {
    "collapsed": true
   },
   "outputs": [],
   "source": [
    "def draw_graph(\n",
    "    graph, labels=None\n",
    "):\n",
    "    # create networkx graph\n",
    "    G = nx.DiGraph()\n",
    "    G.graph['dpi'] = 120\n",
    "\n",
    "    G.add_nodes_from(set([\n",
    "        graph[k1][k2] \n",
    "        for k1 in range(len(graph)) \n",
    "        for k2 in range(len(graph[k1]))\n",
    "    ]))\n",
    "    G.add_edges_from(graph)\n",
    "    return draw(G, show='ipynb')"
   ]
  },
  {
   "cell_type": "code",
   "execution_count": 68,
   "metadata": {
    "collapsed": false
   },
   "outputs": [
    {
     "data": {
      "image/png": "[encoded data removed]",
      "text/plain": [
       "<IPython.core.display.Image object>"
      ]
     },
     "metadata": {},
     "output_type": "display_data"
    }
   ],
   "source": [
    "class BinaryVariable():\n",
    "    name = ''\n",
    "    probability_value = 0.0\n",
    "    \n",
    "    def __init__(self, name: str, probability_value: float=None):\n",
    "        self.name = name\n",
    "        self.probability_value = probability_value\n",
    "    \n",
    "    def __repr__(self):\n",
    "        return '%s: %s' % (self.name, self.probability_value)\n",
    "    \n",
    "    def __str__(self):\n",
    "        return self.name[0]\n",
    "\n",
    "class Graph():\n",
    "    graph = []\n",
    "    \n",
    "    def __init__(self, graph: list):\n",
    "        self.graph = graph\n",
    "    \n",
    "    def show(self):\n",
    "        display(draw_graph(self.graph))\n",
    "    \n",
    "    def _repr_png_(self):\n",
    "        return draw_graph(self.graph).data\n",
    "    \n",
    "# Happiness problem\n",
    "H = BinaryVariable('Happy')\n",
    "R = BinaryVariable('Raise', 0.01)\n",
    "S = BinaryVariable('Sunny', 0.7)\n",
    "\n",
    "G = Graph([(S, H), (R, H)])\n",
    "G.show()\n"
   ]
  },
  {
   "cell_type": "code",
   "execution_count": 63,
   "metadata": {
    "collapsed": false
   },
   "outputs": [
    {
     "data": {
      "image/png": "[encoded data removed]",
      "text/plain": [
       "<IPython.core.display.Image object>"
      ]
     },
     "metadata": {},
     "output_type": "display_data"
    },
    {
     "name": "stdout",
     "output_type": "stream",
     "text": [
      "{'S': True, 'R': True}\n"
     ]
    }
   ],
   "source": [
    "def of(**kwargs):\n",
    "    return kwargs\n",
    "\n",
    "def given(**kwargs):\n",
    "    return kwargs\n",
    "\n",
    "class BayesianNetwork:\n",
    "    graph = []\n",
    "    \n",
    "    def __init__(self, graph: Graph):\n",
    "        self.graph = graph\n",
    "        \n",
    "    def is_independent(of: dict, given: dict=None):\n",
    "        pass\n",
    "    \n",
    "    def P(self, of: dict, given: dict=None):\n",
    "        print(of)\n",
    "        pass\n",
    "\n",
    "# Happiness problem\n",
    "H = BinaryVariable('Happy')\n",
    "R = BinaryVariable('Raise', 0.01)\n",
    "S = BinaryVariable('Sunny', 0.7)\n",
    "\n",
    "G = Graph([(S, H), (R, H)])\n",
    "G.show()\n",
    "\n",
    "bnet = BayesianNetwork(G)\n",
    "bnet.P(of(S=True, R=True))"
   ]
  }
 ],
 "metadata": {
  "kernelspec": {
   "display_name": "Python 3",
   "language": "python",
   "name": "python3"
  },
  "language_info": {
   "codemirror_mode": {
    "name": "ipython",
    "version": 3
   },
   "file_extension": ".py",
   "mimetype": "text/x-python",
   "name": "python",
   "nbconvert_exporter": "python",
   "pygments_lexer": "ipython3",
   "version": "3.5.1"
  },
  "latex_envs": {
   "bibliofile": "biblio.bib",
   "cite_by": "apalike",
   "current_citInitial": 1,
   "eqLabelWithNumbers": true,
   "eqNumInitial": 0
  },
  "nav_menu": {},
  "toc": {
   "navigate_menu": true,
   "number_sections": true,
   "sideBar": true,
   "threshold": 6,
   "toc_cell": true,
   "toc_section_display": "block",
   "toc_window_display": true
  }
 },
 "nbformat": 4,
 "nbformat_minor": 0
}
