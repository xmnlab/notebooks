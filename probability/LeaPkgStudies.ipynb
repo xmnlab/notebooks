{
 "cells": [
  {
   "cell_type": "markdown",
   "metadata": {
    "toc": "true"
   },
   "source": [
    "# Table of Contents\n",
    " <p><div class=\"lev1\"><a href=\"#Lea-package-first-studies\"><span class=\"toc-item-num\">1&nbsp;&nbsp;</span>Lea package first studies</a></div><div class=\"lev2\"><a href=\"#Flip-coin\"><span class=\"toc-item-num\">1.1&nbsp;&nbsp;</span>Flip coin</a></div><div class=\"lev2\"><a href=\"#&quot;Rain-Sprinkler-Grass&quot;-bayesian-network\"><span class=\"toc-item-num\">1.2&nbsp;&nbsp;</span>\"Rain-Sprinkler-Grass\" bayesian network</a></div><div class=\"lev2\"><a href=\"#Happiness-Test\"><span class=\"toc-item-num\">1.3&nbsp;&nbsp;</span>Happiness Test</a></div><div class=\"lev2\"><a href=\"#References\"><span class=\"toc-item-num\">1.4&nbsp;&nbsp;</span>References</a></div>"
   ]
  },
  {
   "cell_type": "markdown",
   "metadata": {},
   "source": [
    "# Lea package first studies"
   ]
  },
  {
   "cell_type": "markdown",
   "metadata": {},
   "source": [
    "## Flip coin"
   ]
  },
  {
   "cell_type": "code",
   "execution_count": 1,
   "metadata": {
    "collapsed": true
   },
   "outputs": [],
   "source": [
    "from lea import *"
   ]
  },
  {
   "cell_type": "code",
   "execution_count": 2,
   "metadata": {
    "collapsed": false
   },
   "outputs": [
    {
     "data": {
      "text/plain": [
       "head : 67/100\n",
       "tail : 33/100"
      ]
     },
     "execution_count": 2,
     "metadata": {},
     "output_type": "execute_result"
    }
   ],
   "source": [
    "flip1 = Lea.fromValFreqs(('head',67),('tail',33))\n",
    "flip1"
   ]
  },
  {
   "cell_type": "code",
   "execution_count": 3,
   "metadata": {
    "collapsed": false
   },
   "outputs": [
    {
     "data": {
      "text/plain": [
       "67/100"
      ]
     },
     "execution_count": 3,
     "metadata": {},
     "output_type": "execute_result"
    }
   ],
   "source": [
    "P(flip1=='head')"
   ]
  },
  {
   "cell_type": "code",
   "execution_count": 4,
   "metadata": {
    "collapsed": false
   },
   "outputs": [
    {
     "data": {
      "text/plain": [
       "0.67"
      ]
     },
     "execution_count": 4,
     "metadata": {},
     "output_type": "execute_result"
    }
   ],
   "source": [
    "Pf(flip1=='head')"
   ]
  },
  {
   "cell_type": "code",
   "execution_count": 5,
   "metadata": {
    "collapsed": false
   },
   "outputs": [
    {
     "data": {
      "text/plain": [
       "('tail',\n",
       " 'head',\n",
       " 'head',\n",
       " 'head',\n",
       " 'head',\n",
       " 'tail',\n",
       " 'head',\n",
       " 'head',\n",
       " 'head',\n",
       " 'head')"
      ]
     },
     "execution_count": 5,
     "metadata": {},
     "output_type": "execute_result"
    }
   ],
   "source": [
    "flip1.random(10)"
   ]
  },
  {
   "cell_type": "code",
   "execution_count": 6,
   "metadata": {
    "collapsed": false
   },
   "outputs": [
    {
     "data": {
      "text/plain": [
       "head-head : 4489/10000\n",
       "head-tail : 2211/10000\n",
       "tail-head : 2211/10000\n",
       "tail-tail : 1089/10000"
      ]
     },
     "execution_count": 6,
     "metadata": {},
     "output_type": "execute_result"
    }
   ],
   "source": [
    "flip2 = flip1.clone()\n",
    "flips = flip1 + '-' + flip2\n",
    "flips"
   ]
  },
  {
   "cell_type": "code",
   "execution_count": 7,
   "metadata": {
    "collapsed": false
   },
   "outputs": [
    {
     "data": {
      "text/plain": [
       "2789/5000"
      ]
     },
     "execution_count": 7,
     "metadata": {},
     "output_type": "execute_result"
    }
   ],
   "source": [
    "P(flip1==flip2)"
   ]
  },
  {
   "cell_type": "code",
   "execution_count": 8,
   "metadata": {
    "collapsed": false
   },
   "outputs": [
    {
     "data": {
      "text/plain": [
       "2211/5000"
      ]
     },
     "execution_count": 8,
     "metadata": {},
     "output_type": "execute_result"
    }
   ],
   "source": [
    "P(flip1!=flip2)"
   ]
  },
  {
   "cell_type": "code",
   "execution_count": 9,
   "metadata": {
    "collapsed": false
   },
   "outputs": [
    {
     "data": {
      "text/plain": [
       "H : 67/100\n",
       "T : 33/100"
      ]
     },
     "execution_count": 9,
     "metadata": {},
     "output_type": "execute_result"
    }
   ],
   "source": [
    "flip1.upper()\n",
    "flip1.upper()[0]"
   ]
  },
  {
   "cell_type": "code",
   "execution_count": 10,
   "metadata": {
    "collapsed": false
   },
   "outputs": [
    {
     "data": {
      "text/plain": [
       "0 : 33/100\n",
       "1 : 67/100"
      ]
     },
     "execution_count": 10,
     "metadata": {},
     "output_type": "execute_result"
    }
   ],
   "source": [
    "def toInt(flip):\n",
    "    return 1 if flip=='head' else 0\n",
    "\n",
    "headCount1 = flip1.map(toInt)\n",
    "headCount1"
   ]
  },
  {
   "cell_type": "code",
   "execution_count": 11,
   "metadata": {
    "collapsed": false
   },
   "outputs": [
    {
     "data": {
      "text/plain": [
       "0 : 1089/10000\n",
       "1 : 4422/10000\n",
       "2 : 4489/10000"
      ]
     },
     "execution_count": 11,
     "metadata": {},
     "output_type": "execute_result"
    }
   ],
   "source": [
    "headCount2 = flip2.map(toInt)\n",
    "headCounts = headCount1 + headCount2\n",
    "headCounts "
   ]
  },
  {
   "cell_type": "code",
   "execution_count": 12,
   "metadata": {
    "collapsed": false
   },
   "outputs": [
    {
     "data": {
      "text/plain": [
       "head : 1"
      ]
     },
     "execution_count": 12,
     "metadata": {},
     "output_type": "execute_result"
    }
   ],
   "source": [
    "headCounts.given(flip1==flip2)\n",
    "headCounts.given(flip1!=flip2)\n",
    "flip1.given(headCounts==0)\n",
    "flip1.given(headCounts==1)\n",
    "\n",
    "flip1.given(headCounts==2)"
   ]
  },
  {
   "cell_type": "markdown",
   "metadata": {},
   "source": [
    "## \"Rain-Sprinkler-Grass\" bayesian network"
   ]
  },
  {
   "cell_type": "markdown",
   "metadata": {},
   "source": [
    "Suppose that there are two events which could cause grass to be wet: either the sprinkler is on or it's raining. Also, suppose that the rain has a direct effect on the use of the sprinkler (namely that when it rains, the sprinkler is usually not turned on). Then the situation can be modeled with a Bayesian network (shown to the right). All three variables have two possible values, T (for true) and F (for false).\n",
    "\n",
    "The joint probability function is:\n",
    "\n",
    "$P (G,S,R)= P (G| S,R) P(S| R) P(R)$\n",
    "\n",
    "where the names of the variables have been abbreviated to G = Grass wet (yes/no), S = Sprinkler turned on (yes/no), and R = Raining (yes/no).\n",
    "\n",
    "![SimpleBayesNet](https://upload.wikimedia.org/wikipedia/commons/0/0e/SimpleBayesNet.svg)\n",
    "\n",
    "The model can answer questions like \"What is the probability that it is raining, given the grass is wet?\" by using the conditional probability formula and summing over all nuisance variables:\n",
    "\n"
   ]
  },
  {
   "cell_type": "code",
   "execution_count": 14,
   "metadata": {
    "collapsed": false
   },
   "outputs": [
    {
     "data": {
      "text/plain": [
       "False : 27581/50000\n",
       " True : 22419/50000"
      ]
     },
     "execution_count": 14,
     "metadata": {},
     "output_type": "execute_result"
    }
   ],
   "source": [
    "rain = B(20,100)\n",
    "sprinkler = Lea.if_(rain, B(1,100), B(40,100))\n",
    "grassWet = Lea.buildCPT(\n",
    "    ( ~sprinkler & ~rain, False               ),\n",
    "    ( ~sprinkler &  rain, B(80,100)),\n",
    "    (  sprinkler & ~rain, B(90,100)),\n",
    "    (  sprinkler &  rain, B(99,100))\n",
    ")\n",
    "\n",
    "grassWet"
   ]
  },
  {
   "cell_type": "markdown",
   "metadata": {},
   "source": [
    "## Happiness Test"
   ]
  },
  {
   "cell_type": "markdown",
   "metadata": {},
   "source": [
    "$P('S', 0.7)$\n",
    "\n",
    "$P('R', 0.01)$"
   ]
  },
  {
   "cell_type": "code",
   "execution_count": 24,
   "metadata": {
    "collapsed": false
   },
   "outputs": [
    {
     "name": "stdout",
     "output_type": "stream",
     "text": [
      "False : 3/10\n",
      " True : 7/10\n",
      "False : 99/100\n",
      " True :  1/100\n"
     ]
    }
   ],
   "source": [
    "Sunny = B(70,100)\n",
    "Raise = B(1,100)\n",
    "\n",
    "print(Sunny)\n",
    "print(Raise)"
   ]
  },
  {
   "cell_type": "code",
   "execution_count": 58,
   "metadata": {
    "collapsed": false
   },
   "outputs": [],
   "source": [
    "# independence check\n",
    "assert Sunny.given(Raise).p(True) == Sunny.p(True)"
   ]
  },
  {
   "cell_type": "markdown",
   "metadata": {},
   "source": [
    "$P(of='H', given=['S', 'R'], value=1)$\n",
    "\n",
    "$P(of='H', given=['!S', 'R'], value=0.9)$\n",
    "\n",
    "$P(of='H', given=['S', '!R'], value=0.7)$\n",
    "\n",
    "$P(of='H', given=['!S', '!R'], value=0.1)$"
   ]
  },
  {
   "cell_type": "code",
   "execution_count": 46,
   "metadata": {
    "collapsed": false
   },
   "outputs": [
    {
     "data": {
      "text/plain": [
       "False :  951/2000\n",
       " True : 1049/2000"
      ]
     },
     "execution_count": 46,
     "metadata": {},
     "output_type": "execute_result"
    }
   ],
   "source": [
    "Happy = Lea.buildCPT(\n",
    "    (Sunny & Raise, B(100,100)),\n",
    "    (~Sunny & Raise, B(90,100)),\n",
    "    (Sunny & ~Raise, B(70,100)),\n",
    "    (~Sunny & ~Raise, B(10,100))\n",
    ")\n",
    "Happy"
   ]
  },
  {
   "cell_type": "code",
   "execution_count": null,
   "metadata": {
    "collapsed": true
   },
   "outputs": [],
   "source": [
    "# Evidences\n",
    "# P(H|S)=0.703\n",
    "# P(H|R)=0.97\n",
    "# P(H)=P(H|S)P(S)+P(H|¬S)P(¬S)=…≈0.5245 \n",
    "\n",
    "assert Happy.given(Sunny).pmf(True) == 0.703\n",
    "assert Happy.given(Raise).pmf(True) == 0.97\n",
    "assert Happy.pmf(True) == 0.5245"
   ]
  },
  {
   "cell_type": "code",
   "execution_count": 68,
   "metadata": {
    "collapsed": false
   },
   "outputs": [
    {
     "data": {
      "text/plain": [
       "0.01422475106685633"
      ]
     },
     "execution_count": 68,
     "metadata": {},
     "output_type": "execute_result"
    }
   ],
   "source": [
    "Raise.given(Happy & Sunny).pmf(True)"
   ]
  },
  {
   "cell_type": "code",
   "execution_count": 71,
   "metadata": {
    "collapsed": false
   },
   "outputs": [
    {
     "data": {
      "text/plain": [
       "0.018493803622497616"
      ]
     },
     "execution_count": 71,
     "metadata": {},
     "output_type": "execute_result"
    }
   ],
   "source": [
    "Raise.given(Happy).pmf(True)"
   ]
  },
  {
   "cell_type": "code",
   "execution_count": 72,
   "metadata": {
    "collapsed": false
   },
   "outputs": [
    {
     "data": {
      "text/plain": [
       "0.08333333333333333"
      ]
     },
     "execution_count": 72,
     "metadata": {},
     "output_type": "execute_result"
    }
   ],
   "source": [
    "Raise.given(Happy & ~Sunny).pmf(True)"
   ]
  },
  {
   "cell_type": "markdown",
   "metadata": {},
   "source": [
    "## References"
   ]
  },
  {
   "cell_type": "markdown",
   "metadata": {},
   "source": [
    "https://bitbucket.org/piedenis/lea\n",
    "\n",
    "https://en.wikipedia.org/wiki/Bayesian_network"
   ]
  }
 ],
 "metadata": {
  "kernelspec": {
   "display_name": "Python 3",
   "language": "python",
   "name": "python3"
  },
  "language_info": {
   "codemirror_mode": {
    "name": "ipython",
    "version": 3
   },
   "file_extension": ".py",
   "mimetype": "text/x-python",
   "name": "python",
   "nbconvert_exporter": "python",
   "pygments_lexer": "ipython3",
   "version": "3.5.1"
  },
  "latex_envs": {
   "bibliofile": "biblio.bib",
   "cite_by": "apalike",
   "current_citInitial": 1,
   "eqLabelWithNumbers": true,
   "eqNumInitial": 0
  },
  "nav_menu": {},
  "toc": {
   "navigate_menu": true,
   "number_sections": true,
   "sideBar": true,
   "threshold": 6,
   "toc_cell": true,
   "toc_section_display": "block",
   "toc_window_display": true
  }
 },
 "nbformat": 4,
 "nbformat_minor": 0
}
