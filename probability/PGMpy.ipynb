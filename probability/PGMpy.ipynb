{
 "cells": [
  {
   "cell_type": "code",
   "execution_count": 1,
   "metadata": {
    "collapsed": true
   },
   "outputs": [],
   "source": [
    "from pgmpy.models import BayesianModel\n",
    "from pgmpy.factors import TabularCPD"
   ]
  },
  {
   "cell_type": "code",
   "execution_count": 2,
   "metadata": {
    "collapsed": true
   },
   "outputs": [],
   "source": [
    "student = BayesianModel()\n",
    "# instantiates a new Bayesian Model called 'student'\n",
    "\n",
    "student.add_nodes_from(['diff', 'intel', 'grade'])\n",
    "# adds nodes labelled 'diff', 'intel', 'grade' to student\n",
    "\n",
    "student.add_edges_from([('diff', 'grade'), ('intel', 'grade')])\n",
    "# adds directed edges from 'diff' to 'grade' and 'intel' to 'grade'"
   ]
  },
  {
   "cell_type": "markdown",
   "metadata": {},
   "source": [
    "diff cpd:\n",
    "\n",
    "\n",
    "|diff:  |        |\n",
    "|-------|--------|\n",
    "|easy   |   0.2  |\n",
    "|hard   |   0.8  |\n"
   ]
  },
  {
   "cell_type": "code",
   "execution_count": 3,
   "metadata": {
    "collapsed": true
   },
   "outputs": [],
   "source": [
    "diff_cpd = TabularCPD('diff', 2, [[0.2], [0.8]])"
   ]
  },
  {
   "cell_type": "markdown",
   "metadata": {},
   "source": [
    "intel cpd:\n",
    "\n",
    "\n",
    "|intel: |        |\n",
    "|-------|--------|\n",
    "|dumb   |   0.5  |\n",
    "|avg    |   0.3  |\n",
    "|smart  |   0.2  |\n"
   ]
  },
  {
   "cell_type": "code",
   "execution_count": 4,
   "metadata": {
    "collapsed": true
   },
   "outputs": [],
   "source": [
    "intel_cpd = TabularCPD('intel', 3, [[0.5], [0.3], [0.2]])"
   ]
  },
  {
   "cell_type": "markdown",
   "metadata": {},
   "source": [
    "grade cpd:\n",
    "\n",
    "|diff: | easy | easy | easy    | hard | hard | hard  |\n",
    "|------|------|------|---------|------|------|-------|\n",
    "|intel:| dumb |  avg |  smart  | dumb | avg  | smart |\n",
    "|gradeA| 0.1  | 0.1  |   0.1   |  0.1 |  0.1 |   0.1 |\n",
    "|gradeB| 0.1  | 0.1  |   0.1   |  0.1 |  0.1 |   0.1 |\n",
    "|gradeC| 0.8  | 0.8  |   0.8   |  0.8 |  0.8 |   0.8 |\n"
   ]
  },
  {
   "cell_type": "code",
   "execution_count": 5,
   "metadata": {
    "collapsed": true
   },
   "outputs": [],
   "source": [
    "grade_cpd = TabularCPD('grade', 3,\n",
    "                         [[0.1,0.1,0.1,0.1,0.1,0.1],\n",
    "                         [0.1,0.1,0.1,0.1,0.1,0.1], \n",
    "                         [0.8,0.8,0.8,0.8,0.8,0.8]],\n",
    "                         evidence=['intel', 'diff'],\n",
    "                         evidence_card=[3, 2])"
   ]
  },
  {
   "cell_type": "code",
   "execution_count": 6,
   "metadata": {
    "collapsed": false
   },
   "outputs": [
    {
     "data": {
      "text/plain": [
       "{'diff', 'intel'}"
      ]
     },
     "execution_count": 6,
     "metadata": {},
     "output_type": "execute_result"
    }
   ],
   "source": [
    "student.add_cpds(diff_cpd, intel_cpd, grade_cpd)\n",
    "\n",
    "# Finding active trail\n",
    "student.active_trail_nodes('diff')\n",
    "{'diff', 'grade'}\n",
    "\n",
    "# Finding active trail with observation\n",
    "student.active_trail_nodes('diff', observed='grade')\n",
    "{'diff', 'intel'}"
   ]
  }
 ],
 "metadata": {
  "kernelspec": {
   "display_name": "Python 3",
   "language": "python",
   "name": "python3"
  },
  "language_info": {
   "codemirror_mode": {
    "name": "ipython",
    "version": 3
   },
   "file_extension": ".py",
   "mimetype": "text/x-python",
   "name": "python",
   "nbconvert_exporter": "python",
   "pygments_lexer": "ipython3",
   "version": "3.5.1"
  }
 },
 "nbformat": 4,
 "nbformat_minor": 0
}
