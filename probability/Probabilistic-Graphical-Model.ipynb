{
 "cells": [
  {
   "cell_type": "markdown",
   "metadata": {
    "toc": "true"
   },
   "source": [
    "# Table of Contents\n",
    " <p><div class=\"lev1\"><a href=\"#Probabilistic-Graphical-Models\"><span class=\"toc-item-num\">1&nbsp;&nbsp;</span>Probabilistic Graphical Models</a></div><div class=\"lev2\"><a href=\"#Conditional-Independence\"><span class=\"toc-item-num\">1.1&nbsp;&nbsp;</span>Conditional Independence</a></div><div class=\"lev3\"><a href=\"#D-Separation\"><span class=\"toc-item-num\">1.1.1&nbsp;&nbsp;</span>D-Separation</a></div><div class=\"lev2\"><a href=\"#References\"><span class=\"toc-item-num\">1.2&nbsp;&nbsp;</span>References</a></div>"
   ]
  },
  {
   "cell_type": "markdown",
   "metadata": {},
   "source": [
    "<!--bibtex\n",
    "@book{koller2009probabilistic,\n",
    "  title={Probabilistic graphical models: principles and techniques},\n",
    "  author={Koller, Daphne and Friedman, Nir},\n",
    "  year={2009},\n",
    "  publisher={MIT press}\n",
    "}\n",
    "-->"
   ]
  },
  {
   "cell_type": "markdown",
   "metadata": {},
   "source": [
    "# Probabilistic Graphical Models"
   ]
  },
  {
   "cell_type": "markdown",
   "metadata": {},
   "source": [
    "This notebook was inspired into [CITE](#cite-koller2009probabilistic) and its course at Coursera and Stanford University."
   ]
  },
  {
   "cell_type": "code",
   "execution_count": 24,
   "metadata": {
    "collapsed": true
   },
   "outputs": [],
   "source": [
    "from nxpd import draw\n",
    "import networkx as nx"
   ]
  },
  {
   "cell_type": "code",
   "execution_count": 25,
   "metadata": {
    "collapsed": true
   },
   "outputs": [],
   "source": [
    "def draw_graph(\n",
    "    graph, labels=None\n",
    "):\n",
    "    # create networkx graph\n",
    "    G = nx.DiGraph()\n",
    "    G.graph['dpi'] = 120\n",
    "\n",
    "    G.add_nodes_from(set([\n",
    "        graph[k1][k2] \n",
    "        for k1 in range(len(graph)) \n",
    "        for k2 in range(len(graph[k1]))\n",
    "    ]))\n",
    "    G.add_edges_from(graph)\n",
    "    return draw(G, show='ipynb')"
   ]
  },
  {
   "cell_type": "markdown",
   "metadata": {},
   "source": [
    "## Conditional Independence"
   ]
  },
  {
   "cell_type": "markdown",
   "metadata": {},
   "source": [
    "For events $\\alpha,\\beta$, $P \\vdash \\alpha \\perp \\beta$ if:\n",
    "    \n",
    "\\begin{equation}\n",
    "P(\\alpha, \\beta) = P(\\alpha) P(\\beta)\\\\\n",
    "P(\\alpha| \\beta) = P(\\alpha)\\\\\n",
    "P(\\beta|\\alpha) = P(\\beta)\\\\\n",
    "\\end{equation}\n",
    "\n",
    "For (sets of) random variable $X, Y, Z$\n",
    "\n",
    "$P \\vdash (X \\perp Y | Z) if:$\n",
    "\n",
    "\\begin{equation}\n",
    "P(X, Y|Z) = P(X|Z) P(Y|Z)\\\\\n",
    "P(X|Y, Z) = P(X|Z)\\\\\n",
    "P(Y|X, Z) = P(Y|Z)\\\\\n",
    "P(X, Y, Z) \\propto \\phi_1(X, Z) \\phi_2(Y, Z)\n",
    "\\end{equation}"
   ]
  },
  {
   "cell_type": "code",
   "execution_count": 29,
   "metadata": {
    "collapsed": false
   },
   "outputs": [
    {
     "data": {
      "image/png": "[encoded data removed]",
      "text/plain": [
       "<IPython.core.display.Image object>"
      ]
     },
     "execution_count": 29,
     "metadata": {},
     "output_type": "execute_result"
    }
   ],
   "source": [
    "# Graphs\n",
    "graph = [('Coin', 'X1'), ('Coin', 'X2')]\n",
    "draw_graph(graph)"
   ]
  },
  {
   "cell_type": "markdown",
   "metadata": {},
   "source": [
    "\\begin{equation}\n",
    "P \\nvdash X_1 \\perp X_2\\\\\n",
    "P \\vdash (X_1 \\perp X_2|C)\\\\\n",
    "\\end{equation}"
   ]
  },
  {
   "cell_type": "markdown",
   "metadata": {},
   "source": [
    "### D-Separation\n",
    "\n",
    "**Factorization -> Independence: BNs**\n",
    "\n",
    "*Theorem:* If P factorizes over G, and $d\\_sep_G(X, Y|Z)$\n",
    "then $P \\vdash (X \\perp Y|Z)$"
   ]
  },
  {
   "cell_type": "markdown",
   "metadata": {},
   "source": [
    "## References\n",
    "\n",
    "https://class.coursera.org/pgm-003/\n",
    "\n"
   ]
  }
 ],
 "metadata": {
  "kernelspec": {
   "display_name": "Python 3",
   "language": "python",
   "name": "python3"
  },
  "language_info": {
   "codemirror_mode": {
    "name": "ipython",
    "version": 3
   },
   "file_extension": ".py",
   "mimetype": "text/x-python",
   "name": "python",
   "nbconvert_exporter": "python",
   "pygments_lexer": "ipython3",
   "version": "3.5.1"
  },
  "nav_menu": {},
  "toc": {
   "navigate_menu": true,
   "number_sections": true,
   "sideBar": true,
   "threshold": 6,
   "toc_cell": true,
   "toc_section_display": "block",
   "toc_window_display": true
  },
  "toc_position": {
   "height": "531px",
   "left": "0px",
   "right": "1154px",
   "top": "106px",
   "width": "212px"
  }
 },
 "nbformat": 4,
 "nbformat_minor": 0
}
