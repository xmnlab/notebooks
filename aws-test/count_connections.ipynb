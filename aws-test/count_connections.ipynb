{
 "cells": [
  {
   "cell_type": "code",
   "execution_count": 1,
   "id": "dea7b919-6bfa-476a-b114-49de7610200b",
   "metadata": {},
   "outputs": [],
   "source": [
    "logs = [\n",
    "    \"1100\",\n",
    "    \"1110\",\n",
    "    \"0110\",\n",
    "    \"0001\",\n",
    "]"
   ]
  },
  {
   "cell_type": "code",
   "execution_count": 30,
   "id": "403c4296-9a20-4648-bef3-398a6dc0201a",
   "metadata": {},
   "outputs": [],
   "source": [
    "def create_matrix(logs):\n",
    "    return [\n",
    "        [connected for connected in entry] for entry in logs\n",
    "    ]"
   ]
  },
  {
   "cell_type": "code",
   "execution_count": 32,
   "id": "0b3fd9db-65f4-447a-97ca-e47e4271acf4",
   "metadata": {},
   "outputs": [],
   "source": [
    "###########\n",
    "# using set\n",
    "###########\n",
    "def count_groups(connections):\n",
    "    h = len(connections)\n",
    "    w = len(connections[0])\n",
    "    \n",
    "    # create initial groups list\n",
    "    groups = []\n",
    "    for i in range(h):\n",
    "        group = set()\n",
    "        for j in range(w):\n",
    "            if connections[i][j] == '1':\n",
    "                group |= {i}\n",
    "                group |= {j}\n",
    "        groups.append(group)\n",
    "\n",
    "    new_groups = []\n",
    "    while len(groups):\n",
    "        group = groups.pop()\n",
    "        group_id = []\n",
    "        for i in range(len(groups)):\n",
    "            if group & groups[i]:\n",
    "                group |= groups[i]\n",
    "                group_id.append(i)\n",
    "        # clean\n",
    "        for k in sorted(group_id, reverse=True):\n",
    "            groups.pop(k)\n",
    "\n",
    "        new_groups.append(group)\n",
    "\n",
    "    return len(new_groups)\n",
    "    "
   ]
  },
  {
   "cell_type": "code",
   "execution_count": 33,
   "id": "8abb09da-3fb5-452d-98a4-ffafb0ee56eb",
   "metadata": {},
   "outputs": [
    {
     "data": {
      "text/plain": [
       "2"
      ]
     },
     "execution_count": 33,
     "metadata": {},
     "output_type": "execute_result"
    }
   ],
   "source": [
    "logs = [\n",
    "    \"1100\",\n",
    "    \"1110\",\n",
    "    \"0110\",\n",
    "    \"0001\",\n",
    "]\n",
    "connections = create_matrix(logs)\n",
    "count_groups(connections)"
   ]
  },
  {
   "cell_type": "code",
   "execution_count": 34,
   "id": "6851d674-69c0-40f9-93a4-af4c1fe8a434",
   "metadata": {},
   "outputs": [
    {
     "data": {
      "text/plain": [
       "4"
      ]
     },
     "execution_count": 34,
     "metadata": {},
     "output_type": "execute_result"
    }
   ],
   "source": [
    "logs = [\n",
    "    \"1000\",\n",
    "    \"0100\",\n",
    "    \"0010\",\n",
    "    \"0001\",\n",
    "]\n",
    "connections = create_matrix(logs)\n",
    "count_groups(connections)"
   ]
  }
 ],
 "metadata": {
  "kernelspec": {
   "display_name": "Python 3 (ipykernel)",
   "language": "python",
   "name": "python3"
  },
  "language_info": {
   "codemirror_mode": {
    "name": "ipython",
    "version": 3
   },
   "file_extension": ".py",
   "mimetype": "text/x-python",
   "name": "python",
   "nbconvert_exporter": "python",
   "pygments_lexer": "ipython3",
   "version": "3.9.7"
  }
 },
 "nbformat": 4,
 "nbformat_minor": 5
}
