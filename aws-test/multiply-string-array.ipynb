{
 "cells": [
  {
   "cell_type": "code",
   "execution_count": 23,
   "id": "189baac1-9942-4802-883f-805b9541a029",
   "metadata": {},
   "outputs": [],
   "source": [
    "import numpy as np\n",
    "\n",
    "\n",
    "def get_rank_adj_badges(badges: list[str]):\n",
    "    n = len(badges)\n",
    "    \n",
    "    negative_count = badges.count(-1)\n",
    "    if negative_count == 0:\n",
    "        return n\n",
    "    \n",
    "    negative_0 = badges.index(-1)\n",
    "    negative_1 = badges[::-1].index(-1)\n",
    "    \n",
    "    if negative_count % 2 == 0:\n",
    "        return n\n",
    "    \n",
    "    if negative_0 == n - negative_1:\n",
    "        # just one -1\n",
    "        return (\n",
    "            (n - negative_0) - 1\n",
    "            if negative_0 < n / 2 \n",
    "            else negative_0 - 1\n",
    "        )\n",
    "    \n",
    "    return (\n",
    "        (n - negative_0) - 1\n",
    "        if n - negative_0 > n - negative_1\n",
    "        else n - negative_1 - 1\n",
    "    )\n",
    "\n",
    "np.testing.assert_almost_equal(get_rank_adj_badges([1, 1, 1, 1, 1, 1]), 6)\n",
    "np.testing.assert_almost_equal(get_rank_adj_badges([1, 1, 1, 1, -1, 1]), 4)\n",
    "np.testing.assert_almost_equal(get_rank_adj_badges([1, -1, 1, 1, -1, 1]), 6)\n",
    "np.testing.assert_almost_equal(get_rank_adj_badges([1]*100000), 100000)"
   ]
  }
 ],
 "metadata": {
  "kernelspec": {
   "display_name": "Python 3 (ipykernel)",
   "language": "python",
   "name": "python3"
  },
  "language_info": {
   "codemirror_mode": {
    "name": "ipython",
    "version": 3
   },
   "file_extension": ".py",
   "mimetype": "text/x-python",
   "name": "python",
   "nbconvert_exporter": "python",
   "pygments_lexer": "ipython3",
   "version": "3.9.7"
  }
 },
 "nbformat": 4,
 "nbformat_minor": 5
}
