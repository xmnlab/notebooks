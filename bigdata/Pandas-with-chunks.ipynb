{
 "cells": [
  {
   "cell_type": "code",
   "execution_count": 1,
   "id": "4cb9d79f-cea4-4d52-b041-1ef8661284c3",
   "metadata": {},
   "outputs": [],
   "source": [
    "import pandas as pd"
   ]
  },
  {
   "cell_type": "markdown",
   "id": "916eaf50-7988-4e2e-8d64-7d2be57fe2fa",
   "metadata": {},
   "source": [
    "If the file is small, you can open all the file in one shot."
   ]
  },
  {
   "cell_type": "code",
   "execution_count": 2,
   "id": "eecb8f9b-50ee-41ed-961e-ecf51696a160",
   "metadata": {},
   "outputs": [
    {
     "data": {
      "text/html": [
       "<div>\n",
       "<style scoped>\n",
       "    .dataframe tbody tr th:only-of-type {\n",
       "        vertical-align: middle;\n",
       "    }\n",
       "\n",
       "    .dataframe tbody tr th {\n",
       "        vertical-align: top;\n",
       "    }\n",
       "\n",
       "    .dataframe thead th {\n",
       "        text-align: right;\n",
       "    }\n",
       "</style>\n",
       "<table border=\"1\" class=\"dataframe\">\n",
       "  <thead>\n",
       "    <tr style=\"text-align: right;\">\n",
       "      <th></th>\n",
       "      <th>Unnamed: 0</th>\n",
       "      <th>id</th>\n",
       "      <th>name</th>\n",
       "    </tr>\n",
       "  </thead>\n",
       "  <tbody>\n",
       "    <tr>\n",
       "      <th>0</th>\n",
       "      <td>0</td>\n",
       "      <td>0</td>\n",
       "      <td>name_0</td>\n",
       "    </tr>\n",
       "    <tr>\n",
       "      <th>1</th>\n",
       "      <td>1</td>\n",
       "      <td>1</td>\n",
       "      <td>name_1</td>\n",
       "    </tr>\n",
       "    <tr>\n",
       "      <th>2</th>\n",
       "      <td>2</td>\n",
       "      <td>2</td>\n",
       "      <td>name_2</td>\n",
       "    </tr>\n",
       "    <tr>\n",
       "      <th>3</th>\n",
       "      <td>3</td>\n",
       "      <td>3</td>\n",
       "      <td>name_3</td>\n",
       "    </tr>\n",
       "    <tr>\n",
       "      <th>4</th>\n",
       "      <td>4</td>\n",
       "      <td>4</td>\n",
       "      <td>name_4</td>\n",
       "    </tr>\n",
       "  </tbody>\n",
       "</table>\n",
       "</div>"
      ],
      "text/plain": [
       "   Unnamed: 0  id    name\n",
       "0           0   0  name_0\n",
       "1           1   1  name_1\n",
       "2           2   2  name_2\n",
       "3           3   3  name_3\n",
       "4           4   4  name_4"
      ]
     },
     "execution_count": 2,
     "metadata": {},
     "output_type": "execute_result"
    }
   ],
   "source": [
    "df = pd.read_csv(\"data/data_1000000.csv\")\n",
    "df.head()"
   ]
  },
  {
   "cell_type": "code",
   "execution_count": 3,
   "id": "4ac4add2-e418-41a0-be9e-f15fe4cc5612",
   "metadata": {},
   "outputs": [
    {
     "name": "stdout",
     "output_type": "stream",
     "text": [
      "id sum: 499999500000\n",
      "id count: 1000000\n"
     ]
    }
   ],
   "source": [
    "print(\"id sum:\", df.id.sum())\n",
    "print(\"id count:\", df.id.count())"
   ]
  },
  {
   "cell_type": "markdown",
   "id": "67ee4b75-dd2e-4db3-b863-aeb5b87a512d",
   "metadata": {},
   "source": [
    "But, if the file is big, you probably need to open the file in chunks, for example:"
   ]
  },
  {
   "cell_type": "code",
   "execution_count": 4,
   "id": "8be524e0-769a-41df-a7d3-85d0cc7c5d73",
   "metadata": {},
   "outputs": [],
   "source": [
    "# help(pd.read_csv)"
   ]
  },
  {
   "cell_type": "code",
   "execution_count": 5,
   "id": "ea084b28-fddd-41ff-8a65-8dc20314ea27",
   "metadata": {},
   "outputs": [
    {
     "name": "stdout",
     "output_type": "stream",
     "text": [
      "id sum:: 49999950000000\n",
      "id count: 100000000\n"
     ]
    }
   ],
   "source": [
    "import os\n",
    "\n",
    "chunksize = 10000\n",
    "total_sum = 0\n",
    "count = 0\n",
    "# header = [\"id\", \"name\"]\n",
    "\n",
    "# the first line is the header\n",
    "# total_rows = os.system(\"wc -l data/data_1000000.csv\") - 1\n",
    "\n",
    "# n_chunks = total_rows / chunk_size + total_rows % chunk_size\n",
    "\n",
    "for df_chunk in pd.read_csv(\"data/data_1000000.csv\", chunksize=chunksize):\n",
    "    count += df.id.count()\n",
    "    total_sum += df.id.sum()\n",
    "print(\"id sum::\", total_sum)\n",
    "print(\"id count:\", count)"
   ]
  }
 ],
 "metadata": {
  "kernelspec": {
   "display_name": "Python 3 (ipykernel)",
   "language": "python",
   "name": "python3"
  },
  "language_info": {
   "codemirror_mode": {
    "name": "ipython",
    "version": 3
   },
   "file_extension": ".py",
   "mimetype": "text/x-python",
   "name": "python",
   "nbconvert_exporter": "python",
   "pygments_lexer": "ipython3",
   "version": "3.10.5"
  }
 },
 "nbformat": 4,
 "nbformat_minor": 5
}
