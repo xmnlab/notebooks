{
 "cells": [
  {
   "cell_type": "markdown",
   "metadata": {},
   "source": [
    "# How to create a package on Conda-forge  "
   ]
  },
  {
   "cell_type": "markdown",
   "metadata": {},
   "source": [
    "## Documentation\n",
    "\n",
    "- https://conda-forge.org/docs/"
   ]
  },
  {
   "cell_type": "markdown",
   "metadata": {},
   "source": [
    "## Communication\n",
    "\n",
    "- Gitter: https://gitter.im/conda-forge/conda-forge.github.io\n",
    "- Twitter: https://twitter.com/condaforge"
   ]
  },
  {
   "cell_type": "markdown",
   "metadata": {},
   "source": [
    "## Some videos about conda and conda-forge\n",
    "\n",
    "- Michael Sarahan - Making packages and packaging \"just work\" (https://www.youtube.com/watch?v=Kamld5Z-xx0)\n",
    "- Filipe Pires Alvarenga Fernandes Community powered packaging conda forge PyCon 2017 (https://www.youtube.com/watch?v=qJFkIuzD6tI)\n",
    "- Community-Powered Packaging with conda-forge | SciPy 2016 | Phillip Elson (https://www.youtube.com/watch?v=Hacl_YFzZOw)"
   ]
  },
  {
   "cell_type": "markdown",
   "metadata": {},
   "source": [
    "## Workflow"
   ]
  },
  {
   "cell_type": "code",
   "execution_count": 1,
   "metadata": {},
   "outputs": [],
   "source": [
    "from IPython.display import HTML"
   ]
  },
  {
   "cell_type": "code",
   "execution_count": 2,
   "metadata": {},
   "outputs": [
    {
     "data": {
      "text/html": [
       "<iframe src=\"https://conda-forge.org/\" width=\"100%\" height=\"500px\"></iframe>"
      ],
      "text/plain": [
       "<IPython.core.display.HTML object>"
      ]
     },
     "execution_count": 2,
     "metadata": {},
     "output_type": "execute_result"
    }
   ],
   "source": [
    "HTML('<iframe src=\"https://conda-forge.org/\" width=\"100%\" height=\"500px\"></iframe>')"
   ]
  },
  {
   "cell_type": "markdown",
   "metadata": {},
   "source": [
    "## Example"
   ]
  },
  {
   "cell_type": "markdown",
   "metadata": {},
   "source": [
    "We will use ibis-framework as example (https://github.com/conda-forge/ibis-framework-feedstock).\n",
    "\n",
    "Basically, all code/configuration you we need to do we will do on `recipe` folder. At least should exist the `meta.yaml` file inside that folder, but could exist more files there, such as: \n",
    "\n",
    "- (e.g.) LICENSE (when there is no license on the original package (e.g. package from pypi or github)\n",
    "- build.[sh,bat] (additional script that builds the package for linux/osx and windows respectively) \n",
    "- run_test.[py,pl,sh,bat] (additional test scripts)\n",
    "\n",
    "The common information we need to set is: \n",
    "  - name\n",
    "  - version\n",
    "  - sha256\n",
    "  - url of the source\n",
    "  - requirements\n",
    "  - tests\n",
    "  \n",
    "In this example we will just take a look into meta.yaml."
   ]
  },
  {
   "cell_type": "markdown",
   "metadata": {},
   "source": [
    "```yaml\n",
    "# https://github.com/conda-forge/ibis-framework-feedstock/blob/master/recipe/meta.yaml\n",
    "{% set version = \"0.13.0\" %}\n",
    "{% set tag = \"v\" + version %}\n",
    "{% set extension = \"tar.gz\" %}\n",
    "{% set fn = tag + \".\" + extension %}\n",
    "\n",
    "package:\n",
    "  name: ibis-framework\n",
    "  version: {{ version }}\n",
    "\n",
    "source:\n",
    "  fn: {{ fn }}\n",
    "  url: https://github.com/ibis-project/ibis/archive/{{ fn }}\n",
    "  sha256: 3da1b51c72e074183abb08a2724a5b77f90e7328ab014de5ff7e699daf5c75f9\n",
    "# if you get the package from pypi you can see the sha256 on the download page of the package\n",
    "# like https://pypi.org/project/ibis-framework/#files\n",
    "# if you are using a package from another source you can download the package and use\n",
    "# openssl sha256 PACKAGE_FILE\n",
    "\n",
    "build:\n",
    "  number: 2\n",
    "  script: python setup.py install --single-version-externally-managed --record record.txt\n",
    "\n",
    "# if you are creating a package for a new version, you should put build number: 0\n",
    "# if you are just rebuilding the package you should increase the build number\n",
    "\n",
    "requirements:\n",
    "  # build requirements is just the libraries you need to build your package\n",
    "  # in another words, the libraries you need to compile your package\n",
    "  build:\n",
    "    - enum34  # [py27]\n",
    "    - funcsigs  # [py27]\n",
    "    - functools32  # [py27]\n",
    "    - multipledispatch\n",
    "    - numpy >=1.10.0\n",
    "    - pandas >=0.18.1\n",
    "    - python\n",
    "    - regex\n",
    "    - setuptools\n",
    "    - six\n",
    "    - toolz\n",
    "  # the run requirements is the dependencies of your library to run\n",
    "  run:\n",
    "    - clickhouse-driver >=0.0.8\n",
    "    - enum34  # [py27]\n",
    "    - funcsigs  # [py27]\n",
    "    - functools32  # [py27]\n",
    "    - google-cloud-bigquery <0.28\n",
    "    - graphviz\n",
    "    - impyla >=0.14.0\n",
    "    - multipledispatch\n",
    "    - numpy >=1.10.0\n",
    "    - pandas >=0.18.1\n",
    "    - pathlib2  # [py27]\n",
    "    - psycopg2\n",
    "    - pyarrow >=0.6.0  # [unix or (win64 and (py35 or py36))]\n",
    "    - pymysql\n",
    "    - pytables >=3.0.0\n",
    "    - python\n",
    "    - python-graphviz\n",
    "    - python-hdfs >=2.0.16\n",
    "    - regex\n",
    "    - setuptools\n",
    "    - six\n",
    "    - sqlalchemy >=1.0.0,<1.1.15\n",
    "    - thrift 0.9.3  # [py27]\n",
    "    - thriftpy <=0.3.9  # [py27]\n",
    "    - toolz\n",
    "\n",
    "# conda-forge requires some test to be sure that the package will work after installation\n",
    "test:\n",
    "  requires:\n",
    "    - pytest >=3\n",
    "    - mock  # [py27]\n",
    "  imports:\n",
    "    - ibis\n",
    "    - ibis.expr\n",
    "    - ibis.expr.tests\n",
    "    - ibis.hive\n",
    "    - ibis.hive.tests\n",
    "    - ibis.impala  # [linux]\n",
    "    - ibis.impala.tests  # [linux]\n",
    "    - ibis.spark\n",
    "    - ibis.spark.tests\n",
    "    - ibis.sql\n",
    "    - ibis.sql.presto\n",
    "    - ibis.sql.presto.tests\n",
    "    - ibis.sql.redshift\n",
    "    - ibis.sql.redshift.tests\n",
    "    - ibis.sql.sqlite\n",
    "    - ibis.sql.sqlite.tests\n",
    "    - ibis.sql.tests\n",
    "    - ibis.sql.vertica\n",
    "    - ibis.sql.vertica.tests\n",
    "    - ibis.tests\n",
    "\n",
    "# this is some information about the package\n",
    "about:\n",
    "  license: Apache 2.0\n",
    "  # generally is necessary to put the license file\n",
    "  # if there is no license on the original package, \n",
    "  # is recommended to create a license file\n",
    "  # https://conda-forge.org/docs/meta.html#packaging-the-license-manually\n",
    "  home: http://www.ibis-project.org\n",
    "  summary: 'Productivity-centric Python Big Data Framework'\n",
    "\n",
    "extra:\n",
    "  recipe-maintainers:\n",
    "    - cpcloud\n",
    "    - mariusvniekerk\n",
    "    - wesm\n",
    "\n",
    "# when all changes is done, be sure that all comments are removed.\n",
    "```"
   ]
  }
 ],
 "metadata": {
  "kernelspec": {
   "display_name": "Python 3",
   "language": "python",
   "name": "python3"
  },
  "language_info": {
   "codemirror_mode": {
    "name": "ipython",
    "version": 3
   },
   "file_extension": ".py",
   "mimetype": "text/x-python",
   "name": "python",
   "nbconvert_exporter": "python",
   "pygments_lexer": "ipython3",
   "version": "3.6.4"
  }
 },
 "nbformat": 4,
 "nbformat_minor": 2
}
