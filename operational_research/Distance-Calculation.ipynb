{
 "cells": [
  {
   "cell_type": "code",
   "execution_count": 1,
   "metadata": {
    "collapsed": false
   },
   "outputs": [],
   "source": [
    "from collections import OrderedDict\n",
    "from IPython.display import HTML, display\n",
    "from matplotlib import pyplot as plt\n",
    "from datetime import datetime\n",
    "\n",
    "import folium\n",
    "import io\n",
    "# import simplejson\n",
    "# import urllib\n",
    "import numpy as np\n",
    "import pandas as pd\n",
    "import statsmodels.api as sm\n",
    "import utm\n",
    "# import webbrowser\n",
    "% matplotlib inline"
   ]
  },
  {
   "cell_type": "code",
   "execution_count": 2,
   "metadata": {
    "collapsed": false
   },
   "outputs": [],
   "source": [
    "def calc_euclidean(\n",
    "    origin: tuple, destiny: tuple\n",
    ") -> float:\n",
    "    return np.sqrt(\n",
    "        (destiny[0]-origin[0])**2 + \n",
    "        (destiny[1]-origin[1])**2\n",
    "    )"
   ]
  },
  {
   "cell_type": "code",
   "execution_count": 3,
   "metadata": {
    "collapsed": true
   },
   "outputs": [],
   "source": [
    "def calc_rectangle(\n",
    "    origin: tuple, destiny: tuple\n",
    ") -> float:\n",
    "    return (\n",
    "        abs(destiny[0]-origin[0]) + \n",
    "        abs(destiny[1]-origin[1])\n",
    "    )"
   ]
  },
  {
   "cell_type": "code",
   "execution_count": 4,
   "metadata": {
    "collapsed": true
   },
   "outputs": [],
   "source": [
    "places = [\n",
    "    'Badajoz, Teatro López de Ayala',\n",
    "    'Badajoz, Puente de la Universidad',\n",
    "    'Badajoz, Centro comercial El Faro',\n",
    "    'Badajoz, Palacio de Congresos Manuel Rojas',\n",
    "    'Badajoz, Centro de Salud Valdepasillas',\n",
    "    'Badajoz, Puerta del Pilar',\n",
    "    'Badajoz, La Alcazaba',\n",
    "    'Badajoz, Plaza Alta',\n",
    "    'Badajoz, Puerta Palma',\n",
    "    'Badajoz, Puente Real'\n",
    "]"
   ]
  },
  {
   "cell_type": "code",
   "execution_count": 5,
   "metadata": {
    "collapsed": true
   },
   "outputs": [],
   "source": [
    "# Location data from googlemaps\n",
    "positions_latlon = []\n",
    "# 1 - Teatro López de Ayala\n",
    "positions_latlon.append((38.8762837,-6.9745847))\n",
    "# 2. Puente de la Universidad\n",
    "positions_latlon.append((38.882257, -6.9861811))\n",
    "# 3. Centro comercial “El Faro”\n",
    "positions_latlon.append((38.884088, -7.0242667))\n",
    "# 4. Palacio de Congresos “Manuel Rojas”,\n",
    "positions_latlon.append((38.8758768,-6.9704163))\n",
    "# 5. Fuente de Valdepasillas\n",
    "positions_latlon.append((38.864476, -6.9780557))\n",
    "# 6. Puerta del Pilar\n",
    "positions_latlon.append((38.8750098, -6.9733397))\n",
    "# 7. La Alcazaba\n",
    "positions_latlon.append((38.8834097, -6.9707085))\n",
    "# 8. Plaza Alta\n",
    "positions_latlon.append((38.8813045, -6.9704468))\n",
    "# 9. Puerta Palma\n",
    "positions_latlon.append((38.8805376, -6.9777905))\n",
    "# 10. Puente Real\n",
    "positions_latlon.append((38.8781387, -6.9965576))"
   ]
  },
  {
   "cell_type": "code",
   "execution_count": 6,
   "metadata": {
    "collapsed": false
   },
   "outputs": [
    {
     "data": {
      "text/plain": [
       "[(675697.1206430902, 4304997.36541177),\n",
       " (674676.456215953, 4305638.036457435),\n",
       " (671368.2692546261, 4305769.014606624),\n",
       " (676059.7504023478, 4304960.241261738),\n",
       " (675425.0317394832, 4303680.228215446),\n",
       " (675808.2694125636, 4304858.381575373),\n",
       " (676015.8069009123, 4305795.706528927),\n",
       " (676043.7055033607, 4305562.568521262),\n",
       " (675408.5416969855, 4305463.310096603),\n",
       " (673786.3670745756, 4305161.157332059)]"
      ]
     },
     "execution_count": 6,
     "metadata": {},
     "output_type": "execute_result"
    }
   ],
   "source": [
    "positions_decimal = [\n",
    "    utm.from_latlon(*loc)[:2] for loc in positions_latlon\n",
    "]\n",
    "positions_decimal"
   ]
  },
  {
   "cell_type": "code",
   "execution_count": 7,
   "metadata": {
    "collapsed": false
   },
   "outputs": [
    {
     "data": {
      "text/html": [
       "<div style=\"width:100%;\"><div style=\"position:relative;width:100%;height:0;padding-bottom:60%;\"><iframe src=\"data:text/html;base64,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\" style=\"position:absolute;width:100%;height:100%;left:0;top:0;\"></iframe></div></div>"
      ],
      "text/plain": [
       "<folium.folium.Map at 0x7fc2761d4080>"
      ]
     },
     "execution_count": 7,
     "metadata": {},
     "output_type": "execute_result"
    }
   ],
   "source": [
    "map_osm = folium.Map(location=positions_latlon[1], zoom_start=14)\n",
    "\n",
    "for i, p in enumerate(positions_latlon):\n",
    "    folium.Marker(p, popup=places[i]).add_to(map_osm)\n",
    "map_osm"
   ]
  },
  {
   "cell_type": "markdown",
   "metadata": {},
   "source": [
    "### Distances"
   ]
  },
  {
   "cell_type": "code",
   "execution_count": 8,
   "metadata": {
    "collapsed": false
   },
   "outputs": [],
   "source": [
    "matrix_real_distance = pd.DataFrame({\n",
    "    i: [0]*10 for i in range(10)\n",
    "})\n",
    "\n",
    "matrix_euclidean_distance = pd.DataFrame({\n",
    "    i: [0]*10 for i in range(10)\n",
    "})\n",
    "\n",
    "matrix_rectangle_distance = pd.DataFrame({\n",
    "    i: [0]*10 for i in range(10)\n",
    "})"
   ]
  },
  {
   "cell_type": "code",
   "execution_count": 9,
   "metadata": {
    "collapsed": true
   },
   "outputs": [],
   "source": [
    "# matrix de distancias reais\n",
    "data_real_csv = \"\"\"\n",
    "0;1800;6600;1100;2000;350;1600;1800;900;2600\n",
    "1800;0;4300;2800;2900;1900;1800;3500;1200;2100\n",
    "6600;4300;0;7300;5900;6000;5600;7300;5400;4500\n",
    "1100;2800;7300;0;2300;450;2200;1800;1500;3100\n",
    "2000;2900;5900;2300;0;2200;3400;4200;2800;2400\n",
    "350;1900;6000;450;2200;0;1800;1900;1100;2600\n",
    "1600;1800;5600;2200;3400;1800;0;2200;650;2800\n",
    "1800;3500;7300;1800;4200;1900;2200;0;1000;3100\n",
    "900;1200;5400;1500;2800;1100;650;1000;0;2200\n",
    "2600;2100;4500;3100;2400;2600;2800;3100;2200;0\n",
    "\"\"\"\n",
    "\n",
    "matrix_real_distance = pd.read_csv(\n",
    "    io.StringIO(data_real_csv), \n",
    "    index_col=False, header=None,\n",
    "    sep=';'\n",
    ")\n",
    "\n",
    "# check values\n",
    "_m = matrix_real_distance\n",
    "_n = matrix_real_distance.shape[0]\n",
    "for i in range(_n):\n",
    "    for j in range(_n):\n",
    "        assert _m.iloc[i, j] == _m.iloc[j, i]"
   ]
  },
  {
   "cell_type": "code",
   "execution_count": 10,
   "metadata": {
    "collapsed": true
   },
   "outputs": [],
   "source": [
    "for i1, loc1 in enumerate(positions_decimal):\n",
    "    for i2, loc2 in enumerate(positions_decimal):\n",
    "        # euclidean distance\n",
    "        matrix_euclidean_distance.iloc[i1, i2] = (\n",
    "            calc_euclidean(loc1, loc2)\n",
    "        )\n",
    "        \n",
    "        # rectangle distance\n",
    "        matrix_rectangle_distance.iloc[i1, i2] = (\n",
    "            calc_rectangle(loc1, loc2)\n",
    "        )\n",
    "    # input()"
   ]
  },
  {
   "cell_type": "code",
   "execution_count": 11,
   "metadata": {
    "collapsed": false
   },
   "outputs": [
    {
     "name": "stdout",
     "output_type": "stream",
     "text": [
      "REAL DISTANCE\n"
     ]
    },
    {
     "data": {
      "text/html": [
       "<div>\n",
       "<table border=\"1\" class=\"dataframe\">\n",
       "  <thead>\n",
       "    <tr style=\"text-align: right;\">\n",
       "      <th></th>\n",
       "      <th>0</th>\n",
       "      <th>1</th>\n",
       "      <th>2</th>\n",
       "      <th>3</th>\n",
       "      <th>4</th>\n",
       "      <th>5</th>\n",
       "      <th>6</th>\n",
       "      <th>7</th>\n",
       "      <th>8</th>\n",
       "      <th>9</th>\n",
       "    </tr>\n",
       "  </thead>\n",
       "  <tbody>\n",
       "    <tr>\n",
       "      <th>0</th>\n",
       "      <td>0</td>\n",
       "      <td>1800</td>\n",
       "      <td>6600</td>\n",
       "      <td>1100</td>\n",
       "      <td>2000</td>\n",
       "      <td>350</td>\n",
       "      <td>1600</td>\n",
       "      <td>1800</td>\n",
       "      <td>900</td>\n",
       "      <td>2600</td>\n",
       "    </tr>\n",
       "    <tr>\n",
       "      <th>1</th>\n",
       "      <td>1800</td>\n",
       "      <td>0</td>\n",
       "      <td>4300</td>\n",
       "      <td>2800</td>\n",
       "      <td>2900</td>\n",
       "      <td>1900</td>\n",
       "      <td>1800</td>\n",
       "      <td>3500</td>\n",
       "      <td>1200</td>\n",
       "      <td>2100</td>\n",
       "    </tr>\n",
       "    <tr>\n",
       "      <th>2</th>\n",
       "      <td>6600</td>\n",
       "      <td>4300</td>\n",
       "      <td>0</td>\n",
       "      <td>7300</td>\n",
       "      <td>5900</td>\n",
       "      <td>6000</td>\n",
       "      <td>5600</td>\n",
       "      <td>7300</td>\n",
       "      <td>5400</td>\n",
       "      <td>4500</td>\n",
       "    </tr>\n",
       "    <tr>\n",
       "      <th>3</th>\n",
       "      <td>1100</td>\n",
       "      <td>2800</td>\n",
       "      <td>7300</td>\n",
       "      <td>0</td>\n",
       "      <td>2300</td>\n",
       "      <td>450</td>\n",
       "      <td>2200</td>\n",
       "      <td>1800</td>\n",
       "      <td>1500</td>\n",
       "      <td>3100</td>\n",
       "    </tr>\n",
       "    <tr>\n",
       "      <th>4</th>\n",
       "      <td>2000</td>\n",
       "      <td>2900</td>\n",
       "      <td>5900</td>\n",
       "      <td>2300</td>\n",
       "      <td>0</td>\n",
       "      <td>2200</td>\n",
       "      <td>3400</td>\n",
       "      <td>4200</td>\n",
       "      <td>2800</td>\n",
       "      <td>2400</td>\n",
       "    </tr>\n",
       "    <tr>\n",
       "      <th>5</th>\n",
       "      <td>350</td>\n",
       "      <td>1900</td>\n",
       "      <td>6000</td>\n",
       "      <td>450</td>\n",
       "      <td>2200</td>\n",
       "      <td>0</td>\n",
       "      <td>1800</td>\n",
       "      <td>1900</td>\n",
       "      <td>1100</td>\n",
       "      <td>2600</td>\n",
       "    </tr>\n",
       "    <tr>\n",
       "      <th>6</th>\n",
       "      <td>1600</td>\n",
       "      <td>1800</td>\n",
       "      <td>5600</td>\n",
       "      <td>2200</td>\n",
       "      <td>3400</td>\n",
       "      <td>1800</td>\n",
       "      <td>0</td>\n",
       "      <td>2200</td>\n",
       "      <td>650</td>\n",
       "      <td>2800</td>\n",
       "    </tr>\n",
       "    <tr>\n",
       "      <th>7</th>\n",
       "      <td>1800</td>\n",
       "      <td>3500</td>\n",
       "      <td>7300</td>\n",
       "      <td>1800</td>\n",
       "      <td>4200</td>\n",
       "      <td>1900</td>\n",
       "      <td>2200</td>\n",
       "      <td>0</td>\n",
       "      <td>1000</td>\n",
       "      <td>3100</td>\n",
       "    </tr>\n",
       "    <tr>\n",
       "      <th>8</th>\n",
       "      <td>900</td>\n",
       "      <td>1200</td>\n",
       "      <td>5400</td>\n",
       "      <td>1500</td>\n",
       "      <td>2800</td>\n",
       "      <td>1100</td>\n",
       "      <td>650</td>\n",
       "      <td>1000</td>\n",
       "      <td>0</td>\n",
       "      <td>2200</td>\n",
       "    </tr>\n",
       "    <tr>\n",
       "      <th>9</th>\n",
       "      <td>2600</td>\n",
       "      <td>2100</td>\n",
       "      <td>4500</td>\n",
       "      <td>3100</td>\n",
       "      <td>2400</td>\n",
       "      <td>2600</td>\n",
       "      <td>2800</td>\n",
       "      <td>3100</td>\n",
       "      <td>2200</td>\n",
       "      <td>0</td>\n",
       "    </tr>\n",
       "  </tbody>\n",
       "</table>\n",
       "</div>"
      ],
      "text/plain": [
       "      0     1     2     3     4     5     6     7     8     9\n",
       "0     0  1800  6600  1100  2000   350  1600  1800   900  2600\n",
       "1  1800     0  4300  2800  2900  1900  1800  3500  1200  2100\n",
       "2  6600  4300     0  7300  5900  6000  5600  7300  5400  4500\n",
       "3  1100  2800  7300     0  2300   450  2200  1800  1500  3100\n",
       "4  2000  2900  5900  2300     0  2200  3400  4200  2800  2400\n",
       "5   350  1900  6000   450  2200     0  1800  1900  1100  2600\n",
       "6  1600  1800  5600  2200  3400  1800     0  2200   650  2800\n",
       "7  1800  3500  7300  1800  4200  1900  2200     0  1000  3100\n",
       "8   900  1200  5400  1500  2800  1100   650  1000     0  2200\n",
       "9  2600  2100  4500  3100  2400  2600  2800  3100  2200     0"
      ]
     },
     "metadata": {},
     "output_type": "display_data"
    },
    {
     "name": "stdout",
     "output_type": "stream",
     "text": [
      "EUCLIDEAN DISTANCE\n"
     ]
    },
    {
     "data": {
      "text/html": [
       "<div>\n",
       "<table border=\"1\" class=\"dataframe\">\n",
       "  <thead>\n",
       "    <tr style=\"text-align: right;\">\n",
       "      <th></th>\n",
       "      <th>0</th>\n",
       "      <th>1</th>\n",
       "      <th>2</th>\n",
       "      <th>3</th>\n",
       "      <th>4</th>\n",
       "      <th>5</th>\n",
       "      <th>6</th>\n",
       "      <th>7</th>\n",
       "      <th>8</th>\n",
       "      <th>9</th>\n",
       "    </tr>\n",
       "  </thead>\n",
       "  <tbody>\n",
       "    <tr>\n",
       "      <th>0</th>\n",
       "      <td>0.000000</td>\n",
       "      <td>1205.078944</td>\n",
       "      <td>4397.089586</td>\n",
       "      <td>364.525095</td>\n",
       "      <td>1344.947124</td>\n",
       "      <td>177.962231</td>\n",
       "      <td>859.598435</td>\n",
       "      <td>663.004993</td>\n",
       "      <td>548.071398</td>\n",
       "      <td>1917.760932</td>\n",
       "    </tr>\n",
       "    <tr>\n",
       "      <th>1</th>\n",
       "      <td>1205.078944</td>\n",
       "      <td>0.000000</td>\n",
       "      <td>3310.778798</td>\n",
       "      <td>1540.424985</td>\n",
       "      <td>2096.038747</td>\n",
       "      <td>1374.359068</td>\n",
       "      <td>1348.599314</td>\n",
       "      <td>1369.330502</td>\n",
       "      <td>752.647629</td>\n",
       "      <td>1009.788285</td>\n",
       "    </tr>\n",
       "    <tr>\n",
       "      <th>2</th>\n",
       "      <td>4397.089586</td>\n",
       "      <td>3310.778798</td>\n",
       "      <td>0.000000</td>\n",
       "      <td>4760.683741</td>\n",
       "      <td>4562.932220</td>\n",
       "      <td>4532.422522</td>\n",
       "      <td>4647.614295</td>\n",
       "      <td>4679.991891</td>\n",
       "      <td>4051.821400</td>\n",
       "      <td>2493.328605</td>\n",
       "    </tr>\n",
       "    <tr>\n",
       "      <th>3</th>\n",
       "      <td>364.525095</td>\n",
       "      <td>1540.424985</td>\n",
       "      <td>4760.683741</td>\n",
       "      <td>0.000000</td>\n",
       "      <td>1428.741117</td>\n",
       "      <td>271.326526</td>\n",
       "      <td>836.620131</td>\n",
       "      <td>602.540925</td>\n",
       "      <td>822.891871</td>\n",
       "      <td>2282.244295</td>\n",
       "    </tr>\n",
       "    <tr>\n",
       "      <th>4</th>\n",
       "      <td>1344.947124</td>\n",
       "      <td>2096.038747</td>\n",
       "      <td>4562.932220</td>\n",
       "      <td>1428.741117</td>\n",
       "      <td>0.000000</td>\n",
       "      <td>1238.917452</td>\n",
       "      <td>2196.420676</td>\n",
       "      <td>1981.404111</td>\n",
       "      <td>1783.158130</td>\n",
       "      <td>2208.703903</td>\n",
       "    </tr>\n",
       "    <tr>\n",
       "      <th>5</th>\n",
       "      <td>177.962231</td>\n",
       "      <td>1374.359068</td>\n",
       "      <td>4532.422522</td>\n",
       "      <td>271.326526</td>\n",
       "      <td>1238.917452</td>\n",
       "      <td>0.000000</td>\n",
       "      <td>960.025978</td>\n",
       "      <td>742.502126</td>\n",
       "      <td>725.066040</td>\n",
       "      <td>2044.446679</td>\n",
       "    </tr>\n",
       "    <tr>\n",
       "      <th>6</th>\n",
       "      <td>859.598435</td>\n",
       "      <td>1348.599314</td>\n",
       "      <td>4647.614295</td>\n",
       "      <td>836.620131</td>\n",
       "      <td>2196.420676</td>\n",
       "      <td>960.025978</td>\n",
       "      <td>0.000000</td>\n",
       "      <td>234.801326</td>\n",
       "      <td>692.284924</td>\n",
       "      <td>2317.985035</td>\n",
       "    </tr>\n",
       "    <tr>\n",
       "      <th>7</th>\n",
       "      <td>663.004993</td>\n",
       "      <td>1369.330502</td>\n",
       "      <td>4679.991891</td>\n",
       "      <td>602.540925</td>\n",
       "      <td>1981.404111</td>\n",
       "      <td>742.502126</td>\n",
       "      <td>234.801326</td>\n",
       "      <td>0.000000</td>\n",
       "      <td>642.872690</td>\n",
       "      <td>2292.751126</td>\n",
       "    </tr>\n",
       "    <tr>\n",
       "      <th>8</th>\n",
       "      <td>548.071398</td>\n",
       "      <td>752.647629</td>\n",
       "      <td>4051.821400</td>\n",
       "      <td>822.891871</td>\n",
       "      <td>1783.158130</td>\n",
       "      <td>725.066040</td>\n",
       "      <td>692.284924</td>\n",
       "      <td>642.872690</td>\n",
       "      <td>0.000000</td>\n",
       "      <td>1650.074786</td>\n",
       "    </tr>\n",
       "    <tr>\n",
       "      <th>9</th>\n",
       "      <td>1917.760932</td>\n",
       "      <td>1009.788285</td>\n",
       "      <td>2493.328605</td>\n",
       "      <td>2282.244295</td>\n",
       "      <td>2208.703903</td>\n",
       "      <td>2044.446679</td>\n",
       "      <td>2317.985035</td>\n",
       "      <td>2292.751126</td>\n",
       "      <td>1650.074786</td>\n",
       "      <td>0.000000</td>\n",
       "    </tr>\n",
       "  </tbody>\n",
       "</table>\n",
       "</div>"
      ],
      "text/plain": [
       "             0            1            2            3            4  \\\n",
       "0     0.000000  1205.078944  4397.089586   364.525095  1344.947124   \n",
       "1  1205.078944     0.000000  3310.778798  1540.424985  2096.038747   \n",
       "2  4397.089586  3310.778798     0.000000  4760.683741  4562.932220   \n",
       "3   364.525095  1540.424985  4760.683741     0.000000  1428.741117   \n",
       "4  1344.947124  2096.038747  4562.932220  1428.741117     0.000000   \n",
       "5   177.962231  1374.359068  4532.422522   271.326526  1238.917452   \n",
       "6   859.598435  1348.599314  4647.614295   836.620131  2196.420676   \n",
       "7   663.004993  1369.330502  4679.991891   602.540925  1981.404111   \n",
       "8   548.071398   752.647629  4051.821400   822.891871  1783.158130   \n",
       "9  1917.760932  1009.788285  2493.328605  2282.244295  2208.703903   \n",
       "\n",
       "             5            6            7            8            9  \n",
       "0   177.962231   859.598435   663.004993   548.071398  1917.760932  \n",
       "1  1374.359068  1348.599314  1369.330502   752.647629  1009.788285  \n",
       "2  4532.422522  4647.614295  4679.991891  4051.821400  2493.328605  \n",
       "3   271.326526   836.620131   602.540925   822.891871  2282.244295  \n",
       "4  1238.917452  2196.420676  1981.404111  1783.158130  2208.703903  \n",
       "5     0.000000   960.025978   742.502126   725.066040  2044.446679  \n",
       "6   960.025978     0.000000   234.801326   692.284924  2317.985035  \n",
       "7   742.502126   234.801326     0.000000   642.872690  2292.751126  \n",
       "8   725.066040   692.284924   642.872690     0.000000  1650.074786  \n",
       "9  2044.446679  2317.985035  2292.751126  1650.074786     0.000000  "
      ]
     },
     "metadata": {},
     "output_type": "display_data"
    },
    {
     "name": "stdout",
     "output_type": "stream",
     "text": [
      "RECTANGLE DISTANCE\n"
     ]
    },
    {
     "data": {
      "text/html": [
       "<div>\n",
       "<table border=\"1\" class=\"dataframe\">\n",
       "  <thead>\n",
       "    <tr style=\"text-align: right;\">\n",
       "      <th></th>\n",
       "      <th>0</th>\n",
       "      <th>1</th>\n",
       "      <th>2</th>\n",
       "      <th>3</th>\n",
       "      <th>4</th>\n",
       "      <th>5</th>\n",
       "      <th>6</th>\n",
       "      <th>7</th>\n",
       "      <th>8</th>\n",
       "      <th>9</th>\n",
       "    </tr>\n",
       "  </thead>\n",
       "  <tbody>\n",
       "    <tr>\n",
       "      <th>0</th>\n",
       "      <td>0.000000</td>\n",
       "      <td>1661.335473</td>\n",
       "      <td>5100.500583</td>\n",
       "      <td>399.753909</td>\n",
       "      <td>1589.226100</td>\n",
       "      <td>250.132606</td>\n",
       "      <td>1117.027375</td>\n",
       "      <td>911.787970</td>\n",
       "      <td>754.523631</td>\n",
       "      <td>2074.545489</td>\n",
       "    </tr>\n",
       "    <tr>\n",
       "      <th>1</th>\n",
       "      <td>1661.335473</td>\n",
       "      <td>0.000000</td>\n",
       "      <td>3439.165111</td>\n",
       "      <td>2061.089382</td>\n",
       "      <td>2706.383766</td>\n",
       "      <td>1911.468079</td>\n",
       "      <td>1497.020756</td>\n",
       "      <td>1442.717224</td>\n",
       "      <td>906.811842</td>\n",
       "      <td>1366.968267</td>\n",
       "    </tr>\n",
       "    <tr>\n",
       "      <th>2</th>\n",
       "      <td>5100.500583</td>\n",
       "      <td>3439.165111</td>\n",
       "      <td>0.000000</td>\n",
       "      <td>5500.254493</td>\n",
       "      <td>6145.548876</td>\n",
       "      <td>5350.633189</td>\n",
       "      <td>4674.229569</td>\n",
       "      <td>4881.882334</td>\n",
       "      <td>4345.976952</td>\n",
       "      <td>3025.955095</td>\n",
       "    </tr>\n",
       "    <tr>\n",
       "      <th>3</th>\n",
       "      <td>399.753909</td>\n",
       "      <td>2061.089382</td>\n",
       "      <td>5500.254493</td>\n",
       "      <td>0.000000</td>\n",
       "      <td>1914.731709</td>\n",
       "      <td>353.340676</td>\n",
       "      <td>879.408769</td>\n",
       "      <td>618.372159</td>\n",
       "      <td>1154.277540</td>\n",
       "      <td>2474.299398</td>\n",
       "    </tr>\n",
       "    <tr>\n",
       "      <th>4</th>\n",
       "      <td>1589.226100</td>\n",
       "      <td>2706.383766</td>\n",
       "      <td>6145.548876</td>\n",
       "      <td>1914.731709</td>\n",
       "      <td>0.000000</td>\n",
       "      <td>1561.391033</td>\n",
       "      <td>2706.253475</td>\n",
       "      <td>2501.014070</td>\n",
       "      <td>1799.571924</td>\n",
       "      <td>3119.593782</td>\n",
       "    </tr>\n",
       "    <tr>\n",
       "      <th>5</th>\n",
       "      <td>250.132606</td>\n",
       "      <td>1911.468079</td>\n",
       "      <td>5350.633189</td>\n",
       "      <td>353.340676</td>\n",
       "      <td>1561.391033</td>\n",
       "      <td>0.000000</td>\n",
       "      <td>1144.862442</td>\n",
       "      <td>939.623037</td>\n",
       "      <td>1004.656237</td>\n",
       "      <td>2324.678095</td>\n",
       "    </tr>\n",
       "    <tr>\n",
       "      <th>6</th>\n",
       "      <td>1117.027375</td>\n",
       "      <td>1497.020756</td>\n",
       "      <td>4674.229569</td>\n",
       "      <td>879.408769</td>\n",
       "      <td>2706.253475</td>\n",
       "      <td>1144.862442</td>\n",
       "      <td>0.000000</td>\n",
       "      <td>261.036610</td>\n",
       "      <td>939.661636</td>\n",
       "      <td>2863.989023</td>\n",
       "    </tr>\n",
       "    <tr>\n",
       "      <th>7</th>\n",
       "      <td>911.787970</td>\n",
       "      <td>1442.717224</td>\n",
       "      <td>4881.882334</td>\n",
       "      <td>618.372159</td>\n",
       "      <td>2501.014070</td>\n",
       "      <td>939.623037</td>\n",
       "      <td>261.036610</td>\n",
       "      <td>0.000000</td>\n",
       "      <td>734.422231</td>\n",
       "      <td>2658.749618</td>\n",
       "    </tr>\n",
       "    <tr>\n",
       "      <th>8</th>\n",
       "      <td>754.523631</td>\n",
       "      <td>906.811842</td>\n",
       "      <td>4345.976952</td>\n",
       "      <td>1154.277540</td>\n",
       "      <td>1799.571924</td>\n",
       "      <td>1004.656237</td>\n",
       "      <td>939.661636</td>\n",
       "      <td>734.422231</td>\n",
       "      <td>0.000000</td>\n",
       "      <td>1924.327387</td>\n",
       "    </tr>\n",
       "    <tr>\n",
       "      <th>9</th>\n",
       "      <td>2074.545489</td>\n",
       "      <td>1366.968267</td>\n",
       "      <td>3025.955095</td>\n",
       "      <td>2474.299398</td>\n",
       "      <td>3119.593782</td>\n",
       "      <td>2324.678095</td>\n",
       "      <td>2863.989023</td>\n",
       "      <td>2658.749618</td>\n",
       "      <td>1924.327387</td>\n",
       "      <td>0.000000</td>\n",
       "    </tr>\n",
       "  </tbody>\n",
       "</table>\n",
       "</div>"
      ],
      "text/plain": [
       "             0            1            2            3            4  \\\n",
       "0     0.000000  1661.335473  5100.500583   399.753909  1589.226100   \n",
       "1  1661.335473     0.000000  3439.165111  2061.089382  2706.383766   \n",
       "2  5100.500583  3439.165111     0.000000  5500.254493  6145.548876   \n",
       "3   399.753909  2061.089382  5500.254493     0.000000  1914.731709   \n",
       "4  1589.226100  2706.383766  6145.548876  1914.731709     0.000000   \n",
       "5   250.132606  1911.468079  5350.633189   353.340676  1561.391033   \n",
       "6  1117.027375  1497.020756  4674.229569   879.408769  2706.253475   \n",
       "7   911.787970  1442.717224  4881.882334   618.372159  2501.014070   \n",
       "8   754.523631   906.811842  4345.976952  1154.277540  1799.571924   \n",
       "9  2074.545489  1366.968267  3025.955095  2474.299398  3119.593782   \n",
       "\n",
       "             5            6            7            8            9  \n",
       "0   250.132606  1117.027375   911.787970   754.523631  2074.545489  \n",
       "1  1911.468079  1497.020756  1442.717224   906.811842  1366.968267  \n",
       "2  5350.633189  4674.229569  4881.882334  4345.976952  3025.955095  \n",
       "3   353.340676   879.408769   618.372159  1154.277540  2474.299398  \n",
       "4  1561.391033  2706.253475  2501.014070  1799.571924  3119.593782  \n",
       "5     0.000000  1144.862442   939.623037  1004.656237  2324.678095  \n",
       "6  1144.862442     0.000000   261.036610   939.661636  2863.989023  \n",
       "7   939.623037   261.036610     0.000000   734.422231  2658.749618  \n",
       "8  1004.656237   939.661636   734.422231     0.000000  1924.327387  \n",
       "9  2324.678095  2863.989023  2658.749618  1924.327387     0.000000  "
      ]
     },
     "metadata": {},
     "output_type": "display_data"
    }
   ],
   "source": [
    "print('REAL DISTANCE')\n",
    "display(matrix_real_distance)\n",
    "\n",
    "print('EUCLIDEAN DISTANCE')\n",
    "display(matrix_euclidean_distance)\n",
    "\n",
    "print('RECTANGLE DISTANCE')\n",
    "display(matrix_rectangle_distance)"
   ]
  },
  {
   "cell_type": "code",
   "execution_count": 12,
   "metadata": {
    "collapsed": true
   },
   "outputs": [],
   "source": [
    "n = matrix_real_distance.shape[0]"
   ]
  },
  {
   "cell_type": "code",
   "execution_count": 13,
   "metadata": {
    "collapsed": false
   },
   "outputs": [
    {
     "name": "stdout",
     "output_type": "stream",
     "text": [
      "Primeiras 5 linhas ...\n"
     ]
    },
    {
     "data": {
      "text/plain": [
       "0_1    1800\n",
       "0_2    6600\n",
       "0_3    1100\n",
       "0_4    2000\n",
       "0_5     350\n",
       "dtype: int64"
      ]
     },
     "execution_count": 13,
     "metadata": {},
     "output_type": "execute_result"
    }
   ],
   "source": [
    "# REAL\n",
    "series_real_distance = pd.Series(OrderedDict(\n",
    "    ('%s_%s' % (i, j), \n",
    "     matrix_real_distance.iloc[i, j])\n",
    "    for i in range(n) \n",
    "    for j in range(i+1, n)\n",
    "))\n",
    "\n",
    "print('Primeiras 5 linhas ...')\n",
    "series_real_distance.head()"
   ]
  },
  {
   "cell_type": "code",
   "execution_count": 14,
   "metadata": {
    "collapsed": false
   },
   "outputs": [
    {
     "name": "stdout",
     "output_type": "stream",
     "text": [
      "Primeiras 5 linhas ...\n"
     ]
    },
    {
     "data": {
      "text/html": [
       "<div>\n",
       "<table border=\"1\" class=\"dataframe\">\n",
       "  <thead>\n",
       "    <tr style=\"text-align: right;\">\n",
       "      <th></th>\n",
       "      <th>Euclidean</th>\n",
       "      <th>Real</th>\n",
       "    </tr>\n",
       "  </thead>\n",
       "  <tbody>\n",
       "    <tr>\n",
       "      <th>0_1</th>\n",
       "      <td>1205.078944</td>\n",
       "      <td>1800</td>\n",
       "    </tr>\n",
       "    <tr>\n",
       "      <th>0_2</th>\n",
       "      <td>4397.089586</td>\n",
       "      <td>6600</td>\n",
       "    </tr>\n",
       "    <tr>\n",
       "      <th>0_3</th>\n",
       "      <td>364.525095</td>\n",
       "      <td>1100</td>\n",
       "    </tr>\n",
       "    <tr>\n",
       "      <th>0_4</th>\n",
       "      <td>1344.947124</td>\n",
       "      <td>2000</td>\n",
       "    </tr>\n",
       "    <tr>\n",
       "      <th>0_5</th>\n",
       "      <td>177.962231</td>\n",
       "      <td>350</td>\n",
       "    </tr>\n",
       "  </tbody>\n",
       "</table>\n",
       "</div>"
      ],
      "text/plain": [
       "       Euclidean  Real\n",
       "0_1  1205.078944  1800\n",
       "0_2  4397.089586  6600\n",
       "0_3   364.525095  1100\n",
       "0_4  1344.947124  2000\n",
       "0_5   177.962231   350"
      ]
     },
     "execution_count": 14,
     "metadata": {},
     "output_type": "execute_result"
    }
   ],
   "source": [
    "# EUCLIDEAN\n",
    "euclidean_analysis = pd.DataFrame(OrderedDict(\n",
    "    ('%s_%s' % (i, j), \n",
    "     [matrix_euclidean_distance.iloc[i, j]])\n",
    "    for i in range(n) \n",
    "    for j in range(i+1, n)\n",
    "), index=['Euclidean']).T\n",
    "\n",
    "euclidean_analysis['Real'] = series_real_distance\n",
    "\n",
    "print('Primeiras 5 linhas ...')\n",
    "euclidean_analysis.head()"
   ]
  },
  {
   "cell_type": "code",
   "execution_count": 15,
   "metadata": {
    "collapsed": false
   },
   "outputs": [
    {
     "name": "stdout",
     "output_type": "stream",
     "text": [
      "Primeiras 5 linhas ...\n"
     ]
    },
    {
     "data": {
      "text/html": [
       "<div>\n",
       "<table border=\"1\" class=\"dataframe\">\n",
       "  <thead>\n",
       "    <tr style=\"text-align: right;\">\n",
       "      <th></th>\n",
       "      <th>Retangle</th>\n",
       "      <th>Real</th>\n",
       "    </tr>\n",
       "  </thead>\n",
       "  <tbody>\n",
       "    <tr>\n",
       "      <th>0_1</th>\n",
       "      <td>1661.335473</td>\n",
       "      <td>1800</td>\n",
       "    </tr>\n",
       "    <tr>\n",
       "      <th>0_2</th>\n",
       "      <td>5100.500583</td>\n",
       "      <td>6600</td>\n",
       "    </tr>\n",
       "    <tr>\n",
       "      <th>0_3</th>\n",
       "      <td>399.753909</td>\n",
       "      <td>1100</td>\n",
       "    </tr>\n",
       "    <tr>\n",
       "      <th>0_4</th>\n",
       "      <td>1589.226100</td>\n",
       "      <td>2000</td>\n",
       "    </tr>\n",
       "    <tr>\n",
       "      <th>0_5</th>\n",
       "      <td>250.132606</td>\n",
       "      <td>350</td>\n",
       "    </tr>\n",
       "  </tbody>\n",
       "</table>\n",
       "</div>"
      ],
      "text/plain": [
       "        Retangle  Real\n",
       "0_1  1661.335473  1800\n",
       "0_2  5100.500583  6600\n",
       "0_3   399.753909  1100\n",
       "0_4  1589.226100  2000\n",
       "0_5   250.132606   350"
      ]
     },
     "execution_count": 15,
     "metadata": {},
     "output_type": "execute_result"
    }
   ],
   "source": [
    "# RETANGLE\n",
    "retangle_analysis = pd.DataFrame(OrderedDict(\n",
    "    ('%s_%s' % (i, j), \n",
    "     [matrix_rectangle_distance.iloc[i, j]])\n",
    "    for i in range(n) \n",
    "    for j in range(i+1, n)\n",
    "), index=['Retangle']).T\n",
    "\n",
    "retangle_analysis['Real'] = series_real_distance\n",
    "\n",
    "print('Primeiras 5 linhas ...')\n",
    "retangle_analysis.head()"
   ]
  },
  {
   "cell_type": "code",
   "execution_count": 16,
   "metadata": {
    "collapsed": false
   },
   "outputs": [
    {
     "name": "stdout",
     "output_type": "stream",
     "text": [
      "                            OLS Regression Results                            \n",
      "==============================================================================\n",
      "Dep. Variable:                   Real   R-squared:                       0.964\n",
      "Model:                            OLS   Adj. R-squared:                  0.964\n",
      "Method:                 Least Squares   F-statistic:                     1191.\n",
      "Date:                Fri, 03 Jun 2016   Prob (F-statistic):           1.69e-33\n",
      "Time:                        02:32:23   Log-Likelihood:                -353.85\n",
      "No. Observations:                  45   AIC:                             709.7\n",
      "Df Residuals:                      44   BIC:                             711.5\n",
      "Df Model:                           1                                         \n",
      "Covariance Type:            nonrobust                                         \n",
      "==============================================================================\n",
      "                 coef    std err          t      P>|t|      [95.0% Conf. Int.]\n",
      "------------------------------------------------------------------------------\n",
      "Euclidean      1.4449      0.042     34.505      0.000         1.361     1.529\n",
      "==============================================================================\n",
      "Omnibus:                        3.110   Durbin-Watson:                   1.901\n",
      "Prob(Omnibus):                  0.211   Jarque-Bera (JB):                2.103\n",
      "Skew:                           0.491   Prob(JB):                        0.349\n",
      "Kurtosis:                       3.395   Cond. No.                         1.00\n",
      "==============================================================================\n",
      "\n",
      "Warnings:\n",
      "[1] Standard Errors assume that the covariance matrix of the errors is correctly specified.\n"
     ]
    }
   ],
   "source": [
    "# Fit and summarize OLS model\n",
    "euclidean_mod = sm.OLS(\n",
    "    euclidean_analysis['Real'], \n",
    "    euclidean_analysis['Euclidean']\n",
    ")\n",
    "euclidean_res = euclidean_mod.fit()\n",
    "print(euclidean_res.summary())"
   ]
  },
  {
   "cell_type": "code",
   "execution_count": 17,
   "metadata": {
    "collapsed": false
   },
   "outputs": [
    {
     "name": "stdout",
     "output_type": "stream",
     "text": [
      "                            OLS Regression Results                            \n",
      "==============================================================================\n",
      "Dep. Variable:                   Real   R-squared:                       0.957\n",
      "Model:                            OLS   Adj. R-squared:                  0.956\n",
      "Method:                 Least Squares   F-statistic:                     973.1\n",
      "Date:                Fri, 03 Jun 2016   Prob (F-statistic):           1.20e-31\n",
      "Time:                        02:32:23   Log-Likelihood:                -358.21\n",
      "No. Observations:                  45   AIC:                             718.4\n",
      "Df Residuals:                      44   BIC:                             720.2\n",
      "Df Model:                           1                                         \n",
      "Covariance Type:            nonrobust                                         \n",
      "==============================================================================\n",
      "                 coef    std err          t      P>|t|      [95.0% Conf. Int.]\n",
      "------------------------------------------------------------------------------\n",
      "Retangle       1.2353      0.040     31.195      0.000         1.155     1.315\n",
      "==============================================================================\n",
      "Omnibus:                        3.143   Durbin-Watson:                   1.957\n",
      "Prob(Omnibus):                  0.208   Jarque-Bera (JB):                2.573\n",
      "Skew:                           0.048   Prob(JB):                        0.276\n",
      "Kurtosis:                       4.168   Cond. No.                         1.00\n",
      "==============================================================================\n",
      "\n",
      "Warnings:\n",
      "[1] Standard Errors assume that the covariance matrix of the errors is correctly specified.\n"
     ]
    }
   ],
   "source": [
    "# Fit and summarize OLS model\n",
    "retangle_mod = sm.OLS(\n",
    "    retangle_analysis['Real'], \n",
    "    retangle_analysis['Retangle'], \n",
    ")\n",
    "\n",
    "retangle_res = retangle_mod.fit()\n",
    "print(retangle_res.summary())"
   ]
  },
  {
   "cell_type": "code",
   "execution_count": 18,
   "metadata": {
    "collapsed": false
   },
   "outputs": [
    {
     "name": "stdout",
     "output_type": "stream",
     "text": [
      "Primeiras 5 linhas ...\n"
     ]
    },
    {
     "data": {
      "text/html": [
       "<div>\n",
       "<table border=\"1\" class=\"dataframe\">\n",
       "  <thead>\n",
       "    <tr style=\"text-align: right;\">\n",
       "      <th></th>\n",
       "      <th>Euclidean</th>\n",
       "      <th>Real</th>\n",
       "      <th>Euclidean_Adjusted</th>\n",
       "      <th>Diff(%)</th>\n",
       "    </tr>\n",
       "  </thead>\n",
       "  <tbody>\n",
       "    <tr>\n",
       "      <th>0_1</th>\n",
       "      <td>1205.078944</td>\n",
       "      <td>1800</td>\n",
       "      <td>1741.227340</td>\n",
       "      <td>3.265148</td>\n",
       "    </tr>\n",
       "    <tr>\n",
       "      <th>0_2</th>\n",
       "      <td>4397.089586</td>\n",
       "      <td>6600</td>\n",
       "      <td>6353.386756</td>\n",
       "      <td>3.736564</td>\n",
       "    </tr>\n",
       "    <tr>\n",
       "      <th>0_3</th>\n",
       "      <td>364.525095</td>\n",
       "      <td>1100</td>\n",
       "      <td>526.704964</td>\n",
       "      <td>52.117731</td>\n",
       "    </tr>\n",
       "    <tr>\n",
       "      <th>0_4</th>\n",
       "      <td>1344.947124</td>\n",
       "      <td>2000</td>\n",
       "      <td>1943.323891</td>\n",
       "      <td>2.833805</td>\n",
       "    </tr>\n",
       "    <tr>\n",
       "      <th>0_5</th>\n",
       "      <td>177.962231</td>\n",
       "      <td>350</td>\n",
       "      <td>257.138924</td>\n",
       "      <td>26.531736</td>\n",
       "    </tr>\n",
       "  </tbody>\n",
       "</table>\n",
       "</div>"
      ],
      "text/plain": [
       "       Euclidean  Real  Euclidean_Adjusted    Diff(%)\n",
       "0_1  1205.078944  1800         1741.227340   3.265148\n",
       "0_2  4397.089586  6600         6353.386756   3.736564\n",
       "0_3   364.525095  1100          526.704964  52.117731\n",
       "0_4  1344.947124  2000         1943.323891   2.833805\n",
       "0_5   177.962231   350          257.138924  26.531736"
      ]
     },
     "execution_count": 18,
     "metadata": {},
     "output_type": "execute_result"
    }
   ],
   "source": [
    "euclidean_analysis['Euclidean_Adjusted'] = (\n",
    "    euclidean_analysis['Euclidean'] *\n",
    "    euclidean_res.params[0]\n",
    ")\n",
    "\n",
    "euclidean_analysis['Diff(%)'] = (\n",
    "    (1-euclidean_analysis['Euclidean_Adjusted'] /\n",
    "     euclidean_analysis['Real'])*100\n",
    ")\n",
    "\n",
    "print('Primeiras 5 linhas ...')\n",
    "euclidean_analysis.head()"
   ]
  },
  {
   "cell_type": "code",
   "execution_count": 19,
   "metadata": {
    "collapsed": false
   },
   "outputs": [
    {
     "name": "stdout",
     "output_type": "stream",
     "text": [
      "Primeiras 5 linhas ...\n"
     ]
    },
    {
     "data": {
      "text/html": [
       "<div>\n",
       "<table border=\"1\" class=\"dataframe\">\n",
       "  <thead>\n",
       "    <tr style=\"text-align: right;\">\n",
       "      <th></th>\n",
       "      <th>Retangle</th>\n",
       "      <th>Real</th>\n",
       "      <th>Retangle_Adjusted</th>\n",
       "      <th>Diff(%)</th>\n",
       "    </tr>\n",
       "  </thead>\n",
       "  <tbody>\n",
       "    <tr>\n",
       "      <th>0_1</th>\n",
       "      <td>1661.335473</td>\n",
       "      <td>1800</td>\n",
       "      <td>2052.187574</td>\n",
       "      <td>-14.010421</td>\n",
       "    </tr>\n",
       "    <tr>\n",
       "      <th>0_2</th>\n",
       "      <td>5100.500583</td>\n",
       "      <td>6600</td>\n",
       "      <td>6300.463747</td>\n",
       "      <td>4.538428</td>\n",
       "    </tr>\n",
       "    <tr>\n",
       "      <th>0_3</th>\n",
       "      <td>399.753909</td>\n",
       "      <td>1100</td>\n",
       "      <td>493.801534</td>\n",
       "      <td>55.108951</td>\n",
       "    </tr>\n",
       "    <tr>\n",
       "      <th>0_4</th>\n",
       "      <td>1589.226100</td>\n",
       "      <td>2000</td>\n",
       "      <td>1963.113476</td>\n",
       "      <td>1.844326</td>\n",
       "    </tr>\n",
       "    <tr>\n",
       "      <th>0_5</th>\n",
       "      <td>250.132606</td>\n",
       "      <td>350</td>\n",
       "      <td>308.979754</td>\n",
       "      <td>11.720070</td>\n",
       "    </tr>\n",
       "  </tbody>\n",
       "</table>\n",
       "</div>"
      ],
      "text/plain": [
       "        Retangle  Real  Retangle_Adjusted    Diff(%)\n",
       "0_1  1661.335473  1800        2052.187574 -14.010421\n",
       "0_2  5100.500583  6600        6300.463747   4.538428\n",
       "0_3   399.753909  1100         493.801534  55.108951\n",
       "0_4  1589.226100  2000        1963.113476   1.844326\n",
       "0_5   250.132606   350         308.979754  11.720070"
      ]
     },
     "execution_count": 19,
     "metadata": {},
     "output_type": "execute_result"
    }
   ],
   "source": [
    "retangle_analysis['Retangle_Adjusted'] = (\n",
    "    retangle_analysis['Retangle'] *\n",
    "    retangle_res.params[0]\n",
    ")\n",
    "\n",
    "retangle_analysis['Diff(%)'] = (\n",
    "    (1-retangle_analysis['Retangle_Adjusted'] /\n",
    "     retangle_analysis['Real'])*100\n",
    ")\n",
    "\n",
    "print('Primeiras 5 linhas ...')\n",
    "retangle_analysis.head()"
   ]
  },
  {
   "cell_type": "code",
   "execution_count": 20,
   "metadata": {
    "collapsed": false
   },
   "outputs": [
    {
     "name": "stdout",
     "output_type": "stream",
     "text": [
      "Euclidean\n"
     ]
    },
    {
     "data": {
      "image/png": "[encoded data removed]",
      "text/plain": [
       "<matplotlib.figure.Figure at 0x7fc2741585f8>"
      ]
     },
     "metadata": {},
     "output_type": "display_data"
    }
   ],
   "source": [
    "_data = euclidean_analysis.sort_values(by='Real')\n",
    "_line = np.linspace(0, _data['Real'].max(), 1000)\n",
    "\n",
    "print('Euclidean')\n",
    "plt.plot(\n",
    "    _data['Euclidean'], \n",
    "    _data['Real'], 'o'\n",
    ")\n",
    "plt.plot(_line, _line*euclidean_res.params[0])\n",
    "plt.grid()\n",
    "plt.show()"
   ]
  },
  {
   "cell_type": "code",
   "execution_count": 21,
   "metadata": {
    "collapsed": false
   },
   "outputs": [
    {
     "name": "stdout",
     "output_type": "stream",
     "text": [
      "Retangle\n"
     ]
    },
    {
     "data": {
      "image/png": "[encoded data removed]",
      "text/plain": [
       "<matplotlib.figure.Figure at 0x7fc274150828>"
      ]
     },
     "metadata": {},
     "output_type": "display_data"
    }
   ],
   "source": [
    "_data = retangle_analysis.sort_values(by='Real')\n",
    "\n",
    "print('Retangle')\n",
    "plt.plot(\n",
    "    _data['Retangle'], \n",
    "    _data['Real'], 'o'\n",
    ")\n",
    "plt.plot(_line, _line*retangle_res.params[0])\n",
    "plt.grid()\n",
    "plt.show()"
   ]
  }
 ],
 "metadata": {
  "kernelspec": {
   "display_name": "Python 3",
   "language": "python",
   "name": "python3"
  },
  "language_info": {
   "codemirror_mode": {
    "name": "ipython",
    "version": 3
   },
   "file_extension": ".py",
   "mimetype": "text/x-python",
   "name": "python",
   "nbconvert_exporter": "python",
   "pygments_lexer": "ipython3",
   "version": "3.5.1"
  }
 },
 "nbformat": 4,
 "nbformat_minor": 0
}
