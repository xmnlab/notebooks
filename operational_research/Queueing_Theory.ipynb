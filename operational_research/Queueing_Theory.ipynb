{
 "cells": [
  {
   "cell_type": "markdown",
   "metadata": {},
   "source": [
    "# Sistemas de filas\n",
    "\n",
    "Após uma contagem de, pelo menos, uma hora em um sistema que apresente fila de espera, preferencialmente com mais de um servidor, o aluno deverá apresentar respostas às perguntas que serão apresentadas a seguir."
   ]
  },
  {
   "cell_type": "code",
   "execution_count": 1,
   "metadata": {
    "collapsed": false
   },
   "outputs": [],
   "source": [
    "from datetime import datetime, timedelta\n",
    "from IPython.display import display\n",
    "from math import factorial\n",
    "from matplotlib import pyplot as plt\n",
    "\n",
    "import io\n",
    "import numpy as np\n",
    "import pandas as pd\n",
    "\n",
    "Σ = sum\n",
    "\n",
    "%matplotlib inline"
   ]
  },
  {
   "cell_type": "markdown",
   "metadata": {},
   "source": [
    "### Dados"
   ]
  },
  {
   "cell_type": "code",
   "execution_count": 2,
   "metadata": {
    "collapsed": true
   },
   "outputs": [],
   "source": [
    "def timetable(a, b):\n",
    "    return b + timedelta(minutes=int(a))\n",
    "    \n",
    "v_timetable = np.vectorize(timetable)"
   ]
  },
  {
   "cell_type": "code",
   "execution_count": 3,
   "metadata": {
    "collapsed": true
   },
   "outputs": [],
   "source": [
    "def sampling_generator(\n",
    "    size: int=20, initial_datetime: datetime=None\n",
    ") -> np.array:\n",
    "    \"\"\"\n",
    "    \n",
    "    \"\"\"\n",
    "    if initial_datetime is None:\n",
    "        initial_datetime = datetime.now()\n",
    "    \n",
    "    return v_timetable(\n",
    "        np.random.randint(0, 60, size=size),\n",
    "        datetime.now()\n",
    "    )"
   ]
  },
  {
   "cell_type": "code",
   "execution_count": 4,
   "metadata": {
    "collapsed": false
   },
   "outputs": [],
   "source": [
    "def mean_diff_time(se_time: pd.Series) -> float:\n",
    "    \"\"\"\n",
    "    \n",
    "    \"\"\"\n",
    "    n = se_time.shape[0]\n",
    "    l_diff = [0] * (n-1)\n",
    "    \n",
    "    for i in range(1, n):\n",
    "        j = i-1\n",
    "        l_diff[j] = (se_time[i] - se_time[j]).seconds/60\n",
    "    \n",
    "    return np.mean(l_diff)"
   ]
  },
  {
   "cell_type": "code",
   "execution_count": 5,
   "metadata": {
    "collapsed": false,
    "scrolled": false
   },
   "outputs": [
    {
     "name": "stdout",
     "output_type": "stream",
     "text": [
      "tables head\n"
     ]
    },
    {
     "data": {
      "text/html": [
       "<div>\n",
       "<table border=\"1\" class=\"dataframe\">\n",
       "  <thead>\n",
       "    <tr style=\"text-align: right;\">\n",
       "      <th></th>\n",
       "      <th>entrada</th>\n",
       "    </tr>\n",
       "  </thead>\n",
       "  <tbody>\n",
       "    <tr>\n",
       "      <th>0</th>\n",
       "      <td>2016-06-08 14:05:27.938347</td>\n",
       "    </tr>\n",
       "    <tr>\n",
       "      <th>1</th>\n",
       "      <td>2016-06-08 14:06:27.938347</td>\n",
       "    </tr>\n",
       "    <tr>\n",
       "      <th>2</th>\n",
       "      <td>2016-06-08 14:07:27.938347</td>\n",
       "    </tr>\n",
       "    <tr>\n",
       "      <th>3</th>\n",
       "      <td>2016-06-08 14:08:27.938347</td>\n",
       "    </tr>\n",
       "    <tr>\n",
       "      <th>4</th>\n",
       "      <td>2016-06-08 14:12:27.938347</td>\n",
       "    </tr>\n",
       "  </tbody>\n",
       "</table>\n",
       "</div>"
      ],
      "text/plain": [
       "                     entrada\n",
       "0 2016-06-08 14:05:27.938347\n",
       "1 2016-06-08 14:06:27.938347\n",
       "2 2016-06-08 14:07:27.938347\n",
       "3 2016-06-08 14:08:27.938347\n",
       "4 2016-06-08 14:12:27.938347"
      ]
     },
     "metadata": {},
     "output_type": "display_data"
    },
    {
     "data": {
      "text/html": [
       "<div>\n",
       "<table border=\"1\" class=\"dataframe\">\n",
       "  <thead>\n",
       "    <tr style=\"text-align: right;\">\n",
       "      <th></th>\n",
       "      <th>saída</th>\n",
       "    </tr>\n",
       "  </thead>\n",
       "  <tbody>\n",
       "    <tr>\n",
       "      <th>0</th>\n",
       "      <td>2016-06-08 14:08:27.943735</td>\n",
       "    </tr>\n",
       "    <tr>\n",
       "      <th>1</th>\n",
       "      <td>2016-06-08 14:11:27.943735</td>\n",
       "    </tr>\n",
       "    <tr>\n",
       "      <th>2</th>\n",
       "      <td>2016-06-08 14:13:27.943735</td>\n",
       "    </tr>\n",
       "    <tr>\n",
       "      <th>3</th>\n",
       "      <td>2016-06-08 14:16:27.943735</td>\n",
       "    </tr>\n",
       "    <tr>\n",
       "      <th>4</th>\n",
       "      <td>2016-06-08 14:19:27.943735</td>\n",
       "    </tr>\n",
       "  </tbody>\n",
       "</table>\n",
       "</div>"
      ],
      "text/plain": [
       "                       saída\n",
       "0 2016-06-08 14:08:27.943735\n",
       "1 2016-06-08 14:11:27.943735\n",
       "2 2016-06-08 14:13:27.943735\n",
       "3 2016-06-08 14:16:27.943735\n",
       "4 2016-06-08 14:19:27.943735"
      ]
     },
     "metadata": {},
     "output_type": "display_data"
    }
   ],
   "source": [
    "initial_datetime = datetime.now()\n",
    "\n",
    "df_chegada = pd.DataFrame({\n",
    "    'entrada': sampling_generator(\n",
    "        initial_datetime=initial_datetime\n",
    "    )\n",
    "}).sort_values(by='entrada').reset_index(drop=True)\n",
    "\n",
    "df_saida = pd.DataFrame({\n",
    "    'saída': sampling_generator(\n",
    "        initial_datetime=initial_datetime\n",
    "    )\n",
    "}).sort_values(by='saída').reset_index(drop=True)\n",
    "\n",
    "\"\"\"\n",
    "fig, ax = plt.subplots(1, 2)\n",
    "df_chegada.hist(ax=ax[0])\n",
    "\n",
    "df_saida.hist(ax=ax[1])\n",
    "plt.show()\n",
    "\"\"\"\n",
    "print('tables head')\n",
    "display(df_chegada.head())\n",
    "display(df_saida.head())"
   ]
  },
  {
   "cell_type": "markdown",
   "metadata": {},
   "source": [
    "**a) Descrição do sistema de filas, local, data e horários da coleta de dados:**\n",
    "\n",
    "Fila do tipo: FIFO\n",
    "\n",
    "Local: loja Plazafone\n",
    "\n",
    "Início da coleta:"
   ]
  },
  {
   "cell_type": "code",
   "execution_count": 6,
   "metadata": {
    "collapsed": false
   },
   "outputs": [
    {
     "data": {
      "text/plain": [
       "'08 de Jun de 2016 -  2:05PM'"
      ]
     },
     "execution_count": 6,
     "metadata": {},
     "output_type": "execute_result"
    }
   ],
   "source": [
    "initial_datetime.strftime('%d de %b de %Y - %l:%M%p')"
   ]
  },
  {
   "cell_type": "markdown",
   "metadata": {},
   "source": [
    "**b) Número de servidores atendendo = S:**"
   ]
  },
  {
   "cell_type": "code",
   "execution_count": 7,
   "metadata": {
    "collapsed": false
   },
   "outputs": [
    {
     "name": "stdout",
     "output_type": "stream",
     "text": [
      "S: 3\n"
     ]
    }
   ],
   "source": [
    "S = 3\n",
    "print('S:', S)"
   ]
  },
  {
   "cell_type": "markdown",
   "metadata": {},
   "source": [
    "**c) O tempo médio entre as chegadas à fila ( um cliente a cada 5 min, por ex.):**"
   ]
  },
  {
   "cell_type": "code",
   "execution_count": 8,
   "metadata": {
    "collapsed": false
   },
   "outputs": [
    {
     "name": "stdout",
     "output_type": "stream",
     "text": [
      "μ_chegada: 2.89473684211\n"
     ]
    }
   ],
   "source": [
    "μ_chegada = mean_diff_time(df_chegada['entrada'])\n",
    "print('μ_chegada:', μ_chegada)"
   ]
  },
  {
   "cell_type": "markdown",
   "metadata": {},
   "source": [
    "**d) A taxa de chegada de usuários no sistema de filas – λ ( clientes por unidade de tempo):**\n",
    "\n",
    "$\\lambda = \\frac{60 min}{\\mu\\_chegada} (clientes/hora)$\n",
    "\n",
    "where:\n",
    "\n",
    "* $\\mu\\_chegada$ é o tempo médio entre as chegadas à fila (item c)."
   ]
  },
  {
   "cell_type": "code",
   "execution_count": 9,
   "metadata": {
    "collapsed": false
   },
   "outputs": [
    {
     "name": "stdout",
     "output_type": "stream",
     "text": [
      "λ: 20.7272727273\n"
     ]
    }
   ],
   "source": [
    "λ = 60/μ_chegada\n",
    "print('λ:', λ)"
   ]
  },
  {
   "cell_type": "markdown",
   "metadata": {},
   "source": [
    "**e) O tempo médio de atendimento de cada cliente ( 20 min, por ex.):**"
   ]
  },
  {
   "cell_type": "code",
   "execution_count": 10,
   "metadata": {
    "collapsed": false
   },
   "outputs": [
    {
     "name": "stdout",
     "output_type": "stream",
     "text": [
      "μ_atendimento: 2.89473684211\n"
     ]
    }
   ],
   "source": [
    "μ_atendimento = mean_diff_time(df_saida['saída'])\n",
    "print('μ_atendimento:', μ_atendimento)"
   ]
  },
  {
   "cell_type": "markdown",
   "metadata": {},
   "source": [
    "**f) A taxa de atendimento dos usuários – μ ( clientes por unidade de tempo, por servidor:**\n",
    "\n",
    "$\\mu = \\frac{60 min}{\\mu\\_atendimento m} (clientes/hora)$\n",
    "\n",
    "Se existir mais que um servidor, a taxa de atendimento do sistema será multiplicada pelo\n",
    "\n",
    "número de servidores : S=5, então a taxa será de 5μ=15 clientes por hora."
   ]
  },
  {
   "cell_type": "code",
   "execution_count": 11,
   "metadata": {
    "collapsed": false
   },
   "outputs": [
    {
     "name": "stdout",
     "output_type": "stream",
     "text": [
      "μ: 20.7272727273\n"
     ]
    }
   ],
   "source": [
    "μ = 60/μ_atendimento\n",
    "print('μ:', μ)"
   ]
  },
  {
   "cell_type": "markdown",
   "metadata": {},
   "source": [
    "**g) A ocupação do sistema(em porcentagem);**\n",
    "\n",
    "$p = \\frac{\\lambda}{S*\\mu} * 100 (\\%)$"
   ]
  },
  {
   "cell_type": "code",
   "execution_count": 12,
   "metadata": {
    "collapsed": false
   },
   "outputs": [
    {
     "name": "stdout",
     "output_type": "stream",
     "text": [
      "p: 14320.661157\n"
     ]
    }
   ],
   "source": [
    "p = (λ/S*μ)*100\n",
    "print('p:', p)"
   ]
  },
  {
   "cell_type": "markdown",
   "metadata": {},
   "source": [
    "h) A probabilidade de o sistema estar vazio;\n",
    "\n",
    "$$\n",
    "P_0 = [\n",
    "    \\sum\\limits_{n=0}^{S-1} (\\frac{(\\lambda / \\mu)^n}{n!}) + \n",
    "    \\frac{(\\lambda/\\mu)^S}{S!(1-(\\lambda/(S*\\mu)))}\n",
    "]^{-1}\n",
    "$$"
   ]
  },
  {
   "cell_type": "code",
   "execution_count": 13,
   "metadata": {
    "collapsed": false
   },
   "outputs": [
    {
     "name": "stdout",
     "output_type": "stream",
     "text": [
      "p0: 0.307692307692\n"
     ]
    }
   ],
   "source": [
    "p0 = Σ([\n",
    "    (((λ/μ)**n)/(factorial(n))) +\n",
    "    (((λ/μ)**S)/(factorial(S) * (1-(λ/(S*μ)))))\n",
    "    for n in range(S)\n",
    "])**(-1)\n",
    "\n",
    "print('p0:', p0)"
   ]
  },
  {
   "cell_type": "markdown",
   "metadata": {},
   "source": [
    "i) A probabilidade de todos os servidores estarem ocupados;"
   ]
  },
  {
   "cell_type": "markdown",
   "metadata": {},
   "source": [
    "j) O número esperado de usuários no sistema;"
   ]
  },
  {
   "cell_type": "markdown",
   "metadata": {},
   "source": [
    "k) O número esperado de usuários na fila;"
   ]
  },
  {
   "cell_type": "markdown",
   "metadata": {},
   "source": [
    "l) O tempo médio dos usuários na fila;"
   ]
  },
  {
   "cell_type": "markdown",
   "metadata": {},
   "source": [
    "m) O tempo provável dos usuários no sistema;"
   ]
  },
  {
   "cell_type": "markdown",
   "metadata": {},
   "source": [
    "n) Se a taxa de chamadas duplicasse, o que aconteceria com o sistema? E quais as providências que deveriam ser tomadas."
   ]
  },
  {
   "cell_type": "markdown",
   "metadata": {},
   "source": [
    "## Referências\n",
    "\n",
    "http://www.mathpages.com/home/kmath026/kmath026.htm\n",
    "\n",
    "http://docs.scipy.org/doc/numpy-1.10.0/reference/generated/numpy.random.poisson.html\n"
   ]
  }
 ],
 "metadata": {
  "kernelspec": {
   "display_name": "Python 3",
   "language": "python",
   "name": "python3"
  },
  "language_info": {
   "codemirror_mode": {
    "name": "ipython",
    "version": 3
   },
   "file_extension": ".py",
   "mimetype": "text/x-python",
   "name": "python",
   "nbconvert_exporter": "python",
   "pygments_lexer": "ipython3",
   "version": "3.5.1"
  }
 },
 "nbformat": 4,
 "nbformat_minor": 0
}
