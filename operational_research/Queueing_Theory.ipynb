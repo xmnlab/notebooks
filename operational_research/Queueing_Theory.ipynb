{
 "cells": [
  {
   "cell_type": "markdown",
   "metadata": {},
   "source": [
    "# Sistemas de filas"
   ]
  },
  {
   "cell_type": "markdown",
   "metadata": {},
   "source": [
    "Após uma contagem de, pelo menos, uma hora em um sistema que apresente fila de espera, preferencialmente com mais de um servidor, o aluno deverá apresentar respostas às perguntas que serão apresentadas a seguir."
   ]
  },
  {
   "cell_type": "markdown",
   "metadata": {},
   "source": [
    "## Terminologias"
   ]
  },
  {
   "cell_type": "markdown",
   "metadata": {},
   "source": [
    "* N = O número de clientes no sistema de filas\n",
    "* P_n = Probabilidade de que exatamente n clientes estejam no sistema de fila\n",
    "* S = número de servidores no sistema de filas (canais de serviço paralelos)\n",
    "* l = taxa média de chegada de clientes (número esperado de chegadas por tempo unitário\n",
    "* μ = taxa média de serviço de serviço para todo o sistema (número esperado de clientes concluindo o serviço por unidade de tempo)\n",
    "* L = número esperado de clientes no sistema\n",
    "* L_q = número esperado de clientes na fila\n",
    "* W = Tempo de espera no sistema para cada cliente em particular (inclui tempo de serviço)\n",
    "* W_q = Tempo de espera na fila para cada cliente em particular \n",
    "* 1/l = tempo esperado entre as chegadas\n",
    "* 1/μ = tempo de serviço esperado"
   ]
  },
  {
   "cell_type": "code",
   "execution_count": 1,
   "metadata": {
    "collapsed": false
   },
   "outputs": [],
   "source": [
    "from datetime import datetime, timedelta\n",
    "from IPython.display import display\n",
    "from math import factorial\n",
    "from matplotlib import pyplot as plt\n",
    "\n",
    "import io\n",
    "import numpy as np\n",
    "import pandas as pd\n",
    "\n",
    "Σ = sum\n",
    "\n",
    "%matplotlib inline"
   ]
  },
  {
   "cell_type": "markdown",
   "metadata": {},
   "source": [
    "### Dados"
   ]
  },
  {
   "cell_type": "code",
   "execution_count": 2,
   "metadata": {
    "collapsed": true
   },
   "outputs": [],
   "source": [
    "def timetable(a, b):\n",
    "    return b + timedelta(minutes=int(a))\n",
    "    \n",
    "v_timetable = np.vectorize(timetable)"
   ]
  },
  {
   "cell_type": "code",
   "execution_count": 3,
   "metadata": {
    "collapsed": true
   },
   "outputs": [],
   "source": [
    "def sampling_generator(\n",
    "    size: int=20, initial_datetime: datetime=None\n",
    ") -> np.array:\n",
    "    \"\"\"\n",
    "    \n",
    "    \"\"\"\n",
    "    if initial_datetime is None:\n",
    "        initial_datetime = datetime.now()\n",
    "    \n",
    "    return v_timetable(\n",
    "        np.random.randint(0, 60, size=size),\n",
    "        datetime.now()\n",
    "    )"
   ]
  },
  {
   "cell_type": "code",
   "execution_count": 4,
   "metadata": {
    "collapsed": false
   },
   "outputs": [],
   "source": [
    "def mean_diff_time(se_time: pd.Series) -> float:\n",
    "    \"\"\"\n",
    "    \n",
    "    \"\"\"\n",
    "    n = se_time.shape[0]\n",
    "    l_diff = [0] * (n-1)\n",
    "    \n",
    "    for i in range(1, n):\n",
    "        j = i-1\n",
    "        l_diff[j] = (se_time[i] - se_time[j]).seconds/60\n",
    "    \n",
    "    return np.mean(l_diff)"
   ]
  },
  {
   "cell_type": "code",
   "execution_count": 5,
   "metadata": {
    "collapsed": false,
    "scrolled": false
   },
   "outputs": [
    {
     "name": "stdout",
     "output_type": "stream",
     "text": [
      "tables head\n"
     ]
    },
    {
     "data": {
      "text/html": [
       "<div>\n",
       "<table border=\"1\" class=\"dataframe\">\n",
       "  <thead>\n",
       "    <tr style=\"text-align: right;\">\n",
       "      <th></th>\n",
       "      <th>entrada</th>\n",
       "    </tr>\n",
       "  </thead>\n",
       "  <tbody>\n",
       "    <tr>\n",
       "      <th>0</th>\n",
       "      <td>2016-06-09 19:31:14.473402</td>\n",
       "    </tr>\n",
       "    <tr>\n",
       "      <th>1</th>\n",
       "      <td>2016-06-09 19:31:14.473402</td>\n",
       "    </tr>\n",
       "    <tr>\n",
       "      <th>2</th>\n",
       "      <td>2016-06-09 19:35:14.473402</td>\n",
       "    </tr>\n",
       "    <tr>\n",
       "      <th>3</th>\n",
       "      <td>2016-06-09 19:35:14.473402</td>\n",
       "    </tr>\n",
       "    <tr>\n",
       "      <th>4</th>\n",
       "      <td>2016-06-09 19:37:14.473402</td>\n",
       "    </tr>\n",
       "  </tbody>\n",
       "</table>\n",
       "</div>"
      ],
      "text/plain": [
       "                     entrada\n",
       "0 2016-06-09 19:31:14.473402\n",
       "1 2016-06-09 19:31:14.473402\n",
       "2 2016-06-09 19:35:14.473402\n",
       "3 2016-06-09 19:35:14.473402\n",
       "4 2016-06-09 19:37:14.473402"
      ]
     },
     "metadata": {},
     "output_type": "display_data"
    },
    {
     "data": {
      "text/html": [
       "<div>\n",
       "<table border=\"1\" class=\"dataframe\">\n",
       "  <thead>\n",
       "    <tr style=\"text-align: right;\">\n",
       "      <th></th>\n",
       "      <th>saída</th>\n",
       "    </tr>\n",
       "  </thead>\n",
       "  <tbody>\n",
       "    <tr>\n",
       "      <th>0</th>\n",
       "      <td>2016-06-09 19:32:14.477273</td>\n",
       "    </tr>\n",
       "    <tr>\n",
       "      <th>1</th>\n",
       "      <td>2016-06-09 19:38:14.477273</td>\n",
       "    </tr>\n",
       "    <tr>\n",
       "      <th>2</th>\n",
       "      <td>2016-06-09 19:41:14.477273</td>\n",
       "    </tr>\n",
       "    <tr>\n",
       "      <th>3</th>\n",
       "      <td>2016-06-09 19:42:14.477273</td>\n",
       "    </tr>\n",
       "    <tr>\n",
       "      <th>4</th>\n",
       "      <td>2016-06-09 19:43:14.477273</td>\n",
       "    </tr>\n",
       "  </tbody>\n",
       "</table>\n",
       "</div>"
      ],
      "text/plain": [
       "                       saída\n",
       "0 2016-06-09 19:32:14.477273\n",
       "1 2016-06-09 19:38:14.477273\n",
       "2 2016-06-09 19:41:14.477273\n",
       "3 2016-06-09 19:42:14.477273\n",
       "4 2016-06-09 19:43:14.477273"
      ]
     },
     "metadata": {},
     "output_type": "display_data"
    }
   ],
   "source": [
    "initial_datetime = datetime.now()\n",
    "\n",
    "df_chegada = pd.DataFrame({\n",
    "    'entrada': sampling_generator(\n",
    "        initial_datetime=initial_datetime\n",
    "    )\n",
    "}).sort_values(by='entrada').reset_index(drop=True)\n",
    "\n",
    "df_saida = pd.DataFrame({\n",
    "    'saída': sampling_generator(\n",
    "        initial_datetime=initial_datetime\n",
    "    )\n",
    "}).sort_values(by='saída').reset_index(drop=True)\n",
    "\n",
    "\"\"\"\n",
    "fig, ax = plt.subplots(1, 2)\n",
    "df_chegada.hist(ax=ax[0])\n",
    "\n",
    "df_saida.hist(ax=ax[1])\n",
    "plt.show()\n",
    "\"\"\"\n",
    "print('tables head')\n",
    "display(df_chegada.head())\n",
    "display(df_saida.head())"
   ]
  },
  {
   "cell_type": "markdown",
   "metadata": {},
   "source": [
    "**a) Descrição do sistema de filas, local, data e horários da coleta de dados:**\n",
    "\n",
    "Fila do tipo: FIFO\n",
    "\n",
    "Local: loja Plazafone\n",
    "\n",
    "Início da coleta:"
   ]
  },
  {
   "cell_type": "code",
   "execution_count": 6,
   "metadata": {
    "collapsed": false
   },
   "outputs": [
    {
     "data": {
      "text/plain": [
       "'09 de Jun de 2016 -  7:31PM'"
      ]
     },
     "execution_count": 6,
     "metadata": {},
     "output_type": "execute_result"
    }
   ],
   "source": [
    "initial_datetime.strftime('%d de %b de %Y - %l:%M%p')"
   ]
  },
  {
   "cell_type": "markdown",
   "metadata": {},
   "source": [
    "**b) Número de servidores atendendo = S:**"
   ]
  },
  {
   "cell_type": "code",
   "execution_count": 7,
   "metadata": {
    "collapsed": false
   },
   "outputs": [
    {
     "name": "stdout",
     "output_type": "stream",
     "text": [
      "S: 3\n"
     ]
    }
   ],
   "source": [
    "S = 3\n",
    "print('S:', S)"
   ]
  },
  {
   "cell_type": "markdown",
   "metadata": {},
   "source": [
    "**c) O tempo médio entre as chegadas à fila ( um cliente a cada 5 min, por ex.):**"
   ]
  },
  {
   "cell_type": "code",
   "execution_count": 8,
   "metadata": {
    "collapsed": false
   },
   "outputs": [
    {
     "name": "stdout",
     "output_type": "stream",
     "text": [
      "μ_chegada: 3.05263157895 mins\n"
     ]
    }
   ],
   "source": [
    "μ_chegada = mean_diff_time(df_chegada['entrada'])\n",
    "# fixando los valores para teste\n",
    "μ_chegada = 3.05263157895\n",
    "print('μ_chegada:', μ_chegada, 'mins')"
   ]
  },
  {
   "cell_type": "markdown",
   "metadata": {},
   "source": [
    "**d) A taxa de chegada de usuários no sistema de filas – λ ( clientes por unidade de tempo):**\n",
    "\n",
    "$\\lambda = \\frac{60 min}{\\mu\\_chegada} (clientes/hora)$"
   ]
  },
  {
   "cell_type": "code",
   "execution_count": 9,
   "metadata": {
    "collapsed": false
   },
   "outputs": [
    {
     "name": "stdout",
     "output_type": "stream",
     "text": [
      "λ: 19.65517241377616\n"
     ]
    }
   ],
   "source": [
    "λ = 60/μ_chegada\n",
    "print('λ:', λ)"
   ]
  },
  {
   "cell_type": "markdown",
   "metadata": {},
   "source": [
    "**e) O tempo médio de atendimento de cada cliente ( 20 min, por ex.):**"
   ]
  },
  {
   "cell_type": "code",
   "execution_count": 10,
   "metadata": {
    "collapsed": false
   },
   "outputs": [
    {
     "name": "stdout",
     "output_type": "stream",
     "text": [
      "μ_atendimento: 2.84210526316 mins\n"
     ]
    }
   ],
   "source": [
    "μ_atendimento = mean_diff_time(df_saida['saída'])\n",
    "# fixando valores para teste\n",
    "μ_atendimento = 2.84210526316\n",
    "print('μ_atendimento:', μ_atendimento, 'mins')"
   ]
  },
  {
   "cell_type": "markdown",
   "metadata": {},
   "source": [
    "**f) A taxa de atendimento dos usuários – μ ( clientes por unidade de tempo, por servidor:**\n",
    "\n",
    "$\\mu = \\frac{60 min}{\\mu\\_atendimento} (clientes/hora)$\n",
    "\n",
    "Se existir mais que um servidor, a taxa de atendimento do sistema será multiplicada pelo número de servidores:"
   ]
  },
  {
   "cell_type": "code",
   "execution_count": 11,
   "metadata": {
    "collapsed": false
   },
   "outputs": [
    {
     "name": "stdout",
     "output_type": "stream",
     "text": [
      "μ: 7.0370370370318245 clientes/hora\n"
     ]
    }
   ],
   "source": [
    "μ = 60/(μ_atendimento*S)\n",
    "print('μ:', μ, 'clientes/hora')"
   ]
  },
  {
   "cell_type": "markdown",
   "metadata": {},
   "source": [
    "**g) A ocupação do sistema(em porcentagem);**\n",
    "\n",
    "$\\rho = \\frac{\\lambda}{S*\\mu} * 100 (\\%)$"
   ]
  },
  {
   "cell_type": "code",
   "execution_count": 12,
   "metadata": {
    "collapsed": false
   },
   "outputs": [
    {
     "name": "stdout",
     "output_type": "stream",
     "text": [
      "ρ: 93.10344827585077 %\n"
     ]
    }
   ],
   "source": [
    "ρ = (λ/(S*μ))*100\n",
    "print('ρ:', ρ, '%')"
   ]
  },
  {
   "cell_type": "markdown",
   "metadata": {},
   "source": [
    "**h) A probabilidade de o sistema estar vazio:**\n",
    "\n",
    "$$\n",
    "P_0 = [\n",
    "    \\sum\\limits_{n=0}^{S-1} (\\frac{(\\lambda / \\mu)^n}{n!}) + \n",
    "    \\frac{(\\lambda/\\mu)^S}{S!(1-(\\lambda/(S.\\mu)))}\n",
    "]^{-1}\n",
    "$$"
   ]
  },
  {
   "cell_type": "code",
   "execution_count": 13,
   "metadata": {
    "collapsed": false
   },
   "outputs": [
    {
     "name": "stdout",
     "output_type": "stream",
     "text": [
      "P_0: 0.01656906156266322\n"
     ]
    }
   ],
   "source": [
    "P_0 = (\n",
    "    Σ([(((λ/μ)**n)/(factorial(n))) for n in range(S)]) +\n",
    "    (((λ/μ)**S)/(factorial(S) * (1-(λ/(S*μ)))))\n",
    ")**(-1)\n",
    "\n",
    "print('P_0:', P_0)"
   ]
  },
  {
   "cell_type": "markdown",
   "metadata": {},
   "source": [
    "**i) A probabilidade de todos os servidores estarem ocupados:**\n",
    "\n",
    "$\n",
    "P_{ocupados} = P(n \\leq S) = \\frac{(\\lambda/\\mu)^S}{S!(1-\\lambda/(S.\\mu))}.P_0\n",
    "$\n"
   ]
  },
  {
   "cell_type": "code",
   "execution_count": 14,
   "metadata": {
    "collapsed": false
   },
   "outputs": [
    {
     "name": "stdout",
     "output_type": "stream",
     "text": [
      "P_ocupados: 0.8725206743862136\n"
     ]
    }
   ],
   "source": [
    "P_ocupados = (((λ/μ)**S)/(factorial(S)*(1-(λ/(S*μ))))) * P_0\n",
    "print('P_ocupados:', P_ocupados)"
   ]
  },
  {
   "cell_type": "markdown",
   "metadata": {},
   "source": [
    "**k) O número esperado de usuários na fila:**\n",
    "\n",
    "$\n",
    "L_q = \\frac{(\\lambda/\\mu)^S . \\lambda . \\mu . S}{S!(\\mu . S - \\lambda)^2} . P_0\n",
    "$"
   ]
  },
  {
   "cell_type": "code",
   "execution_count": 15,
   "metadata": {
    "collapsed": false
   },
   "outputs": [
    {
     "name": "stdout",
     "output_type": "stream",
     "text": [
      "L_q: 11.779029104193159 usuários na fila\n"
     ]
    }
   ],
   "source": [
    "L_q = ((((λ/μ)**S)*λ*μ*S)/(factorial(S)*((μ*S-λ)**2)))*P_0\n",
    "print('L_q:', L_q, 'usuários na fila')"
   ]
  },
  {
   "cell_type": "markdown",
   "metadata": {},
   "source": [
    "**j) O número esperado de usuários no sistema:**\n",
    "\n",
    "$\n",
    "L = L_q + \\frac{\\lambda}{\\mu}\n",
    "$"
   ]
  },
  {
   "cell_type": "code",
   "execution_count": 16,
   "metadata": {
    "collapsed": false
   },
   "outputs": [
    {
     "name": "stdout",
     "output_type": "stream",
     "text": [
      "L: 14.572132552468682 usuários no sistema\n"
     ]
    }
   ],
   "source": [
    "L = L_q + (λ/μ)\n",
    "print('L:', L, 'usuários no sistema')"
   ]
  },
  {
   "cell_type": "markdown",
   "metadata": {},
   "source": [
    "**l) O tempo médio dos usuários na fila:**\n",
    "\n",
    "$\n",
    "W_q = \\frac{L_q}{\\lambda}\n",
    "$"
   ]
  },
  {
   "cell_type": "code",
   "execution_count": 17,
   "metadata": {
    "collapsed": false
   },
   "outputs": [
    {
     "name": "stdout",
     "output_type": "stream",
     "text": [
      "W_q: 0.5992839368805194 horas\n"
     ]
    }
   ],
   "source": [
    "W_q = L_q/λ\n",
    "print('W_q:', W_q, 'horas')"
   ]
  },
  {
   "cell_type": "markdown",
   "metadata": {},
   "source": [
    "**m) O tempo provável dos usuários no sistema:**\n",
    "\n",
    "$\n",
    "W = \\frac{L}{\\lambda}\n",
    "$"
   ]
  },
  {
   "cell_type": "code",
   "execution_count": 18,
   "metadata": {
    "collapsed": false
   },
   "outputs": [
    {
     "name": "stdout",
     "output_type": "stream",
     "text": [
      "W: 0.7413892000385194 horas\n"
     ]
    }
   ],
   "source": [
    "W = L/λ\n",
    "print('W:', W, 'horas')"
   ]
  },
  {
   "cell_type": "markdown",
   "metadata": {},
   "source": [
    "**n) Se a taxa de chamadas duplicasse, o que aconteceria com o sistema? E quais as providências que deveriam ser tomadas.**"
   ]
  },
  {
   "cell_type": "code",
   "execution_count": 19,
   "metadata": {
    "collapsed": false
   },
   "outputs": [
    {
     "name": "stdout",
     "output_type": "stream",
     "text": [
      "p_dobro: 186.20689655170153 %\n",
      "O sistema não atinge a estabilidade\n"
     ]
    }
   ],
   "source": [
    "p_dobro = ((λ*2)/(S*μ))\n",
    "print('p_dobro:', p_dobro*100, '%')\n",
    "\n",
    "if p_dobro < 1:\n",
    "    print('Ok: o sistema atinge a estabilidade')\n",
    "else: \n",
    "    print('O sistema não atinge a estabilidade')"
   ]
  },
  {
   "cell_type": "markdown",
   "metadata": {},
   "source": [
    "*Antes de pensar em aumentar a quantidade de servidores, deve ser feito um estudo para identificar se é possível otimizar o tempo de atendimento que pode estar sendo prejudicado por algum procedimento ineficiente ou por lentidão dos rescursos computacionais ou de falta de habilidade do servidor. Depois de haver otimização dos recursos, caso não for suficiente, deverá ser avaliada a opção de aumentar o número de servidores nos horários críticos ou apresentar uma proposta para facilitar o atendimento, como pré-atendimento online ou alguma facilidade extra em horários de pouco fluxo de entrada de clientes*"
   ]
  },
  {
   "cell_type": "markdown",
   "metadata": {},
   "source": [
    "### Teste"
   ]
  },
  {
   "cell_type": "code",
   "execution_count": 20,
   "metadata": {
    "collapsed": false
   },
   "outputs": [],
   "source": [
    "# dados de teste providos pelo professor\n",
    "t_S = 3\n",
    "t_λ = 19.655  # Clientes/hora\n",
    "t_μ = 7.037  # Clientes/hora\n",
    "t_ρ = 0.93  # %\n",
    "t_P_0 = 0.016570  # 1,657 % - Probabilidade 0 clientes\n",
    "# Prob S clientes no sistema 0.060176 -> 6,018 %\n",
    "t_P_ocupados = 0.87251  # 87,251 %\n",
    "t_L_q = 11.78  # clientes\n",
    "t_L = 14.57  # clientes - Número médio clientes no sistema\n",
    "t_W_q = 0.599  # horas - Tempo médio de espera na fila\n",
    "t_W = 0.741  # horas - Tempo médio de espera sistema\n",
    "\n",
    "np.testing.assert_approx_equal(S, t_S)\n",
    "np.testing.assert_approx_equal(λ, t_λ, 3)\n",
    "np.testing.assert_approx_equal(μ, t_μ, 3)\n",
    "np.testing.assert_approx_equal(ρ, t_ρ*100, 1)\n",
    "np.testing.assert_approx_equal(P_0, t_P_0, 3)\n",
    "np.testing.assert_approx_equal(P_ocupados, t_P_ocupados, 3)\n",
    "np.testing.assert_approx_equal(L_q, t_L_q, 3)\n",
    "np.testing.assert_approx_equal(L, t_L, 3)\n",
    "np.testing.assert_approx_equal(W_q, W_q, 3)\n",
    "np.testing.assert_approx_equal(W, t_W, 3)"
   ]
  }
 ],
 "metadata": {
  "kernelspec": {
   "display_name": "Python 3",
   "language": "python",
   "name": "python3"
  },
  "language_info": {
   "codemirror_mode": {
    "name": "ipython",
    "version": 3
   },
   "file_extension": ".py",
   "mimetype": "text/x-python",
   "name": "python",
   "nbconvert_exporter": "python",
   "pygments_lexer": "ipython3",
   "version": "3.5.1"
  }
 },
 "nbformat": 4,
 "nbformat_minor": 0
}
