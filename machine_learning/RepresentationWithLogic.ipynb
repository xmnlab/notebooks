{
 "cells": [
  {
   "cell_type": "markdown",
   "metadata": {
    "toc": "true"
   },
   "source": [
    "# Table of Contents\n",
    " <p><div class=\"lev1\"><a href=\"#Representation-with-Logic\"><span class=\"toc-item-num\">1&nbsp;&nbsp;</span>Representation with Logic</a></div><div class=\"lev2\"><a href=\"#Propositional-Logic\"><span class=\"toc-item-num\">1.1&nbsp;&nbsp;</span>Propositional Logic</a></div>"
   ]
  },
  {
   "cell_type": "markdown",
   "metadata": {},
   "source": [
    "# Representation with Logic"
   ]
  },
  {
   "cell_type": "code",
   "execution_count": 50,
   "metadata": {
    "collapsed": false
   },
   "outputs": [
    {
     "name": "stdout",
     "output_type": "stream",
     "text": [
      "Automatic pdb calling has been turned ON\n"
     ]
    }
   ],
   "source": [
    "%pdb"
   ]
  },
  {
   "cell_type": "code",
   "execution_count": 51,
   "metadata": {
    "collapsed": false
   },
   "outputs": [
    {
     "ename": "SyntaxError",
     "evalue": "invalid syntax (utils.py, line 568)",
     "output_type": "error",
     "traceback": [
      "\u001b[0;36m  File \u001b[0;32m\"/home/xmn/anaconda3/lib/python3.5/site-packages/aima/utils.py\"\u001b[0;36m, line \u001b[0;32m568\u001b[0m\n\u001b[0;31m    def distance((ax, ay), (bx, by)):\u001b[0m\n\u001b[0m                 ^\u001b[0m\n\u001b[0;31mSyntaxError\u001b[0m\u001b[0;31m:\u001b[0m invalid syntax\n"
     ]
    }
   ],
   "source": [
    "from aima import *\n",
    "\n",
    "import pprint\n",
    "\n",
    "sp.init_printing(use_latex='mathjax')"
   ]
  },
  {
   "cell_type": "markdown",
   "metadata": {},
   "source": [
    "## Propositional Logic"
   ]
  },
  {
   "cell_type": "code",
   "execution_count": 47,
   "metadata": {
    "collapsed": true
   },
   "outputs": [],
   "source": [
    "def evaluate(expr: str):\n",
    "    \"\"\"\n",
    "    EVALUATE SATISFIABILITY THE LOGICAL EXPRESSION\n",
    "    \n",
    "    \"\"\"\n",
    "    r = satisfiable(eval(expr))\n",
    "    print('\\n%s:' % expr)\n",
    "    print(str(r))"
   ]
  },
  {
   "cell_type": "code",
   "execution_count": 45,
   "metadata": {
    "collapsed": false
   },
   "outputs": [
    {
     "name": "stdout",
     "output_type": "stream",
     "text": [
      "\n",
      "P | ~P:\n",
      "{P: False}\n",
      "\n",
      "P & ~P:\n",
      "False\n",
      "\n",
      "P | Q | Equivalent(P, Q):\n",
      "{P: True, Q: True}\n",
      "\n",
      "(P >> Q) | (Q >> P):\n",
      "{True: True}\n",
      "\n",
      "((FOOD >> PARTY) | (DRINK >> PARTY)) >> ((FOOD & DRINK) >> PARTY):\n",
      "{DRINK: False, PARTY: True, FOOD: False}\n"
     ]
    }
   ],
   "source": [
    "P, Q = symbols('P Q')\n",
    "FOOD, DRINK, PARTY = symbols('FOOD DRINK PARTY')\n",
    "\n",
    "evaluate('P | ~P')\n",
    "evaluate('P & ~P')\n",
    "evaluate('P | Q | Equivalent(P, Q)')\n",
    "evaluate('(P >> Q) | (Q >> P)')\n",
    "evaluate('((FOOD >> PARTY) | (DRINK >> PARTY)) >> ((FOOD & DRINK) >> PARTY)')"
   ]
  }
 ],
 "metadata": {
  "kernelspec": {
   "display_name": "Python 3",
   "language": "python",
   "name": "python3"
  },
  "language_info": {
   "codemirror_mode": {
    "name": "ipython",
    "version": 3
   },
   "file_extension": ".py",
   "mimetype": "text/x-python",
   "name": "python",
   "nbconvert_exporter": "python",
   "pygments_lexer": "ipython3",
   "version": "3.5.1"
  },
  "latex_envs": {
   "bibliofile": "biblio.bib",
   "cite_by": "apalike",
   "current_citInitial": 1,
   "eqLabelWithNumbers": true,
   "eqNumInitial": 0
  },
  "nav_menu": {},
  "toc": {
   "navigate_menu": true,
   "number_sections": true,
   "sideBar": true,
   "threshold": 6,
   "toc_cell": true,
   "toc_section_display": "block",
   "toc_window_display": true
  }
 },
 "nbformat": 4,
 "nbformat_minor": 0
}
