{
 "cells": [
  {
   "cell_type": "markdown",
   "metadata": {
    "toc": "true"
   },
   "source": [
    "# Table of Contents\n",
    " <p><div class=\"lev1\"><a href=\"#Laplacian-Smoothing\"><span class=\"toc-item-num\">1&nbsp;&nbsp;</span>Laplacian Smoothing</a></div><div class=\"lev2\"><a href=\"#Test---Query-Perfect-Storm\"><span class=\"toc-item-num\">1.1&nbsp;&nbsp;</span>Test - Query Perfect Storm</a></div>"
   ]
  },
  {
   "cell_type": "markdown",
   "metadata": {},
   "source": [
    "# Laplacian Smoothing"
   ]
  },
  {
   "cell_type": "markdown",
   "metadata": {},
   "source": [
    "## Test - Query Perfect Storm"
   ]
  },
  {
   "cell_type": "code",
   "execution_count": 6,
   "metadata": {
    "collapsed": false
   },
   "outputs": [
    {
     "data": {
      "text/plain": [
       "(0.5, 0.5)"
      ]
     },
     "execution_count": 6,
     "metadata": {},
     "output_type": "execute_result"
    }
   ],
   "source": [
    "movie = \"\"\"\n",
    "A PERFECT WORLD\n",
    "MY PERFECT WOMAN\n",
    "PRETTY WOMAN\n",
    "\"\"\"\n",
    "\n",
    "song = \"\"\"\n",
    "A PERFECT DAY\n",
    "ELECTRIC STORM\n",
    "ANOTHER RAIN DAY\n",
    "\"\"\"\n",
    "\n",
    "n_movie = movie.count('\\n')-1\n",
    "n_song = song.count('\\n')-1\n",
    "\n",
    "p_movie = n_movie / (n_movie + n_song)\n",
    "p_song = n_song / (n_movie + n_song)"
   ]
  }
 ],
 "metadata": {
  "kernelspec": {
   "display_name": "Python 3",
   "language": "python",
   "name": "python3"
  },
  "language_info": {
   "codemirror_mode": {
    "name": "ipython",
    "version": 3
   },
   "file_extension": ".py",
   "mimetype": "text/x-python",
   "name": "python",
   "nbconvert_exporter": "python",
   "pygments_lexer": "ipython3",
   "version": "3.5.1"
  },
  "latex_envs": {
   "bibliofile": "biblio.bib",
   "cite_by": "apalike",
   "current_citInitial": 1,
   "eqLabelWithNumbers": true,
   "eqNumInitial": 0
  },
  "nav_menu": {},
  "toc": {
   "navigate_menu": true,
   "number_sections": true,
   "sideBar": true,
   "threshold": 6,
   "toc_cell": true,
   "toc_section_display": "block",
   "toc_window_display": true
  }
 },
 "nbformat": 4,
 "nbformat_minor": 0
}
