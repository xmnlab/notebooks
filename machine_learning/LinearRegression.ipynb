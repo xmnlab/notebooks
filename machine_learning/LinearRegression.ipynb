{
 "cells": [
  {
   "cell_type": "markdown",
   "metadata": {
    "toc": "true"
   },
   "source": [
    "# Table of Contents\n",
    " <p><div class=\"lev1\"><a href=\"#Linear-Regression\"><span class=\"toc-item-num\">1&nbsp;&nbsp;</span>Linear Regression</a></div>"
   ]
  },
  {
   "cell_type": "markdown",
   "metadata": {},
   "source": [
    "# Linear Regression"
   ]
  },
  {
   "cell_type": "code",
   "execution_count": 1,
   "metadata": {
    "collapsed": false
   },
   "outputs": [
    {
     "name": "stdout",
     "output_type": "stream",
     "text": [
      "Automatic pdb calling has been turned ON\n"
     ]
    }
   ],
   "source": [
    "%pdb"
   ]
  },
  {
   "cell_type": "code",
   "execution_count": 2,
   "metadata": {
    "collapsed": true
   },
   "outputs": [],
   "source": [
    "import numpy as np"
   ]
  },
  {
   "cell_type": "code",
   "execution_count": 3,
   "metadata": {
    "collapsed": true
   },
   "outputs": [],
   "source": [
    "def linear_regression(x: np.array, y: np.array):\n",
    "    \"\"\"\n",
    "    THIS METHOD CALCULATES THE LINEAR REGRESION BASED ON THE DATA.\n",
    "    \n",
    "    \"\"\"\n",
    "    M = x.size\n",
    "    \n",
    "    μ = x.mean()\n",
    "    σ2 = x.var()\n",
    "    \n",
    "    w1 = (\n",
    "        (M*(x*y).sum() - x.sum()*y.sum())/\n",
    "        (M*(x**2).sum() - x.sum()**2)\n",
    "    )\n",
    "    w0 = y.mean() - (w1/M) * x.sum()\n",
    "    return w0, w1"
   ]
  },
  {
   "cell_type": "code",
   "execution_count": 4,
   "metadata": {
    "collapsed": false
   },
   "outputs": [
    {
     "name": "stdout",
     "output_type": "stream",
     "text": [
      "w0: 3.4 w1: 1.8\n"
     ]
    }
   ],
   "source": [
    "x = np.array([0, 1, 2, 3, 4])\n",
    "y = np.array([3, 6, 7, 8, 11])\n",
    "\n",
    "w0, w1 = linear_regression(x, y)\n",
    "print('w0:', w0, 'w1:', w1)"
   ]
  }
 ],
 "metadata": {
  "kernelspec": {
   "display_name": "Python 3",
   "language": "python",
   "name": "python3"
  },
  "language_info": {
   "codemirror_mode": {
    "name": "ipython",
    "version": 3
   },
   "file_extension": ".py",
   "mimetype": "text/x-python",
   "name": "python",
   "nbconvert_exporter": "python",
   "pygments_lexer": "ipython3",
   "version": "3.5.1"
  },
  "latex_envs": {
   "bibliofile": "biblio.bib",
   "cite_by": "apalike",
   "current_citInitial": 1,
   "eqLabelWithNumbers": true,
   "eqNumInitial": 0
  },
  "nav_menu": {},
  "toc": {
   "navigate_menu": true,
   "number_sections": true,
   "sideBar": true,
   "threshold": 6,
   "toc_cell": true,
   "toc_section_display": "block",
   "toc_window_display": true
  }
 },
 "nbformat": 4,
 "nbformat_minor": 0
}
