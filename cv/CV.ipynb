{
 "cells": [
  {
   "cell_type": "markdown",
   "metadata": {
    "toc": "true"
   },
   "source": [
    "# Table of Contents\n",
    " <p><div class=\"lev1 toc-item\"><a href=\"#Introduction-to-Computer-Vision\" data-toc-modified-id=\"Introduction-to-Computer-Vision-1\"><span class=\"toc-item-num\">1&nbsp;&nbsp;</span>Introduction to Computer Vision</a></div><div class=\"lev2 toc-item\"><a href=\"#2A-L5:-15\" data-toc-modified-id=\"2A-L5:-15-11\"><span class=\"toc-item-num\">1.1&nbsp;&nbsp;</span>2A-L5: 15</a></div><div class=\"lev2 toc-item\"><a href=\"#2A-L6:-8\" data-toc-modified-id=\"2A-L6:-8-12\"><span class=\"toc-item-num\">1.2&nbsp;&nbsp;</span>2A-L6: 8</a></div><div class=\"lev2 toc-item\"><a href=\"#3A-L1:-12\" data-toc-modified-id=\"3A-L1:-12-13\"><span class=\"toc-item-num\">1.3&nbsp;&nbsp;</span>3A-L1: 12</a></div>"
   ]
  },
  {
   "cell_type": "markdown",
   "metadata": {},
   "source": [
    "# Introduction to Computer Vision"
   ]
  },
  {
   "cell_type": "markdown",
   "metadata": {},
   "source": [
    "## 2A-L5: 15"
   ]
  },
  {
   "cell_type": "code",
   "execution_count": 11,
   "metadata": {
    "collapsed": true
   },
   "outputs": [],
   "source": [
    "pkg load image;"
   ]
  },
  {
   "cell_type": "code",
   "execution_count": 82,
   "metadata": {
    "collapsed": true
   },
   "outputs": [],
   "source": [
    "% Gradient Direction\n",
    "function result = select_gdir0(gmag, gdir, mag_min, angle_low, angle_high)\n",
    "    % TODO Find and return pixels that fall within the desired mag, angle range\n",
    "    gmag(gmag < mag_min) = 0;\n",
    "    gmag(angle_low > gdir) = 0;\n",
    "    gmag(gdir > angle_high) = 0;\n",
    "    result = gmag;\n",
    "endfunction\n",
    "\n",
    "function result = select_gdir(gmag, gdir, mag_min, angle_low, angle_high)\n",
    "    % TODO Find and return pixels that fall within the desired mag, angle range\n",
    "    % gmag(gmag < mag_min) = 0;\n",
    "    % gmag(gdir < angle_low) = 0;\n",
    "    % gmag(gdir > angle_high) = 0;\n",
    "    % result = gmag;\n",
    "    result = gmag >= mag_min & angle_low <= gdir & gdir <= angle_high;\n",
    "endfunction"
   ]
  },
  {
   "cell_type": "code",
   "execution_count": 83,
   "metadata": {},
   "outputs": [
    {
     "name": "stdout",
     "output_type": "stream",
     "text": [
      "error: assert (select_gdir0 (gmag, gdir, 1, 30, 60) == select_gdir (gmag, gdir, 1, 30, 60)) failed\n",
      "error: called from\n",
      "    assert at line 92 column 11\n"
     ]
    }
   ],
   "source": [
    "assert(    \n",
    "    select_gdir0(gmag, gdir, 1, 30, 60) == select_gdir(gmag, gdir, 1, 30, 60)\n",
    ")"
   ]
  },
  {
   "cell_type": "code",
   "execution_count": 10,
   "metadata": {},
   "outputs": [
    {
     "data": {
      "image/png": "[encoded data removed]",
      "text/plain": [
       "<IPython.core.display.Image object>"
      ]
     },
     "metadata": {},
     "output_type": "display_data"
    }
   ],
   "source": [
    "%% Load and convert image to double type, range [0, 1] for convenience\n",
    "img = double(imread('octagon.png')) / 255.; \n",
    "imshow(img); % assumes [0, 1] range for double images"
   ]
  },
  {
   "cell_type": "code",
   "execution_count": 13,
   "metadata": {},
   "outputs": [
    {
     "data": {
      "image/png": "[encoded data removed]",
      "text/plain": [
       "<IPython.core.display.Image object>"
      ]
     },
     "metadata": {},
     "output_type": "display_data"
    }
   ],
   "source": [
    "%% Compute x, y gradients\n",
    "[gx gy] = imgradientxy(img, 'sobel'); % Note: gx, gy are not normalized\n",
    "\n",
    "%% Obtain gradient magnitude and direction\n",
    "[gmag gdir] = imgradient(gx, gy);\n",
    "imshow(gmag / (4 * sqrt(2))); % mag = sqrt(gx^2 + gy^2), so [0, (4 * sqrt(2))]"
   ]
  },
  {
   "cell_type": "code",
   "execution_count": 18,
   "metadata": {},
   "outputs": [
    {
     "data": {
      "image/png": "[encoded data removed]",
      "text/plain": [
       "<IPython.core.display.Image object>"
      ]
     },
     "metadata": {},
     "output_type": "display_data"
    }
   ],
   "source": [
    "imshow((gdir + 180.0) / 360.0); % angle in degrees [-180, 180]"
   ]
  },
  {
   "cell_type": "code",
   "execution_count": 84,
   "metadata": {},
   "outputs": [
    {
     "data": {
      "image/png": "[encoded data removed]",
      "text/plain": [
       "<IPython.core.display.Image object>"
      ]
     },
     "metadata": {},
     "output_type": "display_data"
    }
   ],
   "source": [
    "%% Find pixels with desired gradient direction\n",
    "my_grad = select_gdir(gmag, gdir, 1, 30, 60); % 45 +/- 15\n",
    "\n",
    "imshow(my_grad);  % NOTE: enable after you've implemented select_gdir"
   ]
  },
  {
   "cell_type": "markdown",
   "metadata": {},
   "source": [
    "## 2A-L6: 8"
   ]
  },
  {
   "cell_type": "code",
   "execution_count": 87,
   "metadata": {
    "collapsed": true
   },
   "outputs": [],
   "source": [
    "% edge(img, 'canny')"
   ]
  },
  {
   "cell_type": "code",
   "execution_count": 88,
   "metadata": {},
   "outputs": [
    {
     "data": {
      "image/png": "[encoded data removed]",
      "text/plain": [
       "<IPython.core.display.Image object>"
      ]
     },
     "metadata": {},
     "output_type": "display_data"
    }
   ],
   "source": [
    "frizzy = imread('frizzy.png');\n",
    "froomer = imread('froomer.png');\n",
    "imshow(frizzy);"
   ]
  },
  {
   "cell_type": "code",
   "execution_count": 90,
   "metadata": {},
   "outputs": [
    {
     "data": {
      "image/png": "[encoded data removed]",
      "text/plain": [
       "<IPython.core.display.Image object>"
      ]
     },
     "metadata": {},
     "output_type": "display_data"
    }
   ],
   "source": [
    "imshow(froomer);"
   ]
  },
  {
   "cell_type": "code",
   "execution_count": 117,
   "metadata": {},
   "outputs": [
    {
     "data": {
      "image/png": "[encoded data removed]",
      "text/plain": [
       "<IPython.core.display.Image object>"
      ]
     },
     "metadata": {},
     "output_type": "display_data"
    }
   ],
   "source": [
    "% TODO: Find edges in frizzy and froomer images\n",
    "gfrizzy = rgb2gray(frizzy);\n",
    "efrizzy = edge(gfrizzy, 'canny');\n",
    "\n",
    "imshow(efrizzy);"
   ]
  },
  {
   "cell_type": "code",
   "execution_count": 118,
   "metadata": {},
   "outputs": [
    {
     "data": {
      "image/png": "[encoded data removed]",
      "text/plain": [
       "<IPython.core.display.Image object>"
      ]
     },
     "metadata": {},
     "output_type": "display_data"
    }
   ],
   "source": [
    "gfroomer = rgb2gray(froomer);\n",
    "efroomer = edge(gfroomer, 'canny');\n",
    "\n",
    "imshow(efroomer);"
   ]
  },
  {
   "cell_type": "code",
   "execution_count": 120,
   "metadata": {},
   "outputs": [
    {
     "data": {
      "image/png": "[encoded data removed]",
      "text/plain": [
       "<IPython.core.display.Image object>"
      ]
     },
     "metadata": {},
     "output_type": "display_data"
    }
   ],
   "source": [
    "% TODO: Display common edge pixels\n",
    "imgcommon = efrizzy & efroomer;\n",
    "\n",
    "imshow(imgcommon);\n",
    "% imgcommon"
   ]
  },
  {
   "cell_type": "markdown",
   "metadata": {},
   "source": [
    "## 3A-L1: 12"
   ]
  },
  {
   "cell_type": "code",
   "execution_count": 14,
   "metadata": {},
   "outputs": [],
   "source": [
    "# Thin lens equation \n",
    "# (1/||z'||)+(1/||z||) = 1/f\n",
    "# arctan((d/2)/f)"
   ]
  },
  {
   "cell_type": "code",
   "execution_count": 35,
   "metadata": {},
   "outputs": [
    {
     "name": "stdout",
     "output_type": "stream",
     "text": [
      "d =  35\n",
      "w =  700\n",
      "f =  50\n",
      "z1 =  52.500\n",
      "z =  1050\n"
     ]
    }
   ],
   "source": [
    "% z\n",
    "d = 35 % mm\n",
    "w = 700 % mm\n",
    "f = 50 % mm\n",
    "\n",
    "% z' = (d*f)/w+f\n",
    "z1 = (d*f)/w+f\n",
    "assert(z1 == 52.5)\n",
    "% z = (w/d)*z'\n",
    "z = (w/d)*z1\n",
    "assert(z/1000 == 1.05)"
   ]
  },
  {
   "cell_type": "code",
   "execution_count": 30,
   "metadata": {},
   "outputs": [
    {
     "name": "stdout",
     "output_type": "stream",
     "text": [
      "c =  52.974\n",
      "b =  50.000\n",
      "z1 =  50.000\n",
      "error: assert (z1 == 52.5) failed\n",
      "error: called from\n",
      "    assert at line 92 column 11\n"
     ]
    }
   ],
   "source": []
  },
  {
   "cell_type": "code",
   "execution_count": null,
   "metadata": {
    "collapsed": true
   },
   "outputs": [],
   "source": []
  }
 ],
 "metadata": {
  "kernelspec": {
   "display_name": "Octave",
   "language": "octave",
   "name": "octave"
  },
  "language_info": {
   "file_extension": ".m",
   "help_links": [
    {
     "text": "GNU Octave",
     "url": "https://www.gnu.org/software/octave/support.html"
    },
    {
     "text": "Octave Kernel",
     "url": "https://github.com/Calysto/octave_kernel"
    },
    {
     "text": "MetaKernel Magics",
     "url": "https://github.com/calysto/metakernel/blob/master/metakernel/magics/README.md"
    }
   ],
   "mimetype": "text/x-octave",
   "name": "octave",
   "version": "4.2.1"
  },
  "latex_envs": {
   "LaTeX_envs_menu_present": true,
   "autocomplete": true,
   "bibliofile": "biblio.bib",
   "cite_by": "apalike",
   "current_citInitial": 1,
   "eqLabelWithNumbers": true,
   "eqNumInitial": 1,
   "hotkeys": {
    "equation": "Ctrl-E",
    "itemize": "Ctrl-I"
   },
   "labels_anchors": false,
   "latex_user_defs": false,
   "report_style_numbering": false,
   "user_envs_cfg": false
  },
  "toc": {
   "colors": {
    "hover_highlight": "#DAA520",
    "navigate_num": "#000000",
    "navigate_text": "#333333",
    "running_highlight": "#FF0000",
    "selected_highlight": "#FFD700",
    "sidebar_border": "#EEEEEE",
    "wrapper_background": "#FFFFFF"
   },
   "moveMenuLeft": true,
   "nav_menu": {
    "height": "84px",
    "width": "252px"
   },
   "navigate_menu": true,
   "number_sections": true,
   "sideBar": true,
   "threshold": 4,
   "toc_cell": true,
   "toc_section_display": "block",
   "toc_window_display": true,
   "widenNotebook": false
  }
 },
 "nbformat": 4,
 "nbformat_minor": 2
}
